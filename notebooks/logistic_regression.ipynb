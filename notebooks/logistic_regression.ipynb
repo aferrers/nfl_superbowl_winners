{
 "cells": [
  {
   "cell_type": "markdown",
   "id": "70930c66-9e70-41a7-91c7-0506dbf1df83",
   "metadata": {
    "tags": []
   },
   "source": [
    "#### Libraries and directory creation"
   ]
  },
  {
   "cell_type": "code",
   "execution_count": 495,
   "id": "f2029fe3-7012-4ba6-bf57-e7f95bbbbd4e",
   "metadata": {
    "tags": []
   },
   "outputs": [],
   "source": [
    "import pandas as pd\n",
    "import numpy as np\n",
    "import scipy.stats as st\n",
    "import seaborn as sns\n",
    "import matplotlib.pyplot as plt\n",
    "import os\n",
    "import pickle\n",
    "import functions"
   ]
  },
  {
   "cell_type": "code",
   "execution_count": 496,
   "id": "e47baf8b-f074-4417-a99a-ab250cc9e8be",
   "metadata": {
    "tags": []
   },
   "outputs": [],
   "source": [
    "# Directory creation with Pickle\n",
    "\n",
    "# Designate path, check if exists, and create:\n",
    "directory_path = '../transformers'\n",
    "if not os.path.exists(directory_path):\n",
    "    os.makedirs(directory_path)\n",
    "    \n",
    "directory_path = '../scalers'\n",
    "if not os.path.exists(directory_path):\n",
    "    os.makedirs(directory_path)\n",
    "\n",
    "directory_path = '../models'\n",
    "if not os.path.exists(directory_path):\n",
    "    os.makedirs(directory_path)\n",
    "    \n",
    "directory_path = '../imbalanced_samplers'\n",
    "if not os.path.exists(directory_path):\n",
    "    os.makedirs(directory_path)"
   ]
  },
  {
   "cell_type": "markdown",
   "id": "889926fa-a9f3-4920-a0c9-598930b2ae27",
   "metadata": {
    "tags": []
   },
   "source": [
    "## Defensive Stats: Identifying possible X candidates against y (super bowl appearance and super bowl win)\n"
   ]
  },
  {
   "cell_type": "code",
   "execution_count": 497,
   "id": "9944eb45-6619-4e3a-840a-5a7038a1372b",
   "metadata": {
    "scrolled": true,
    "tags": []
   },
   "outputs": [
    {
     "data": {
      "text/html": [
       "<div>\n",
       "<style scoped>\n",
       "    .dataframe tbody tr th:only-of-type {\n",
       "        vertical-align: middle;\n",
       "    }\n",
       "\n",
       "    .dataframe tbody tr th {\n",
       "        vertical-align: top;\n",
       "    }\n",
       "\n",
       "    .dataframe thead th {\n",
       "        text-align: right;\n",
       "    }\n",
       "</style>\n",
       "<table border=\"1\" class=\"dataframe\">\n",
       "  <thead>\n",
       "    <tr style=\"text-align: right;\">\n",
       "      <th></th>\n",
       "      <th>year</th>\n",
       "      <th>stat_type</th>\n",
       "      <th>team</th>\n",
       "      <th>forced_fumbles</th>\n",
       "      <th>fumble_recoveries</th>\n",
       "      <th>fumble_recovery_td</th>\n",
       "      <th>reception_fumble</th>\n",
       "      <th>rush_fumble</th>\n",
       "      <th>pass_attempt</th>\n",
       "      <th>pass_cmp</th>\n",
       "      <th>...</th>\n",
       "      <th>4th_att</th>\n",
       "      <th>4th_md</th>\n",
       "      <th>rec_1st_all</th>\n",
       "      <th>rec_1st%_all</th>\n",
       "      <th>rush_1st_all</th>\n",
       "      <th>rush_1st%_all</th>\n",
       "      <th>total_plays</th>\n",
       "      <th>year_team</th>\n",
       "      <th>sb_winner</th>\n",
       "      <th>sb_appearance</th>\n",
       "    </tr>\n",
       "  </thead>\n",
       "  <tbody>\n",
       "    <tr>\n",
       "      <th>0</th>\n",
       "      <td>2018</td>\n",
       "      <td>defense</td>\n",
       "      <td>49ers</td>\n",
       "      <td>11</td>\n",
       "      <td>5</td>\n",
       "      <td>0</td>\n",
       "      <td>4</td>\n",
       "      <td>6</td>\n",
       "      <td>542</td>\n",
       "      <td>344</td>\n",
       "      <td>...</td>\n",
       "      <td>17</td>\n",
       "      <td>10</td>\n",
       "      <td>195</td>\n",
       "      <td>56.7</td>\n",
       "      <td>104</td>\n",
       "      <td>23.4</td>\n",
       "      <td>1023</td>\n",
       "      <td>2018_49ers</td>\n",
       "      <td>0</td>\n",
       "      <td>0</td>\n",
       "    </tr>\n",
       "    <tr>\n",
       "      <th>1</th>\n",
       "      <td>2018</td>\n",
       "      <td>defense</td>\n",
       "      <td>Bears</td>\n",
       "      <td>18</td>\n",
       "      <td>9</td>\n",
       "      <td>1</td>\n",
       "      <td>4</td>\n",
       "      <td>5</td>\n",
       "      <td>615</td>\n",
       "      <td>377</td>\n",
       "      <td>...</td>\n",
       "      <td>28</td>\n",
       "      <td>16</td>\n",
       "      <td>186</td>\n",
       "      <td>49.3</td>\n",
       "      <td>67</td>\n",
       "      <td>19.8</td>\n",
       "      <td>1004</td>\n",
       "      <td>2018_Bears</td>\n",
       "      <td>0</td>\n",
       "      <td>0</td>\n",
       "    </tr>\n",
       "    <tr>\n",
       "      <th>2</th>\n",
       "      <td>2018</td>\n",
       "      <td>defense</td>\n",
       "      <td>Bengals</td>\n",
       "      <td>10</td>\n",
       "      <td>6</td>\n",
       "      <td>2</td>\n",
       "      <td>3</td>\n",
       "      <td>3</td>\n",
       "      <td>584</td>\n",
       "      <td>389</td>\n",
       "      <td>...</td>\n",
       "      <td>17</td>\n",
       "      <td>11</td>\n",
       "      <td>221</td>\n",
       "      <td>56.8</td>\n",
       "      <td>125</td>\n",
       "      <td>26.8</td>\n",
       "      <td>1084</td>\n",
       "      <td>2018_Bengals</td>\n",
       "      <td>0</td>\n",
       "      <td>0</td>\n",
       "    </tr>\n",
       "    <tr>\n",
       "      <th>3</th>\n",
       "      <td>2018</td>\n",
       "      <td>defense</td>\n",
       "      <td>Bills</td>\n",
       "      <td>21</td>\n",
       "      <td>11</td>\n",
       "      <td>0</td>\n",
       "      <td>4</td>\n",
       "      <td>10</td>\n",
       "      <td>492</td>\n",
       "      <td>313</td>\n",
       "      <td>...</td>\n",
       "      <td>11</td>\n",
       "      <td>6</td>\n",
       "      <td>157</td>\n",
       "      <td>50.2</td>\n",
       "      <td>111</td>\n",
       "      <td>25.2</td>\n",
       "      <td>968</td>\n",
       "      <td>2018_Bills</td>\n",
       "      <td>0</td>\n",
       "      <td>0</td>\n",
       "    </tr>\n",
       "    <tr>\n",
       "      <th>4</th>\n",
       "      <td>2018</td>\n",
       "      <td>defense</td>\n",
       "      <td>Broncos</td>\n",
       "      <td>13</td>\n",
       "      <td>10</td>\n",
       "      <td>0</td>\n",
       "      <td>3</td>\n",
       "      <td>6</td>\n",
       "      <td>549</td>\n",
       "      <td>353</td>\n",
       "      <td>...</td>\n",
       "      <td>11</td>\n",
       "      <td>6</td>\n",
       "      <td>197</td>\n",
       "      <td>55.8</td>\n",
       "      <td>85</td>\n",
       "      <td>19.8</td>\n",
       "      <td>1022</td>\n",
       "      <td>2018_Broncos</td>\n",
       "      <td>0</td>\n",
       "      <td>0</td>\n",
       "    </tr>\n",
       "    <tr>\n",
       "      <th>...</th>\n",
       "      <td>...</td>\n",
       "      <td>...</td>\n",
       "      <td>...</td>\n",
       "      <td>...</td>\n",
       "      <td>...</td>\n",
       "      <td>...</td>\n",
       "      <td>...</td>\n",
       "      <td>...</td>\n",
       "      <td>...</td>\n",
       "      <td>...</td>\n",
       "      <td>...</td>\n",
       "      <td>...</td>\n",
       "      <td>...</td>\n",
       "      <td>...</td>\n",
       "      <td>...</td>\n",
       "      <td>...</td>\n",
       "      <td>...</td>\n",
       "      <td>...</td>\n",
       "      <td>...</td>\n",
       "      <td>...</td>\n",
       "      <td>...</td>\n",
       "    </tr>\n",
       "    <tr>\n",
       "      <th>155</th>\n",
       "      <td>2021</td>\n",
       "      <td>defense</td>\n",
       "      <td>Seahawks</td>\n",
       "      <td>9</td>\n",
       "      <td>7</td>\n",
       "      <td>0</td>\n",
       "      <td>1</td>\n",
       "      <td>5</td>\n",
       "      <td>658</td>\n",
       "      <td>443</td>\n",
       "      <td>...</td>\n",
       "      <td>31</td>\n",
       "      <td>13</td>\n",
       "      <td>240</td>\n",
       "      <td>54.2</td>\n",
       "      <td>124</td>\n",
       "      <td>24.4</td>\n",
       "      <td>1201</td>\n",
       "      <td>2021_Seahawks</td>\n",
       "      <td>0</td>\n",
       "      <td>0</td>\n",
       "    </tr>\n",
       "    <tr>\n",
       "      <th>156</th>\n",
       "      <td>2021</td>\n",
       "      <td>defense</td>\n",
       "      <td>Steelers</td>\n",
       "      <td>18</td>\n",
       "      <td>9</td>\n",
       "      <td>0</td>\n",
       "      <td>7</td>\n",
       "      <td>7</td>\n",
       "      <td>563</td>\n",
       "      <td>355</td>\n",
       "      <td>...</td>\n",
       "      <td>24</td>\n",
       "      <td>13</td>\n",
       "      <td>186</td>\n",
       "      <td>52.4</td>\n",
       "      <td>144</td>\n",
       "      <td>28.9</td>\n",
       "      <td>1116</td>\n",
       "      <td>2021_Steelers</td>\n",
       "      <td>0</td>\n",
       "      <td>0</td>\n",
       "    </tr>\n",
       "    <tr>\n",
       "      <th>157</th>\n",
       "      <td>2021</td>\n",
       "      <td>defense</td>\n",
       "      <td>Texans</td>\n",
       "      <td>16</td>\n",
       "      <td>8</td>\n",
       "      <td>0</td>\n",
       "      <td>4</td>\n",
       "      <td>10</td>\n",
       "      <td>546</td>\n",
       "      <td>363</td>\n",
       "      <td>...</td>\n",
       "      <td>19</td>\n",
       "      <td>11</td>\n",
       "      <td>218</td>\n",
       "      <td>60.1</td>\n",
       "      <td>135</td>\n",
       "      <td>25.8</td>\n",
       "      <td>1101</td>\n",
       "      <td>2021_Texans</td>\n",
       "      <td>0</td>\n",
       "      <td>0</td>\n",
       "    </tr>\n",
       "    <tr>\n",
       "      <th>158</th>\n",
       "      <td>2021</td>\n",
       "      <td>defense</td>\n",
       "      <td>Titans</td>\n",
       "      <td>13</td>\n",
       "      <td>6</td>\n",
       "      <td>1</td>\n",
       "      <td>7</td>\n",
       "      <td>4</td>\n",
       "      <td>628</td>\n",
       "      <td>395</td>\n",
       "      <td>...</td>\n",
       "      <td>24</td>\n",
       "      <td>14</td>\n",
       "      <td>204</td>\n",
       "      <td>51.6</td>\n",
       "      <td>90</td>\n",
       "      <td>24.5</td>\n",
       "      <td>1039</td>\n",
       "      <td>2021_Titans</td>\n",
       "      <td>0</td>\n",
       "      <td>0</td>\n",
       "    </tr>\n",
       "    <tr>\n",
       "      <th>159</th>\n",
       "      <td>2021</td>\n",
       "      <td>defense</td>\n",
       "      <td>Vikings</td>\n",
       "      <td>13</td>\n",
       "      <td>8</td>\n",
       "      <td>0</td>\n",
       "      <td>3</td>\n",
       "      <td>4</td>\n",
       "      <td>626</td>\n",
       "      <td>401</td>\n",
       "      <td>...</td>\n",
       "      <td>30</td>\n",
       "      <td>15</td>\n",
       "      <td>224</td>\n",
       "      <td>55.9</td>\n",
       "      <td>131</td>\n",
       "      <td>27.6</td>\n",
       "      <td>1152</td>\n",
       "      <td>2021_Vikings</td>\n",
       "      <td>0</td>\n",
       "      <td>0</td>\n",
       "    </tr>\n",
       "  </tbody>\n",
       "</table>\n",
       "<p>160 rows × 56 columns</p>\n",
       "</div>"
      ],
      "text/plain": [
       "     year stat_type      team  forced_fumbles  fumble_recoveries  \\\n",
       "0    2018   defense     49ers              11                  5   \n",
       "1    2018   defense     Bears              18                  9   \n",
       "2    2018   defense   Bengals              10                  6   \n",
       "3    2018   defense     Bills              21                 11   \n",
       "4    2018   defense   Broncos              13                 10   \n",
       "..    ...       ...       ...             ...                ...   \n",
       "155  2021   defense  Seahawks               9                  7   \n",
       "156  2021   defense  Steelers              18                  9   \n",
       "157  2021   defense    Texans              16                  8   \n",
       "158  2021   defense    Titans              13                  6   \n",
       "159  2021   defense   Vikings              13                  8   \n",
       "\n",
       "     fumble_recovery_td  reception_fumble  rush_fumble  pass_attempt  \\\n",
       "0                     0                 4            6           542   \n",
       "1                     1                 4            5           615   \n",
       "2                     2                 3            3           584   \n",
       "3                     0                 4           10           492   \n",
       "4                     0                 3            6           549   \n",
       "..                  ...               ...          ...           ...   \n",
       "155                   0                 1            5           658   \n",
       "156                   0                 7            7           563   \n",
       "157                   0                 4           10           546   \n",
       "158                   1                 7            4           628   \n",
       "159                   0                 3            4           626   \n",
       "\n",
       "     pass_cmp  ...  4th_att  4th_md  rec_1st_all  rec_1st%_all  rush_1st_all  \\\n",
       "0         344  ...       17      10          195          56.7           104   \n",
       "1         377  ...       28      16          186          49.3            67   \n",
       "2         389  ...       17      11          221          56.8           125   \n",
       "3         313  ...       11       6          157          50.2           111   \n",
       "4         353  ...       11       6          197          55.8            85   \n",
       "..        ...  ...      ...     ...          ...           ...           ...   \n",
       "155       443  ...       31      13          240          54.2           124   \n",
       "156       355  ...       24      13          186          52.4           144   \n",
       "157       363  ...       19      11          218          60.1           135   \n",
       "158       395  ...       24      14          204          51.6            90   \n",
       "159       401  ...       30      15          224          55.9           131   \n",
       "\n",
       "     rush_1st%_all  total_plays      year_team  sb_winner  sb_appearance  \n",
       "0             23.4         1023     2018_49ers          0              0  \n",
       "1             19.8         1004     2018_Bears          0              0  \n",
       "2             26.8         1084   2018_Bengals          0              0  \n",
       "3             25.2          968     2018_Bills          0              0  \n",
       "4             19.8         1022   2018_Broncos          0              0  \n",
       "..             ...          ...            ...        ...            ...  \n",
       "155           24.4         1201  2021_Seahawks          0              0  \n",
       "156           28.9         1116  2021_Steelers          0              0  \n",
       "157           25.8         1101    2021_Texans          0              0  \n",
       "158           24.5         1039    2021_Titans          0              0  \n",
       "159           27.6         1152   2021_Vikings          0              0  \n",
       "\n",
       "[160 rows x 56 columns]"
      ]
     },
     "execution_count": 497,
     "metadata": {},
     "output_type": "execute_result"
    }
   ],
   "source": [
    "defensive_df = pd.read_csv('../data/cleaned/2017-2021_aggregated_team_defensive_stats_with_sb_cleaned.csv')\n",
    "defensive_df"
   ]
  },
  {
   "cell_type": "code",
   "execution_count": 498,
   "id": "d827bed5-ac6d-4a76-93b2-09bf87253cf4",
   "metadata": {
    "tags": []
   },
   "outputs": [],
   "source": [
    "defensive_df['sb_winner'] = defensive_df['sb_winner'].astype(bool)\n",
    "defensive_df['sb_appearance'] = defensive_df['sb_appearance'].astype(bool)"
   ]
  },
  {
   "cell_type": "code",
   "execution_count": 499,
   "id": "335a30a2-d8a9-4eaa-a7ac-5fa1abbb3307",
   "metadata": {
    "tags": []
   },
   "outputs": [
    {
     "data": {
      "text/plain": [
       "(10, 48)"
      ]
     },
     "metadata": {},
     "output_type": "display_data"
    },
    {
     "data": {
      "text/plain": [
       "(150, 48)"
      ]
     },
     "metadata": {},
     "output_type": "display_data"
    }
   ],
   "source": [
    "# Splitting dataframe to check numerical columns for statistical difference between means to identify \n",
    "# potential X candidates for logistic regression\n",
    "\n",
    "defensive_sb_app = defensive_df.loc[defensive_df['sb_appearance'] == True].select_dtypes(np.number)\n",
    "defensive_nosb_app = defensive_df.loc[defensive_df['sb_appearance'] == False].select_dtypes(np.number)\n",
    "display(defensive_sb_app.shape)\n",
    "display(defensive_nosb_app.shape)"
   ]
  },
  {
   "cell_type": "code",
   "execution_count": 500,
   "id": "a36eaa0d-5505-4ecd-ba1b-5a83540a2956",
   "metadata": {
    "tags": []
   },
   "outputs": [
    {
     "name": "stdout",
     "output_type": "stream",
     "text": [
      "year: 108.9918957048916 2.1513474772124718e-24\n",
      "fumble_recovery_td: 49.14683315337764 2.1276528978139807e-11\n",
      "reception_fumble: 11.928844385146638 0.0025685282934255435\n",
      "rush_td: 15.8233382139905 0.00036644243823465156\n",
      "rush_20+: 20.28046970621588 3.9459534542918395e-05\n",
      "rush_40+: 20.342820777004306 3.8248340337508586e-05\n",
      "int_td: 15.927186414814166 0.0003479007891770097\n",
      "int_yds: 8.4320904425152 0.014756889488830064\n",
      "SFTY: 40.758633111181034 1.4105070946861231e-09\n",
      "/n\n"
     ]
    }
   ],
   "source": [
    "# checking degree of normal distribution for numerical columns to consider \n",
    "# when looking for significant difference between various population means\n",
    "functions.normaltest_mult_col(defensive_nosb_app)"
   ]
  },
  {
   "cell_type": "code",
   "execution_count": 501,
   "id": "06d51237-66a5-42d0-9ebc-e8db494df025",
   "metadata": {
    "tags": []
   },
   "outputs": [
    {
     "name": "stdout",
     "output_type": "stream",
     "text": [
      "fumble_recovery_td: 8.067546329668009 0.017707390842496836\n",
      "pass_td: 8.170506485345058 0.0168188795186067\n",
      "opp_qb_rate: 21.53932839303407 2.1027820810452017e-05\n",
      "pass_1st: 8.835285673182934 0.012062632395416202\n",
      "pass_1st%: 8.899378557738487 0.01168219631175743\n",
      "rush_20+: 0.0009657092936791859 0.9995172619087048\n",
      "int_yds: 9.689639955745971 0.007869033927709705\n",
      "3rd_md: 12.081782682587942 0.0023794370775936527\n",
      "rec_1st_all: 8.835285673182934 0.012062632395416202\n",
      "/n\n"
     ]
    },
    {
     "name": "stderr",
     "output_type": "stream",
     "text": [
      "/Users/alexferrer/Desktop/bootcamp/Week_5/sbw_f/venv_sbw/lib/python3.11/site-packages/scipy/stats/_stats_py.py:1806: UserWarning: kurtosistest only valid for n>=20 ... continuing anyway, n=10\n",
      "  warnings.warn(\"kurtosistest only valid for n>=20 ... continuing \"\n"
     ]
    }
   ],
   "source": [
    "functions.normaltest_mult_col(defensive_sb_app)"
   ]
  },
  {
   "cell_type": "code",
   "execution_count": 502,
   "id": "8751871f-9c06-4fce-90e1-16c3d53c2d67",
   "metadata": {
    "tags": []
   },
   "outputs": [
    {
     "name": "stdout",
     "output_type": "stream",
     "text": [
      "year 0.0 1.0\n",
      "rush_att -2.6545076268991243 0.008755154814211187\n",
      "rush_td -2.457023444957893 0.015090868797000936\n",
      "rec_yds -0.011103310641426846 0.9911550292367656\n",
      "total_sack -3.138259871223912 0.002028155161349757\n"
     ]
    }
   ],
   "source": [
    "# identifying potential X candidates for appearing in a super bowl (win or lose)\n",
    "functions.ttest_ind_2(defensive_df, 'sb_appearance', True, False, 9)"
   ]
  },
  {
   "cell_type": "code",
   "execution_count": 503,
   "id": "bdc787a6-2b87-40d8-ab24-4de49684a6eb",
   "metadata": {
    "tags": []
   },
   "outputs": [],
   "source": [
    "# Creating list of columns as X candidates to use for logistic regression model. \n",
    "potential_x_candidates_app_with_y = ['rush_att', 'rush_td', 'rec_yds', 'total_sack', 'sb_appearance']"
   ]
  },
  {
   "cell_type": "code",
   "execution_count": 504,
   "id": "7c170157-49d1-42c6-8481-7be8f88a224e",
   "metadata": {
    "tags": []
   },
   "outputs": [],
   "source": [
    "defensive_df_appearance = defensive_df[potential_x_candidates_app_with_y]"
   ]
  },
  {
   "cell_type": "markdown",
   "id": "cb7c37b0-019d-475e-b0b9-4a7af6320324",
   "metadata": {
    "tags": []
   },
   "source": [
    "### Logistic Regression for Defense appearing in a superbowl"
   ]
  },
  {
   "cell_type": "code",
   "execution_count": 505,
   "id": "502a877a-8688-4435-b032-2aaff7061ba7",
   "metadata": {
    "tags": []
   },
   "outputs": [],
   "source": [
    "# Split into X and y\n",
    "X = defensive_df_appearance.drop(columns='sb_appearance')\n",
    "y = defensive_df_appearance['sb_appearance']"
   ]
  },
  {
   "cell_type": "code",
   "execution_count": 506,
   "id": "7627f820-a004-4532-8d6c-e2e974591813",
   "metadata": {
    "tags": []
   },
   "outputs": [],
   "source": [
    "# train test data split\n",
    "from sklearn.model_selection import train_test_split\n",
    "X_train, X_test, y_train, y_test = train_test_split(X, y, test_size=0.3, random_state=5)"
   ]
  },
  {
   "cell_type": "code",
   "execution_count": 507,
   "id": "f89e59a9-c235-417f-a5fe-0e25629cd6a3",
   "metadata": {
    "tags": []
   },
   "outputs": [],
   "source": [
    "# no categorical data in X. Only numerical. \n",
    "X_train_num = X_train.select_dtypes(np.number)\n",
    "X_test_num = X_test.select_dtypes(np.number)"
   ]
  },
  {
   "cell_type": "code",
   "execution_count": 508,
   "id": "bc7b1168-18ed-493c-859a-d06af031bf0d",
   "metadata": {},
   "outputs": [],
   "source": [
    "# No categorical column encoding required. "
   ]
  },
  {
   "cell_type": "code",
   "execution_count": 509,
   "id": "c8fa8a10-1d9e-4387-8277-0b65e1958e0f",
   "metadata": {
    "tags": []
   },
   "outputs": [
    {
     "data": {
      "text/html": [
       "<div>\n",
       "<style scoped>\n",
       "    .dataframe tbody tr th:only-of-type {\n",
       "        vertical-align: middle;\n",
       "    }\n",
       "\n",
       "    .dataframe tbody tr th {\n",
       "        vertical-align: top;\n",
       "    }\n",
       "\n",
       "    .dataframe thead th {\n",
       "        text-align: right;\n",
       "    }\n",
       "</style>\n",
       "<table border=\"1\" class=\"dataframe\">\n",
       "  <thead>\n",
       "    <tr style=\"text-align: right;\">\n",
       "      <th></th>\n",
       "      <th>rush_att</th>\n",
       "      <th>rush_td</th>\n",
       "      <th>rec_yds</th>\n",
       "      <th>total_sack</th>\n",
       "    </tr>\n",
       "  </thead>\n",
       "  <tbody>\n",
       "    <tr>\n",
       "      <th>4</th>\n",
       "      <td>0.029115</td>\n",
       "      <td>-0.779503</td>\n",
       "      <td>0.554836</td>\n",
       "      <td>-0.447503</td>\n",
       "    </tr>\n",
       "    <tr>\n",
       "      <th>133</th>\n",
       "      <td>0.211207</td>\n",
       "      <td>-0.268785</td>\n",
       "      <td>-0.746155</td>\n",
       "      <td>0.931956</td>\n",
       "    </tr>\n",
       "    <tr>\n",
       "      <th>136</th>\n",
       "      <td>1.763053</td>\n",
       "      <td>1.512957</td>\n",
       "      <td>-0.057098</td>\n",
       "      <td>-0.734531</td>\n",
       "    </tr>\n",
       "    <tr>\n",
       "      <th>43</th>\n",
       "      <td>-0.482903</td>\n",
       "      <td>-0.033901</td>\n",
       "      <td>-0.335423</td>\n",
       "      <td>-1.524182</td>\n",
       "    </tr>\n",
       "    <tr>\n",
       "      <th>124</th>\n",
       "      <td>-1.012615</td>\n",
       "      <td>-0.033901</td>\n",
       "      <td>-0.996659</td>\n",
       "      <td>-1.423271</td>\n",
       "    </tr>\n",
       "  </tbody>\n",
       "</table>\n",
       "</div>"
      ],
      "text/plain": [
       "     rush_att   rush_td   rec_yds  total_sack\n",
       "4    0.029115 -0.779503  0.554836   -0.447503\n",
       "133  0.211207 -0.268785 -0.746155    0.931956\n",
       "136  1.763053  1.512957 -0.057098   -0.734531\n",
       "43  -0.482903 -0.033901 -0.335423   -1.524182\n",
       "124 -1.012615 -0.033901 -0.996659   -1.423271"
      ]
     },
     "execution_count": 509,
     "metadata": {},
     "output_type": "execute_result"
    }
   ],
   "source": [
    "from sklearn.preprocessing import PowerTransformer\n",
    "\n",
    "trans = PowerTransformer()\n",
    "\n",
    "trans.fit(X_train_num)\n",
    "\n",
    "X_train_transf = trans.transform(X_train_num)\n",
    "X_test_transf = trans.transform(X_test_num)\n",
    "\n",
    "X_train_transf_df = pd.DataFrame(X_train_transf, columns=X_train_num.columns, index=X_train_num.index)\n",
    "X_test_transf_df = pd.DataFrame(X_test_transf, columns=X_train_num.columns, index=X_test_num.index)\n",
    "\n",
    "X_train_transf_df.head()"
   ]
  },
  {
   "cell_type": "code",
   "execution_count": 510,
   "id": "9ebc6386-e405-44fd-98e6-837e4bc08362",
   "metadata": {
    "tags": []
   },
   "outputs": [],
   "source": [
    "# saving to directory:\n",
    "path = \"../transformers/\"\n",
    "filename = \"powertransformer_def_app.pkl\"\n",
    "with open(path+filename, \"wb\") as file:\n",
    "    pickle.dump(trans, file)"
   ]
  },
  {
   "cell_type": "code",
   "execution_count": 511,
   "id": "900898dd-5a04-471f-a20e-e4fe975055a8",
   "metadata": {
    "tags": []
   },
   "outputs": [
    {
     "data": {
      "text/html": [
       "<div>\n",
       "<style scoped>\n",
       "    .dataframe tbody tr th:only-of-type {\n",
       "        vertical-align: middle;\n",
       "    }\n",
       "\n",
       "    .dataframe tbody tr th {\n",
       "        vertical-align: top;\n",
       "    }\n",
       "\n",
       "    .dataframe thead th {\n",
       "        text-align: right;\n",
       "    }\n",
       "</style>\n",
       "<table border=\"1\" class=\"dataframe\">\n",
       "  <thead>\n",
       "    <tr style=\"text-align: right;\">\n",
       "      <th></th>\n",
       "      <th>rush_att</th>\n",
       "      <th>rush_td</th>\n",
       "      <th>rec_yds</th>\n",
       "      <th>total_sack</th>\n",
       "    </tr>\n",
       "  </thead>\n",
       "  <tbody>\n",
       "    <tr>\n",
       "      <th>4</th>\n",
       "      <td>0.538273</td>\n",
       "      <td>0.365220</td>\n",
       "      <td>0.612993</td>\n",
       "      <td>0.445479</td>\n",
       "    </tr>\n",
       "    <tr>\n",
       "      <th>133</th>\n",
       "      <td>0.579092</td>\n",
       "      <td>0.455195</td>\n",
       "      <td>0.340702</td>\n",
       "      <td>0.749306</td>\n",
       "    </tr>\n",
       "    <tr>\n",
       "      <th>136</th>\n",
       "      <td>0.926966</td>\n",
       "      <td>0.769088</td>\n",
       "      <td>0.484918</td>\n",
       "      <td>0.382260</td>\n",
       "    </tr>\n",
       "    <tr>\n",
       "      <th>43</th>\n",
       "      <td>0.423495</td>\n",
       "      <td>0.496575</td>\n",
       "      <td>0.426666</td>\n",
       "      <td>0.208338</td>\n",
       "    </tr>\n",
       "    <tr>\n",
       "      <th>124</th>\n",
       "      <td>0.304750</td>\n",
       "      <td>0.496575</td>\n",
       "      <td>0.288273</td>\n",
       "      <td>0.230564</td>\n",
       "    </tr>\n",
       "  </tbody>\n",
       "</table>\n",
       "</div>"
      ],
      "text/plain": [
       "     rush_att   rush_td   rec_yds  total_sack\n",
       "4    0.538273  0.365220  0.612993    0.445479\n",
       "133  0.579092  0.455195  0.340702    0.749306\n",
       "136  0.926966  0.769088  0.484918    0.382260\n",
       "43   0.423495  0.496575  0.426666    0.208338\n",
       "124  0.304750  0.496575  0.288273    0.230564"
      ]
     },
     "execution_count": 511,
     "metadata": {},
     "output_type": "execute_result"
    }
   ],
   "source": [
    "from sklearn.preprocessing import MinMaxScaler\n",
    "\n",
    "scaler = MinMaxScaler()\n",
    "\n",
    "scaler.fit(X_train_transf_df)\n",
    "\n",
    "X_train_scaled =  scaler.transform(X_train_transf_df)\n",
    "X_test_scaled = scaler.transform(X_test_transf_df)\n",
    "\n",
    "X_train_scaled_df = pd.DataFrame(X_train_scaled, columns=X_train_transf_df.columns, index=X_train_transf_df.index)\n",
    "X_test_scaled_df = pd.DataFrame(X_test_scaled, columns=X_train_transf_df.columns, index=X_test_transf_df.index)\n",
    "\n",
    "X_train_scaled_df.head()"
   ]
  },
  {
   "cell_type": "code",
   "execution_count": 512,
   "id": "e5982904-0b15-48ac-bb79-19871ca76931",
   "metadata": {
    "tags": []
   },
   "outputs": [],
   "source": [
    "# saving to directory:\n",
    "path = \"../scalers/\"\n",
    "filename = \"MinMaxScaler_def_app.pkl\"\n",
    "with open(path+filename, \"wb\") as file:\n",
    "    pickle.dump(scaler, file)"
   ]
  },
  {
   "cell_type": "markdown",
   "id": "3ca1e564-6156-409b-a0dc-1795ea4eb104",
   "metadata": {},
   "source": [
    "####  Training Logistic Regression Models for Super Bowl Appearance"
   ]
  },
  {
   "cell_type": "code",
   "execution_count": 513,
   "id": "8ded0cb6-66a5-495d-bc42-8d5b6571db0f",
   "metadata": {},
   "outputs": [],
   "source": [
    "# Training model with saga as solver. \n",
    "# As there are no true or false positives in (some) of the prediction results, zero_division=0 \n",
    "# has been added to the precision score parameters to avoid warning messages of zero division\n",
    "# (Precision be calculated in this example by 2/(0+0) or 2 positives from the y_test divided by\n",
    "# the sum of 0 true positives and 0 false positives.\n",
    "\n",
    "from sklearn.linear_model import LogisticRegression\n",
    "from sklearn.metrics import accuracy_score, precision_score, recall_score, f1_score, cohen_kappa_score\n",
    "\n",
    "classification = LogisticRegression(random_state=0, solver='saga',\n",
    "                  multi_class='auto')\n",
    "\n",
    "classification.fit(X_train_scaled_df, y_train)\n",
    "\n",
    "y_test_pred = classification.predict(X_test_scaled_df)"
   ]
  },
  {
   "cell_type": "code",
   "execution_count": 514,
   "id": "a43d7bf0-43c6-4145-881d-f8ca8041a2ac",
   "metadata": {
    "tags": []
   },
   "outputs": [
    {
     "data": {
      "text/html": [
       "<div>\n",
       "<style scoped>\n",
       "    .dataframe tbody tr th:only-of-type {\n",
       "        vertical-align: middle;\n",
       "    }\n",
       "\n",
       "    .dataframe tbody tr th {\n",
       "        vertical-align: top;\n",
       "    }\n",
       "\n",
       "    .dataframe thead th {\n",
       "        text-align: right;\n",
       "    }\n",
       "</style>\n",
       "<table border=\"1\" class=\"dataframe\">\n",
       "  <thead>\n",
       "    <tr style=\"text-align: right;\">\n",
       "      <th></th>\n",
       "      <th>Model Name</th>\n",
       "      <th>Accuracy</th>\n",
       "      <th>Precision</th>\n",
       "      <th>Recall</th>\n",
       "      <th>F1</th>\n",
       "      <th>Kappa</th>\n",
       "    </tr>\n",
       "  </thead>\n",
       "  <tbody>\n",
       "    <tr>\n",
       "      <th>0</th>\n",
       "      <td>def_app_saga</td>\n",
       "      <td>0.958333</td>\n",
       "      <td>0.0</td>\n",
       "      <td>0.0</td>\n",
       "      <td>0.0</td>\n",
       "      <td>0.0</td>\n",
       "    </tr>\n",
       "  </tbody>\n",
       "</table>\n",
       "</div>"
      ],
      "text/plain": [
       "     Model Name  Accuracy  Precision  Recall   F1  Kappa\n",
       "0  def_app_saga  0.958333        0.0     0.0  0.0    0.0"
      ]
     },
     "execution_count": 514,
     "metadata": {},
     "output_type": "execute_result"
    }
   ],
   "source": [
    "# calculate and store model error metrics in df\n",
    "class_log_reg_def_app_saga_score=functions.class_error_metrics_report_m('def_app_saga',y_test,y_test_pred)\n",
    "class_log_reg_def_app_saga_score"
   ]
  },
  {
   "cell_type": "code",
   "execution_count": 515,
   "id": "0a2852ef-ba17-4f94-8472-a05d6f629f43",
   "metadata": {
    "tags": []
   },
   "outputs": [],
   "source": [
    "# saving to directory:\n",
    "path = \"../models/\"\n",
    "filename = \"class_log_reg_def_app_saga.pkl\"\n",
    "with open(path+filename, \"wb\") as file:\n",
    "    pickle.dump(classification, file)"
   ]
  },
  {
   "cell_type": "code",
   "execution_count": 516,
   "id": "6cdd9aa7-99ba-416d-a65f-25e34fc787a2",
   "metadata": {},
   "outputs": [],
   "source": [
    "# Training model wtih lbfgs as solver to see if there is any difference between scores. \n",
    "from sklearn.linear_model import LogisticRegression\n",
    "\n",
    "classification = LogisticRegression(random_state=0, solver='lbfgs',\n",
    "                  multi_class='auto')\n",
    "\n",
    "classification.fit(X_train_scaled_df, y_train)\n",
    "\n",
    "y_pred_test = classification.predict(X_test_scaled_df)\n",
    "\n",
    "from sklearn.metrics import accuracy_score"
   ]
  },
  {
   "cell_type": "code",
   "execution_count": 517,
   "id": "9370d97a-002f-4945-ba8b-ac0137d13186",
   "metadata": {},
   "outputs": [
    {
     "data": {
      "text/html": [
       "<div>\n",
       "<style scoped>\n",
       "    .dataframe tbody tr th:only-of-type {\n",
       "        vertical-align: middle;\n",
       "    }\n",
       "\n",
       "    .dataframe tbody tr th {\n",
       "        vertical-align: top;\n",
       "    }\n",
       "\n",
       "    .dataframe thead th {\n",
       "        text-align: right;\n",
       "    }\n",
       "</style>\n",
       "<table border=\"1\" class=\"dataframe\">\n",
       "  <thead>\n",
       "    <tr style=\"text-align: right;\">\n",
       "      <th></th>\n",
       "      <th>Model Name</th>\n",
       "      <th>Accuracy</th>\n",
       "      <th>Precision</th>\n",
       "      <th>Recall</th>\n",
       "      <th>F1</th>\n",
       "      <th>Kappa</th>\n",
       "    </tr>\n",
       "  </thead>\n",
       "  <tbody>\n",
       "    <tr>\n",
       "      <th>0</th>\n",
       "      <td>def_app_lbfgs</td>\n",
       "      <td>0.958333</td>\n",
       "      <td>0.0</td>\n",
       "      <td>0.0</td>\n",
       "      <td>0.0</td>\n",
       "      <td>0.0</td>\n",
       "    </tr>\n",
       "  </tbody>\n",
       "</table>\n",
       "</div>"
      ],
      "text/plain": [
       "      Model Name  Accuracy  Precision  Recall   F1  Kappa\n",
       "0  def_app_lbfgs  0.958333        0.0     0.0  0.0    0.0"
      ]
     },
     "execution_count": 517,
     "metadata": {},
     "output_type": "execute_result"
    }
   ],
   "source": [
    "# calculate and store model error metrics in df\n",
    "class_log_reg_def_app_lbfgs_score=functions.class_error_metrics_report_m('def_app_lbfgs',y_test,y_test_pred)\n",
    "class_log_reg_def_app_lbfgs_score"
   ]
  },
  {
   "cell_type": "code",
   "execution_count": 518,
   "id": "fab2036b-fdc0-4374-9945-cff64375b826",
   "metadata": {
    "tags": []
   },
   "outputs": [],
   "source": [
    "# saving to directory:\n",
    "path = \"../models/\"\n",
    "filename = \"class_log_reg_def_app_lbfgs.pkl\"\n",
    "with open(path+filename, \"wb\") as file:\n",
    "    pickle.dump(classification, file)"
   ]
  },
  {
   "cell_type": "code",
   "execution_count": 519,
   "id": "f253de87-74ba-400d-a11f-5c40f9e9c020",
   "metadata": {},
   "outputs": [
    {
     "data": {
      "image/png": "[encoded data removed]",
      "text/plain": [
       "<Figure size 640x480 with 2 Axes>"
      ]
     },
     "metadata": {},
     "output_type": "display_data"
    }
   ],
   "source": [
    "from sklearn.metrics import confusion_matrix, ConfusionMatrixDisplay\n",
    "\n",
    "cm_test = confusion_matrix(y_test, y_test_pred)\n",
    "\n",
    "disp = ConfusionMatrixDisplay(cm_test,display_labels=classification.classes_)\n",
    "disp.plot()\n",
    "plt.show()"
   ]
  },
  {
   "cell_type": "code",
   "execution_count": 520,
   "id": "bf8cbcad-c83a-4b76-b343-357b1cb0d5c3",
   "metadata": {},
   "outputs": [
    {
     "data": {
      "text/plain": [
       "sb_appearance\n",
       "False    46\n",
       "True      2\n",
       "Name: count, dtype: int64"
      ]
     },
     "execution_count": 520,
     "metadata": {},
     "output_type": "execute_result"
    },
    {
     "data": {
      "image/png": "[encoded data removed]",
      "text/plain": [
       "<Figure size 640x480 with 1 Axes>"
      ]
     },
     "metadata": {},
     "output_type": "display_data"
    }
   ],
   "source": [
    "# Looking at dataset imbalance. \n",
    "sns.countplot(data=defensive_df_appearance, x='sb_appearance')\n",
    "len(defensive_df_appearance.loc[defensive_df_appearance['sb_appearance'] == True])\n",
    "# Based on True values only seen in 6% of dataset, oversampling of true rows required. \n",
    "y_test.value_counts()"
   ]
  },
  {
   "cell_type": "markdown",
   "id": "83dbfa55-ffd1-419e-87dd-02aad7912aa1",
   "metadata": {},
   "source": [
    "#### Addressing imbalance of data for superbowl appearances and retraining logistic regression model"
   ]
  },
  {
   "cell_type": "code",
   "execution_count": 521,
   "id": "515b0bf4-65b8-4f55-9edd-725ce7bd17a2",
   "metadata": {},
   "outputs": [],
   "source": [
    "# Using SMOTE method to balance TRUE and FALSE values in sb_appearance column\n",
    "from imblearn.over_sampling import SMOTE\n",
    "\n",
    "sm = SMOTE(random_state=100,k_neighbors=5)\n",
    "\n",
    "X_train_SMOTE, y_train_SMOTE = sm.fit_resample(X_train_scaled_df, y_train)"
   ]
  },
  {
   "cell_type": "code",
   "execution_count": 522,
   "id": "4107737a-281e-404e-9a04-fc172971d93c",
   "metadata": {},
   "outputs": [],
   "source": [
    "# saving to directory:\n",
    "path = \"../imbalanced_samplers/\"\n",
    "filename = \"smote_def_app.pkl\"\n",
    "with open(path+filename, \"wb\") as file:\n",
    "    pickle.dump(sm, file)"
   ]
  },
  {
   "cell_type": "code",
   "execution_count": 523,
   "id": "a6e0353e-df49-4a6b-b665-eedf2e3fc1ff",
   "metadata": {},
   "outputs": [
    {
     "name": "stdout",
     "output_type": "stream",
     "text": [
      "112 208\n"
     ]
    },
    {
     "data": {
      "text/plain": [
       "sb_appearance\n",
       "False    104\n",
       "True     104\n",
       "Name: count, dtype: int64"
      ]
     },
     "execution_count": 523,
     "metadata": {},
     "output_type": "execute_result"
    }
   ],
   "source": [
    "print(len(X_train_scaled_df), len(X_train_SMOTE))\n",
    "y_train_SMOTE.value_counts()"
   ]
  },
  {
   "cell_type": "code",
   "execution_count": 524,
   "id": "94c1a1a6-d9bd-496b-a52e-5a29a15b5ac6",
   "metadata": {},
   "outputs": [],
   "source": [
    "# Re-running the logistic regression model with OVER sampled df for TRUE values. \n",
    "lr = LogisticRegression(max_iter=1000)\n",
    "lr.fit(X_train_SMOTE, y_train_SMOTE)\n",
    "y_pred_test_SMOTE = lr.predict(X_test_scaled_df)"
   ]
  },
  {
   "cell_type": "code",
   "execution_count": 525,
   "id": "68beac12-6328-4392-ba6c-95dbed24f2cb",
   "metadata": {
    "tags": []
   },
   "outputs": [
    {
     "data": {
      "text/html": [
       "<div>\n",
       "<style scoped>\n",
       "    .dataframe tbody tr th:only-of-type {\n",
       "        vertical-align: middle;\n",
       "    }\n",
       "\n",
       "    .dataframe tbody tr th {\n",
       "        vertical-align: top;\n",
       "    }\n",
       "\n",
       "    .dataframe thead th {\n",
       "        text-align: right;\n",
       "    }\n",
       "</style>\n",
       "<table border=\"1\" class=\"dataframe\">\n",
       "  <thead>\n",
       "    <tr style=\"text-align: right;\">\n",
       "      <th></th>\n",
       "      <th>Model Name</th>\n",
       "      <th>Accuracy</th>\n",
       "      <th>Precision</th>\n",
       "      <th>Recall</th>\n",
       "      <th>F1</th>\n",
       "      <th>Kappa</th>\n",
       "    </tr>\n",
       "  </thead>\n",
       "  <tbody>\n",
       "    <tr>\n",
       "      <th>0</th>\n",
       "      <td>def_app_oversampling</td>\n",
       "      <td>0.645833</td>\n",
       "      <td>0.105263</td>\n",
       "      <td>1.0</td>\n",
       "      <td>0.190476</td>\n",
       "      <td>0.124464</td>\n",
       "    </tr>\n",
       "  </tbody>\n",
       "</table>\n",
       "</div>"
      ],
      "text/plain": [
       "             Model Name  Accuracy  Precision  Recall        F1     Kappa\n",
       "0  def_app_oversampling  0.645833   0.105263     1.0  0.190476  0.124464"
      ]
     },
     "execution_count": 525,
     "metadata": {},
     "output_type": "execute_result"
    }
   ],
   "source": [
    "# calculate and store model error metrics in df\n",
    "class_log_reg_def_app_oversampling_score=functions.class_error_metrics_report_m('def_app_oversampling',y_test,y_pred_test_SMOTE)\n",
    "class_log_reg_def_app_oversampling_score"
   ]
  },
  {
   "cell_type": "code",
   "execution_count": 526,
   "id": "3bc5b69f-6cb1-49ee-b9e4-5bf4a91b67d9",
   "metadata": {
    "tags": []
   },
   "outputs": [],
   "source": [
    "# saving to directory:\n",
    "path = \"../models/\"\n",
    "filename = \"class_log_reg_def_app_oversampling.pkl\"\n",
    "with open(path+filename, \"wb\") as file:\n",
    "    pickle.dump(lr, file)"
   ]
  },
  {
   "cell_type": "code",
   "execution_count": 527,
   "id": "78d8f66d-3922-471a-8acb-d93c670fc367",
   "metadata": {},
   "outputs": [
    {
     "data": {
      "image/png": "[encoded data removed]",
      "text/plain": [
       "<Figure size 640x480 with 2 Axes>"
      ]
     },
     "metadata": {},
     "output_type": "display_data"
    }
   ],
   "source": [
    "cm_test = confusion_matrix(y_test, y_pred_test_SMOTE)\n",
    "\n",
    "disp = ConfusionMatrixDisplay(cm_test,display_labels=classification.classes_)\n",
    "disp.plot()\n",
    "plt.show()"
   ]
  },
  {
   "cell_type": "markdown",
   "id": "36fe69ca-0a1e-4b47-b34f-8541fc8ca86d",
   "metadata": {
    "tags": []
   },
   "source": [
    "### Logistic Regression for Defense winning in a superbowl"
   ]
  },
  {
   "cell_type": "code",
   "execution_count": 528,
   "id": "24f50bdd-f90c-425b-b420-8bedab12607e",
   "metadata": {},
   "outputs": [],
   "source": [
    "defensive_sb_win = defensive_df.loc[defensive_df['sb_winner'] == 1].select_dtypes(np.number)"
   ]
  },
  {
   "cell_type": "code",
   "execution_count": 529,
   "id": "734eda99-af26-41f7-b780-28c4d7d28d97",
   "metadata": {},
   "outputs": [
    {
     "name": "stdout",
     "output_type": "stream",
     "text": [
      "year 0.0 1.0\n",
      "reception_fumble 2.0312898823041303 0.043901652337641026\n",
      "pass_attempt 2.1110632241713967 0.03634081820893282\n",
      "rush_att -2.7936812739817616 0.005856148534420825\n",
      "rush_td -1.998733864621806 0.04735223696124111\n",
      "3rd_md -2.01380378579999 0.04572736716254495\n"
     ]
    }
   ],
   "source": [
    "# identifying potential X candidates for winning in a super bowl\n",
    "# using significance level as 0.1 due to small size of dataset\n",
    "functions.ttest_ind_2(defensive_df, 'sb_winner', True, False, 9, 0.1)"
   ]
  },
  {
   "cell_type": "code",
   "execution_count": 530,
   "id": "7d2aff52-079e-451d-b321-81f349608ff6",
   "metadata": {},
   "outputs": [],
   "source": [
    "potential_x_candidates_win_with_y = ['rush_att', 'reception_fumble', 'pass_attempt', '3rd_md', 'sb_winner']"
   ]
  },
  {
   "cell_type": "code",
   "execution_count": 531,
   "id": "13313433-ef18-406f-981e-64e8ab641bd6",
   "metadata": {},
   "outputs": [],
   "source": [
    "defensive_df_winner = defensive_df[potential_x_candidates_win_with_y]"
   ]
  },
  {
   "cell_type": "code",
   "execution_count": 532,
   "id": "720fafa3-aa50-4d5e-8a61-86b073b9ce41",
   "metadata": {},
   "outputs": [],
   "source": [
    "# Split into X and y\n",
    "X = defensive_df_winner.drop(columns='sb_winner')\n",
    "y = defensive_df_winner['sb_winner']"
   ]
  },
  {
   "cell_type": "code",
   "execution_count": 533,
   "id": "e15b73c4-0292-44c3-a006-b527507dfe8a",
   "metadata": {},
   "outputs": [
    {
     "data": {
      "text/plain": [
       "(sb_winner\n",
       " False    47\n",
       " True      1\n",
       " Name: count, dtype: int64,\n",
       " sb_winner\n",
       " False    108\n",
       " True       4\n",
       " Name: count, dtype: int64)"
      ]
     },
     "execution_count": 533,
     "metadata": {},
     "output_type": "execute_result"
    }
   ],
   "source": [
    "# train test data split\n",
    "\n",
    "# checking y_split value counts to ensure there is enough data for the model to be trained on regarding super bowl winners and their corresponding statistics\n",
    "\n",
    "from sklearn.model_selection import train_test_split\n",
    "X_train, X_test, y_train, y_test = train_test_split(X, y, test_size=0.30, random_state=5)\n",
    "y_test.value_counts(), y_train.value_counts()"
   ]
  },
  {
   "cell_type": "code",
   "execution_count": 534,
   "id": "8b09057c-c8e0-4bec-a752-a9f24721f683",
   "metadata": {},
   "outputs": [],
   "source": [
    "# no categorical data in X. Only numerical. \n",
    "X_train_num = X_train.select_dtypes(np.number)\n",
    "X_test_num = X_test.select_dtypes(np.number)"
   ]
  },
  {
   "cell_type": "code",
   "execution_count": 535,
   "id": "8fed6cc6-501a-4e66-bf84-7e2f175535b8",
   "metadata": {},
   "outputs": [],
   "source": [
    "# No categorical column encoding required. "
   ]
  },
  {
   "cell_type": "code",
   "execution_count": 536,
   "id": "1a7461ec-fda4-4918-8372-bb358a1ee195",
   "metadata": {
    "tags": []
   },
   "outputs": [
    {
     "data": {
      "text/html": [
       "<div>\n",
       "<style scoped>\n",
       "    .dataframe tbody tr th:only-of-type {\n",
       "        vertical-align: middle;\n",
       "    }\n",
       "\n",
       "    .dataframe tbody tr th {\n",
       "        vertical-align: top;\n",
       "    }\n",
       "\n",
       "    .dataframe thead th {\n",
       "        text-align: right;\n",
       "    }\n",
       "</style>\n",
       "<table border=\"1\" class=\"dataframe\">\n",
       "  <thead>\n",
       "    <tr style=\"text-align: right;\">\n",
       "      <th></th>\n",
       "      <th>rush_att</th>\n",
       "      <th>reception_fumble</th>\n",
       "      <th>pass_attempt</th>\n",
       "      <th>3rd_md</th>\n",
       "    </tr>\n",
       "  </thead>\n",
       "  <tbody>\n",
       "    <tr>\n",
       "      <th>4</th>\n",
       "      <td>0.029115</td>\n",
       "      <td>-0.251701</td>\n",
       "      <td>-0.266864</td>\n",
       "      <td>0.045085</td>\n",
       "    </tr>\n",
       "    <tr>\n",
       "      <th>133</th>\n",
       "      <td>0.211207</td>\n",
       "      <td>0.195749</td>\n",
       "      <td>0.379368</td>\n",
       "      <td>0.396358</td>\n",
       "    </tr>\n",
       "    <tr>\n",
       "      <th>136</th>\n",
       "      <td>1.763053</td>\n",
       "      <td>0.604037</td>\n",
       "      <td>-0.020996</td>\n",
       "      <td>2.106978</td>\n",
       "    </tr>\n",
       "    <tr>\n",
       "      <th>43</th>\n",
       "      <td>-0.482903</td>\n",
       "      <td>-0.251701</td>\n",
       "      <td>0.217110</td>\n",
       "      <td>-1.364456</td>\n",
       "    </tr>\n",
       "    <tr>\n",
       "      <th>124</th>\n",
       "      <td>-1.012615</td>\n",
       "      <td>0.604037</td>\n",
       "      <td>-1.627727</td>\n",
       "      <td>-0.876853</td>\n",
       "    </tr>\n",
       "  </tbody>\n",
       "</table>\n",
       "</div>"
      ],
      "text/plain": [
       "     rush_att  reception_fumble  pass_attempt    3rd_md\n",
       "4    0.029115         -0.251701     -0.266864  0.045085\n",
       "133  0.211207          0.195749      0.379368  0.396358\n",
       "136  1.763053          0.604037     -0.020996  2.106978\n",
       "43  -0.482903         -0.251701      0.217110 -1.364456\n",
       "124 -1.012615          0.604037     -1.627727 -0.876853"
      ]
     },
     "execution_count": 536,
     "metadata": {},
     "output_type": "execute_result"
    }
   ],
   "source": [
    "from sklearn.preprocessing import PowerTransformer\n",
    "\n",
    "trans = PowerTransformer()\n",
    "\n",
    "trans.fit(X_train_num)\n",
    "\n",
    "X_train_transf = trans.transform(X_train_num)\n",
    "X_test_transf = trans.transform(X_test_num)\n",
    "\n",
    "X_train_transf_df = pd.DataFrame(X_train_transf, columns=X_train_num.columns, index=X_train_num.index)\n",
    "X_test_transf_df = pd.DataFrame(X_test_transf, columns=X_train_num.columns, index=X_test_num.index)\n",
    "\n",
    "X_train_transf_df.head()"
   ]
  },
  {
   "cell_type": "code",
   "execution_count": 537,
   "id": "bc627262-8946-4705-ab57-8d5ca8bde331",
   "metadata": {
    "tags": []
   },
   "outputs": [],
   "source": [
    "# saving to directory:\n",
    "path = \"../transformers/\"\n",
    "filename = \"powertransformer_def_win.pkl\"\n",
    "with open(path+filename, \"wb\") as file:\n",
    "    pickle.dump(trans, file)"
   ]
  },
  {
   "cell_type": "code",
   "execution_count": 538,
   "id": "282b6820-46d8-482a-b319-8d90bcd1e9ca",
   "metadata": {
    "tags": []
   },
   "outputs": [
    {
     "data": {
      "text/html": [
       "<div>\n",
       "<style scoped>\n",
       "    .dataframe tbody tr th:only-of-type {\n",
       "        vertical-align: middle;\n",
       "    }\n",
       "\n",
       "    .dataframe tbody tr th {\n",
       "        vertical-align: top;\n",
       "    }\n",
       "\n",
       "    .dataframe thead th {\n",
       "        text-align: right;\n",
       "    }\n",
       "</style>\n",
       "<table border=\"1\" class=\"dataframe\">\n",
       "  <thead>\n",
       "    <tr style=\"text-align: right;\">\n",
       "      <th></th>\n",
       "      <th>rush_att</th>\n",
       "      <th>reception_fumble</th>\n",
       "      <th>pass_attempt</th>\n",
       "      <th>3rd_md</th>\n",
       "    </tr>\n",
       "  </thead>\n",
       "  <tbody>\n",
       "    <tr>\n",
       "      <th>4</th>\n",
       "      <td>0.538273</td>\n",
       "      <td>0.392511</td>\n",
       "      <td>0.430389</td>\n",
       "      <td>0.568836</td>\n",
       "    </tr>\n",
       "    <tr>\n",
       "      <th>133</th>\n",
       "      <td>0.579092</td>\n",
       "      <td>0.488296</td>\n",
       "      <td>0.566720</td>\n",
       "      <td>0.632851</td>\n",
       "    </tr>\n",
       "    <tr>\n",
       "      <th>136</th>\n",
       "      <td>0.926966</td>\n",
       "      <td>0.575697</td>\n",
       "      <td>0.482258</td>\n",
       "      <td>0.944590</td>\n",
       "    </tr>\n",
       "    <tr>\n",
       "      <th>43</th>\n",
       "      <td>0.423495</td>\n",
       "      <td>0.392511</td>\n",
       "      <td>0.532490</td>\n",
       "      <td>0.311966</td>\n",
       "    </tr>\n",
       "    <tr>\n",
       "      <th>124</th>\n",
       "      <td>0.304750</td>\n",
       "      <td>0.575697</td>\n",
       "      <td>0.143299</td>\n",
       "      <td>0.400825</td>\n",
       "    </tr>\n",
       "  </tbody>\n",
       "</table>\n",
       "</div>"
      ],
      "text/plain": [
       "     rush_att  reception_fumble  pass_attempt    3rd_md\n",
       "4    0.538273          0.392511      0.430389  0.568836\n",
       "133  0.579092          0.488296      0.566720  0.632851\n",
       "136  0.926966          0.575697      0.482258  0.944590\n",
       "43   0.423495          0.392511      0.532490  0.311966\n",
       "124  0.304750          0.575697      0.143299  0.400825"
      ]
     },
     "execution_count": 538,
     "metadata": {},
     "output_type": "execute_result"
    }
   ],
   "source": [
    "from sklearn.preprocessing import MinMaxScaler\n",
    "\n",
    "scaler = MinMaxScaler()\n",
    "\n",
    "scaler.fit(X_train_transf_df)\n",
    "\n",
    "X_train_scaled =  scaler.transform(X_train_transf_df)\n",
    "X_test_scaled = scaler.transform(X_test_transf_df)\n",
    "\n",
    "X_train_scaled_df = pd.DataFrame(X_train_scaled, columns=X_train_transf_df.columns, index=X_train_transf_df.index)\n",
    "X_test_scaled_df = pd.DataFrame(X_test_scaled, columns=X_train_transf_df.columns, index=X_test_transf_df.index)\n",
    "\n",
    "X_train_scaled_df.head()"
   ]
  },
  {
   "cell_type": "code",
   "execution_count": 539,
   "id": "e45176ed-f929-4b06-9df0-f7c0d5a055bd",
   "metadata": {
    "tags": []
   },
   "outputs": [],
   "source": [
    "# saving to directory:\n",
    "path = \"../scalers/\"\n",
    "filename = \"MinMaxScaler_def_win.pkl\"\n",
    "with open(path+filename, \"wb\") as file:\n",
    "    pickle.dump(scaler, file)"
   ]
  },
  {
   "cell_type": "markdown",
   "id": "5cd0e205-2e52-49a5-954a-d057810a98f0",
   "metadata": {},
   "source": [
    "####  Training Logistic Regression Models for Super Bowl Win"
   ]
  },
  {
   "cell_type": "code",
   "execution_count": 540,
   "id": "100f65b4-950d-4522-838e-3aebc0d8ce1b",
   "metadata": {
    "tags": []
   },
   "outputs": [],
   "source": [
    "# Training model with saga as solver. \n",
    "from sklearn.linear_model import LogisticRegression\n",
    "\n",
    "classification = LogisticRegression(random_state=0, solver='saga',\n",
    "                  multi_class='auto')\n",
    "\n",
    "classification.fit(X_train_scaled_df, y_train)\n",
    "\n",
    "y_pred_test = classification.predict(X_test_scaled_df)\n",
    "\n",
    "from sklearn.metrics import accuracy_score"
   ]
  },
  {
   "cell_type": "code",
   "execution_count": 541,
   "id": "4e755884-6719-49fa-ad26-b7b0031d88cf",
   "metadata": {
    "tags": []
   },
   "outputs": [
    {
     "data": {
      "text/html": [
       "<div>\n",
       "<style scoped>\n",
       "    .dataframe tbody tr th:only-of-type {\n",
       "        vertical-align: middle;\n",
       "    }\n",
       "\n",
       "    .dataframe tbody tr th {\n",
       "        vertical-align: top;\n",
       "    }\n",
       "\n",
       "    .dataframe thead th {\n",
       "        text-align: right;\n",
       "    }\n",
       "</style>\n",
       "<table border=\"1\" class=\"dataframe\">\n",
       "  <thead>\n",
       "    <tr style=\"text-align: right;\">\n",
       "      <th></th>\n",
       "      <th>Model Name</th>\n",
       "      <th>Accuracy</th>\n",
       "      <th>Precision</th>\n",
       "      <th>Recall</th>\n",
       "      <th>F1</th>\n",
       "      <th>Kappa</th>\n",
       "    </tr>\n",
       "  </thead>\n",
       "  <tbody>\n",
       "    <tr>\n",
       "      <th>0</th>\n",
       "      <td>def_win_saga</td>\n",
       "      <td>0.979167</td>\n",
       "      <td>0.0</td>\n",
       "      <td>0.0</td>\n",
       "      <td>0.0</td>\n",
       "      <td>0.0</td>\n",
       "    </tr>\n",
       "  </tbody>\n",
       "</table>\n",
       "</div>"
      ],
      "text/plain": [
       "     Model Name  Accuracy  Precision  Recall   F1  Kappa\n",
       "0  def_win_saga  0.979167        0.0     0.0  0.0    0.0"
      ]
     },
     "execution_count": 541,
     "metadata": {},
     "output_type": "execute_result"
    }
   ],
   "source": [
    "# calculate and store model error metrics in df\n",
    "class_log_reg_def_win_saga_score=functions.class_error_metrics_report_m('def_win_saga',y_test,y_pred_test)\n",
    "class_log_reg_def_win_saga_score"
   ]
  },
  {
   "cell_type": "code",
   "execution_count": 542,
   "id": "30649cef-3e07-41e8-8319-6b8698dd9669",
   "metadata": {
    "tags": []
   },
   "outputs": [],
   "source": [
    "# saving to directory:\n",
    "path = \"../models/\"\n",
    "filename = \"class_log_reg_def_win_saga.pkl\"\n",
    "with open(path+filename, \"wb\") as file:\n",
    "    pickle.dump(classification, file)"
   ]
  },
  {
   "cell_type": "code",
   "execution_count": 543,
   "id": "36ba97f8-e4cd-4c05-8083-a64990cadeb8",
   "metadata": {
    "tags": []
   },
   "outputs": [],
   "source": [
    "# Training model wtih lbfgs as solver to see if there is any difference between scores. \n",
    "\n",
    "classification = LogisticRegression(random_state=0, solver='lbfgs',\n",
    "                  multi_class='auto')\n",
    "\n",
    "classification.fit(X_train_scaled_df, y_train)\n",
    "\n",
    "y_pred_test = classification.predict(X_test_scaled_df)\n",
    "\n",
    "from sklearn.metrics import accuracy_score"
   ]
  },
  {
   "cell_type": "code",
   "execution_count": 544,
   "id": "9217d09d-a17f-4cbc-b9a0-0e02f6a4931c",
   "metadata": {},
   "outputs": [
    {
     "data": {
      "text/html": [
       "<div>\n",
       "<style scoped>\n",
       "    .dataframe tbody tr th:only-of-type {\n",
       "        vertical-align: middle;\n",
       "    }\n",
       "\n",
       "    .dataframe tbody tr th {\n",
       "        vertical-align: top;\n",
       "    }\n",
       "\n",
       "    .dataframe thead th {\n",
       "        text-align: right;\n",
       "    }\n",
       "</style>\n",
       "<table border=\"1\" class=\"dataframe\">\n",
       "  <thead>\n",
       "    <tr style=\"text-align: right;\">\n",
       "      <th></th>\n",
       "      <th>Model Name</th>\n",
       "      <th>Accuracy</th>\n",
       "      <th>Precision</th>\n",
       "      <th>Recall</th>\n",
       "      <th>F1</th>\n",
       "      <th>Kappa</th>\n",
       "    </tr>\n",
       "  </thead>\n",
       "  <tbody>\n",
       "    <tr>\n",
       "      <th>0</th>\n",
       "      <td>def_win_lbfgs</td>\n",
       "      <td>0.979167</td>\n",
       "      <td>0.0</td>\n",
       "      <td>0.0</td>\n",
       "      <td>0.0</td>\n",
       "      <td>0.0</td>\n",
       "    </tr>\n",
       "  </tbody>\n",
       "</table>\n",
       "</div>"
      ],
      "text/plain": [
       "      Model Name  Accuracy  Precision  Recall   F1  Kappa\n",
       "0  def_win_lbfgs  0.979167        0.0     0.0  0.0    0.0"
      ]
     },
     "execution_count": 544,
     "metadata": {},
     "output_type": "execute_result"
    }
   ],
   "source": [
    "# calculate and store model error metrics in df\n",
    "class_log_reg_def_win_lbfgs_score=functions.class_error_metrics_report_m('def_win_lbfgs',y_test,y_pred_test)\n",
    "class_log_reg_def_win_lbfgs_score"
   ]
  },
  {
   "cell_type": "code",
   "execution_count": 545,
   "id": "0cbaebf3-e5b9-4c79-891e-791e8af1340a",
   "metadata": {
    "tags": []
   },
   "outputs": [],
   "source": [
    "# saving to directory:\n",
    "path = \"../models/\"\n",
    "filename = \"class_log_reg_def_win_lbfgs.pkl\"\n",
    "with open(path+filename, \"wb\") as file:\n",
    "    pickle.dump(classification, file)"
   ]
  },
  {
   "cell_type": "code",
   "execution_count": 546,
   "id": "84dff490-b912-4ffc-9834-c1bbd02ecc2d",
   "metadata": {},
   "outputs": [
    {
     "data": {
      "image/png": "[encoded data removed]",
      "text/plain": [
       "<Figure size 640x480 with 2 Axes>"
      ]
     },
     "metadata": {},
     "output_type": "display_data"
    }
   ],
   "source": [
    "from sklearn.metrics import confusion_matrix, ConfusionMatrixDisplay\n",
    "\n",
    "cm_test = confusion_matrix(y_test, y_pred_test)\n",
    "\n",
    "disp = ConfusionMatrixDisplay(cm_test,display_labels=classification.classes_)\n",
    "disp.plot()\n",
    "plt.show()"
   ]
  },
  {
   "cell_type": "code",
   "execution_count": 547,
   "id": "477cbb05-ee8c-4875-87fe-264f86fe053e",
   "metadata": {},
   "outputs": [
    {
     "data": {
      "text/plain": [
       "(sb_winner\n",
       " False    47\n",
       " True      1\n",
       " Name: count, dtype: int64,\n",
       " sb_winner\n",
       " False    108\n",
       " True       4\n",
       " Name: count, dtype: int64)"
      ]
     },
     "execution_count": 547,
     "metadata": {},
     "output_type": "execute_result"
    },
    {
     "data": {
      "image/png": "[encoded data removed]",
      "text/plain": [
       "<Figure size 640x480 with 1 Axes>"
      ]
     },
     "metadata": {},
     "output_type": "display_data"
    }
   ],
   "source": [
    "# Looking at dataset imbalance. \n",
    "sns.countplot(data=defensive_df_winner, x='sb_winner')\n",
    "len(defensive_df_appearance.loc[defensive_df_winner['sb_winner'] == True])\n",
    "# Based on True values only seen in 6% of dataset, oversampling of true rows required. \n",
    "y_test.value_counts(), y_train.value_counts()"
   ]
  },
  {
   "cell_type": "markdown",
   "id": "cb58bb6b-4a53-4fa0-8bd6-67c5b81a1593",
   "metadata": {},
   "source": [
    "#### Addressing imbalance of data for superbowl for superbowl wins"
   ]
  },
  {
   "cell_type": "code",
   "execution_count": 548,
   "id": "da2d19ba-efb7-42f2-94a6-868b6c1e551a",
   "metadata": {},
   "outputs": [],
   "source": [
    "# Using SMOTE method to balance TRUE and FALSE values in sb_appearance column\n",
    "\n",
    "# Using k_neighbors = 2 here due to severely low sample size. \n",
    "# What this likely means, the model will likely be less accurate at predicting real scenarios of super bowl wins, unless more data from \n",
    "# past years is fed into the model. \n",
    "\n",
    "from imblearn.over_sampling import SMOTE\n",
    "\n",
    "sm = SMOTE(random_state=9, k_neighbors=3)\n",
    "\n",
    "X_train_SMOTE, y_train_SMOTE = sm.fit_resample(X_train_scaled_df, y_train)"
   ]
  },
  {
   "cell_type": "code",
   "execution_count": 549,
   "id": "db200373-f9f0-40ba-9ac5-bd471d79affa",
   "metadata": {},
   "outputs": [],
   "source": [
    "# saving to directory:\n",
    "path = \"../imbalanced_samplers/\"\n",
    "filename = \"smote_def_win.pkl\"\n",
    "with open(path+filename, \"wb\") as file:\n",
    "    pickle.dump(sm, file)"
   ]
  },
  {
   "cell_type": "code",
   "execution_count": 550,
   "id": "dab3991c-7ff9-4ce7-b067-af07e3461aa5",
   "metadata": {},
   "outputs": [
    {
     "name": "stdout",
     "output_type": "stream",
     "text": [
      "112 216\n"
     ]
    },
    {
     "data": {
      "text/plain": [
       "sb_winner\n",
       "False    108\n",
       "True     108\n",
       "Name: count, dtype: int64"
      ]
     },
     "execution_count": 550,
     "metadata": {},
     "output_type": "execute_result"
    }
   ],
   "source": [
    "print(len(X_train_scaled_df), len(X_train_SMOTE))\n",
    "y_train_SMOTE.value_counts()"
   ]
  },
  {
   "cell_type": "code",
   "execution_count": 551,
   "id": "915cacb0-a538-4f5c-80d1-2e28c1924db7",
   "metadata": {
    "tags": []
   },
   "outputs": [],
   "source": [
    "# Re-running the logistic regression model with OVER sampled df for TRUE values. \n",
    "lr = LogisticRegression(max_iter=1000)\n",
    "lr.fit(X_train_SMOTE, y_train_SMOTE)\n",
    "y_pred_test_SMOTE = lr.predict(X_test_scaled_df)"
   ]
  },
  {
   "cell_type": "code",
   "execution_count": 552,
   "id": "f71172d0-fe4b-47d8-903e-6fb112414c56",
   "metadata": {
    "tags": []
   },
   "outputs": [
    {
     "data": {
      "text/html": [
       "<div>\n",
       "<style scoped>\n",
       "    .dataframe tbody tr th:only-of-type {\n",
       "        vertical-align: middle;\n",
       "    }\n",
       "\n",
       "    .dataframe tbody tr th {\n",
       "        vertical-align: top;\n",
       "    }\n",
       "\n",
       "    .dataframe thead th {\n",
       "        text-align: right;\n",
       "    }\n",
       "</style>\n",
       "<table border=\"1\" class=\"dataframe\">\n",
       "  <thead>\n",
       "    <tr style=\"text-align: right;\">\n",
       "      <th></th>\n",
       "      <th>Model Name</th>\n",
       "      <th>Accuracy</th>\n",
       "      <th>Precision</th>\n",
       "      <th>Recall</th>\n",
       "      <th>F1</th>\n",
       "      <th>Kappa</th>\n",
       "    </tr>\n",
       "  </thead>\n",
       "  <tbody>\n",
       "    <tr>\n",
       "      <th>0</th>\n",
       "      <td>def_win_oversampling</td>\n",
       "      <td>0.854167</td>\n",
       "      <td>0.125</td>\n",
       "      <td>1.0</td>\n",
       "      <td>0.222222</td>\n",
       "      <td>0.192308</td>\n",
       "    </tr>\n",
       "  </tbody>\n",
       "</table>\n",
       "</div>"
      ],
      "text/plain": [
       "             Model Name  Accuracy  Precision  Recall        F1     Kappa\n",
       "0  def_win_oversampling  0.854167      0.125     1.0  0.222222  0.192308"
      ]
     },
     "execution_count": 552,
     "metadata": {},
     "output_type": "execute_result"
    }
   ],
   "source": [
    "# calculate and store model error metrics in df\n",
    "class_log_reg_def_win_oversampling_score=functions.class_error_metrics_report_m('def_win_oversampling',y_test,y_pred_test_SMOTE)\n",
    "class_log_reg_def_win_oversampling_score\n"
   ]
  },
  {
   "cell_type": "code",
   "execution_count": 553,
   "id": "7c850b19-5b1f-424e-881f-fe64cd5cebc7",
   "metadata": {
    "tags": []
   },
   "outputs": [],
   "source": [
    "# saving to directory:\n",
    "path = \"../models/\"\n",
    "filename = \"class_log_reg_def_win_oversampling.pkl\"\n",
    "with open(path+filename, \"wb\") as file:\n",
    "    pickle.dump(lr, file)"
   ]
  },
  {
   "cell_type": "code",
   "execution_count": 554,
   "id": "f605b757-08dd-4ab2-b0e0-f1cbaf2c1c86",
   "metadata": {},
   "outputs": [
    {
     "data": {
      "image/png": "[encoded data removed]",
      "text/plain": [
       "<Figure size 640x480 with 2 Axes>"
      ]
     },
     "metadata": {},
     "output_type": "display_data"
    }
   ],
   "source": [
    "cm_test = confusion_matrix(y_test, y_pred_test_SMOTE)\n",
    "\n",
    "disp = ConfusionMatrixDisplay(cm_test,display_labels=classification.classes_)\n",
    "disp.plot()\n",
    "plt.show()"
   ]
  },
  {
   "cell_type": "code",
   "execution_count": 615,
   "id": "f442462e-edc5-4375-9e4f-54b7ddd8959d",
   "metadata": {
    "tags": []
   },
   "outputs": [
    {
     "data": {
      "text/html": [
       "<div>\n",
       "<style scoped>\n",
       "    .dataframe tbody tr th:only-of-type {\n",
       "        vertical-align: middle;\n",
       "    }\n",
       "\n",
       "    .dataframe tbody tr th {\n",
       "        vertical-align: top;\n",
       "    }\n",
       "\n",
       "    .dataframe thead th {\n",
       "        text-align: right;\n",
       "    }\n",
       "</style>\n",
       "<table border=\"1\" class=\"dataframe\">\n",
       "  <thead>\n",
       "    <tr style=\"text-align: right;\">\n",
       "      <th></th>\n",
       "      <th>Model Name</th>\n",
       "      <th>Accuracy</th>\n",
       "      <th>Precision</th>\n",
       "      <th>Recall</th>\n",
       "      <th>F1</th>\n",
       "      <th>Kappa</th>\n",
       "    </tr>\n",
       "  </thead>\n",
       "  <tbody>\n",
       "    <tr>\n",
       "      <th>0</th>\n",
       "      <td>def_app_saga</td>\n",
       "      <td>0.958333</td>\n",
       "      <td>0.000000</td>\n",
       "      <td>0.0</td>\n",
       "      <td>0.000000</td>\n",
       "      <td>0.000000</td>\n",
       "    </tr>\n",
       "    <tr>\n",
       "      <th>1</th>\n",
       "      <td>def_app_lbfgs</td>\n",
       "      <td>0.958333</td>\n",
       "      <td>0.000000</td>\n",
       "      <td>0.0</td>\n",
       "      <td>0.000000</td>\n",
       "      <td>0.000000</td>\n",
       "    </tr>\n",
       "    <tr>\n",
       "      <th>2</th>\n",
       "      <td>def_app_oversampling</td>\n",
       "      <td>0.645833</td>\n",
       "      <td>0.105263</td>\n",
       "      <td>1.0</td>\n",
       "      <td>0.190476</td>\n",
       "      <td>0.124464</td>\n",
       "    </tr>\n",
       "    <tr>\n",
       "      <th>3</th>\n",
       "      <td>def_win_saga</td>\n",
       "      <td>0.979167</td>\n",
       "      <td>0.000000</td>\n",
       "      <td>0.0</td>\n",
       "      <td>0.000000</td>\n",
       "      <td>0.000000</td>\n",
       "    </tr>\n",
       "    <tr>\n",
       "      <th>4</th>\n",
       "      <td>def_win_lbfgs</td>\n",
       "      <td>0.979167</td>\n",
       "      <td>0.000000</td>\n",
       "      <td>0.0</td>\n",
       "      <td>0.000000</td>\n",
       "      <td>0.000000</td>\n",
       "    </tr>\n",
       "    <tr>\n",
       "      <th>5</th>\n",
       "      <td>def_win_oversampling</td>\n",
       "      <td>0.854167</td>\n",
       "      <td>0.125000</td>\n",
       "      <td>1.0</td>\n",
       "      <td>0.222222</td>\n",
       "      <td>0.192308</td>\n",
       "    </tr>\n",
       "  </tbody>\n",
       "</table>\n",
       "</div>"
      ],
      "text/plain": [
       "             Model Name  Accuracy  Precision  Recall        F1     Kappa\n",
       "0          def_app_saga  0.958333   0.000000     0.0  0.000000  0.000000\n",
       "1         def_app_lbfgs  0.958333   0.000000     0.0  0.000000  0.000000\n",
       "2  def_app_oversampling  0.645833   0.105263     1.0  0.190476  0.124464\n",
       "3          def_win_saga  0.979167   0.000000     0.0  0.000000  0.000000\n",
       "4         def_win_lbfgs  0.979167   0.000000     0.0  0.000000  0.000000\n",
       "5  def_win_oversampling  0.854167   0.125000     1.0  0.222222  0.192308"
      ]
     },
     "execution_count": 615,
     "metadata": {},
     "output_type": "execute_result"
    }
   ],
   "source": [
    "merged_results_def = pd.concat([class_log_reg_def_app_saga_score, class_log_reg_def_app_lbfgs_score,class_log_reg_def_app_oversampling_score,class_log_reg_def_win_saga_score,class_log_reg_def_win_lbfgs_score,class_log_reg_def_win_oversampling_score], ignore_index=True)\n",
    "merged_results_def"
   ]
  },
  {
   "cell_type": "markdown",
   "id": "3e8c70ce-800e-4117-9344-3e5395ae0b68",
   "metadata": {
    "tags": []
   },
   "source": [
    "### Conclusion for predicting Super Bowl wins and appearances\n",
    "In conclusion of predicting super bowl wins and appearances for NFL teams based on their regular season defensive statistics, an overall kappa score for both models was quite low, and there had to be significant oversampling performed in order to improve overall accuracy and kappa score for the models. \n",
    "\n",
    "#### Super Bowl Winner Prediction\n",
    "Due to the 1 winner per year in the 5 years dataset, this makes the overall prediction accuracy difficult to improve without additional years of data. \n",
    "However, what can be seen is the main variables for helping predict an NFL's teams likelihood to win a super bowl from defensive statistics are: \n",
    "\n",
    "- rush_att: Number of attempts from opposing teams who try to run the ball against the team's defence.\n",
    "- reception_fumble: Number of times the defence has caused a receiver to fumble (lose possession of) the ball after catching a pass. The assumption here being that the higher this number of reception fumbles, the higher the rate of turnovers from this team's defence, and then the lower the likelihood of this defence conceding points and the higher the chance of this defence winning the superbowl. \n",
    "- pass_attempt: Number of pass attempts against the team's defence. \n",
    "- 3rd_md: Number of 3rd downs converted against the team's defence. The assumption here is that the lower this statistic, the better the team's defence, and therefore the higher likelihood this team win's a super bowl\n",
    "\n",
    "#### Super Bowl Appearance Prediction\n",
    "Being able to play in a super bowl is the secondary goal of every NFL team, after of course winning said Super Bowl. As this dataset contained more super bowl appearances than super bowl winners from the same time frame, naturally, then it made sense the model was better able to come up with accurate predictions after oversampling with SMOTE and 3 k_nearest neighbors.\n",
    "\n",
    "The main determinants for being able to predict a team's super bowl appearance included: \n",
    "\n",
    "- rush_att: the number of rushing attempts that defence faced throughout the regular season. \n",
    "- rush_td: the number of rushing touchdowns that defence conceded throughou the regular season. \n",
    "- rec_yds: the number of reception yards that defence conceded throughout the season. \n",
    "- total_sack: the number of sacks recorded by the defence throughout the regular season.\n",
    "The assumptions being that all of these variables, apart from sacks which would be the opposite, would be that the lower the number for the defence, the higher the likelihood that the defence will be playing in the superbowl. "
   ]
  },
  {
   "cell_type": "markdown",
   "id": "13916917-b8da-4dff-8c98-f998467e81ca",
   "metadata": {
    "tags": []
   },
   "source": [
    "## Offensive Stats: Identifying possible X candidates against y (super bowl appearance and super bowl win)\n"
   ]
  },
  {
   "cell_type": "markdown",
   "id": "40ac6a74-c29b-4f87-961a-ed6c7bafa3f4",
   "metadata": {
    "tags": []
   },
   "source": [
    "### Identifying possible X candidates against y (super bowl appearance and super bowl win)"
   ]
  },
  {
   "cell_type": "code",
   "execution_count": 555,
   "id": "e86a4c9f-669a-49bc-9661-6d8df25639c3",
   "metadata": {},
   "outputs": [],
   "source": [
    "# import data\n",
    "offensive_df = pd.read_csv('../data/cleaned/2017-2021_aggregated_team_offensive_stats_with_sb_cleaned.csv')"
   ]
  },
  {
   "cell_type": "code",
   "execution_count": 556,
   "id": "57e8e6d2-9698-4785-b11d-19e368583107",
   "metadata": {
    "tags": []
   },
   "outputs": [
    {
     "data": {
      "text/plain": [
       "(10, 35)"
      ]
     },
     "metadata": {},
     "output_type": "display_data"
    },
    {
     "data": {
      "text/plain": [
       "(150, 35)"
      ]
     },
     "metadata": {},
     "output_type": "display_data"
    }
   ],
   "source": [
    "# Splitting dataframe to check numerical columns for statistical difference between means to identify \n",
    "# potential X candidates for logistic regression\n",
    "\n",
    "offensive_sb_app = offensive_df.loc[offensive_df['sb_appearance'] == True].select_dtypes(np.number)\n",
    "offensive_nosb_app = offensive_df.loc[offensive_df['sb_appearance'] == False].select_dtypes(np.number)\n",
    "display(offensive_sb_app.shape)\n",
    "display(offensive_nosb_app.shape)"
   ]
  },
  {
   "cell_type": "code",
   "execution_count": 557,
   "id": "f4ee61fb-0b06-46f4-9d97-4ab6f922a096",
   "metadata": {
    "tags": []
   },
   "outputs": [
    {
     "name": "stdout",
     "output_type": "stream",
     "text": [
      "year: 108.9918957048916 2.1513474772124718e-24\n",
      "rush_yds: 29.24461622368508 4.462849838056799e-07\n",
      "rush_20+: 26.35075829355072 1.8967301144878412e-06\n",
      "rush_40+: 11.155104053160274 0.0037818119718250214\n",
      "rush_1st: 16.170213197330575 0.0003080937005582501\n",
      "rush_fumbles: 14.781977693721966 0.000616785745209976\n",
      "rec_td: 8.533704603524306 0.014025862926048255\n",
      "2pt: 35.6006591881743 1.8595809187998035e-08\n",
      "int: 14.533400416680212 0.0006984128123345061\n",
      "3rd_md: 0.024876156005751306 0.9876389551769942\n",
      "/n\n"
     ]
    }
   ],
   "source": [
    "# checking degree of normal distribution for numerical columns to consider \n",
    "# when looking for significant difference between various population means\n",
    "functions.normaltest_mult_col(offensive_nosb_app)"
   ]
  },
  {
   "cell_type": "code",
   "execution_count": 558,
   "id": "32a6b18a-5d2f-4d98-a0d5-3c3e6b1b4b84",
   "metadata": {
    "tags": []
   },
   "outputs": [
    {
     "name": "stdout",
     "output_type": "stream",
     "text": [
      "tot_td: 0.012662540640318288 0.9936887299404951\n",
      "4th_att: 17.321796875610385 0.0001732286018434863\n",
      "sb_winner: 13.263400004957136 0.0013179207120628368\n",
      "/n\n"
     ]
    },
    {
     "name": "stderr",
     "output_type": "stream",
     "text": [
      "/Users/alexferrer/Desktop/bootcamp/Week_5/sbw_f/venv_sbw/lib/python3.11/site-packages/scipy/stats/_stats_py.py:1806: UserWarning: kurtosistest only valid for n>=20 ... continuing anyway, n=10\n",
      "  warnings.warn(\"kurtosistest only valid for n>=20 ... continuing \"\n",
      "/Users/alexferrer/Desktop/bootcamp/Week_5/sbw_f/venv_sbw/lib/python3.11/site-packages/scipy/stats/_stats_py.py:1606: RuntimeWarning: Precision loss occurred in moment calculation due to catastrophic cancellation. This occurs when the data are nearly identical. Results may be unreliable.\n",
      "  b2 = skew(a, axis)\n",
      "/Users/alexferrer/Desktop/bootcamp/Week_5/sbw_f/venv_sbw/lib/python3.11/site-packages/scipy/stats/_stats_py.py:1808: RuntimeWarning: Precision loss occurred in moment calculation due to catastrophic cancellation. This occurs when the data are nearly identical. Results may be unreliable.\n",
      "  b2 = kurtosis(a, axis, fisher=False)\n"
     ]
    }
   ],
   "source": [
    "functions.normaltest_mult_col(offensive_sb_app)"
   ]
  },
  {
   "cell_type": "code",
   "execution_count": 559,
   "id": "3c0042ec-7393-4a4f-aee1-194af122a503",
   "metadata": {
    "tags": []
   },
   "outputs": [
    {
     "name": "stdout",
     "output_type": "stream",
     "text": [
      "year 0.0 1.0\n",
      "rush_40+ -2.415240393532334 0.01686626567062536\n",
      "pass_att 3.1848506610975695 0.0017450412472373486\n",
      "pass_cmp 3.414275062503485 0.0008127192891547928\n",
      "pass_yds 3.6587648916889517 0.0003449055107483282\n",
      "sck -3.138259871223912 0.002028155161349757\n",
      "SckY -3.1381631531591188 0.0020287847935228894\n",
      "pass_20+ 3.6011053249700287 0.0004238286047441162\n",
      "pass_40+ 0.012001084096256156 0.9904398902179359\n",
      "pass_rec_1st 3.85401086104693 0.0001686541572044451\n",
      "total_plays 2.541760270281386 0.011992243647983222\n",
      "sb_winner 12.170661444638085 1.8391416092073175e-24\n",
      "sb_appearance inf 0.0\n"
     ]
    },
    {
     "name": "stderr",
     "output_type": "stream",
     "text": [
      "/Users/alexferrer/Desktop/bootcamp/Week_5/sbw_f/venv_sbw/lib/python3.11/site-packages/scipy/stats/_axis_nan_policy.py:523: RuntimeWarning: Precision loss occurred in moment calculation due to catastrophic cancellation. This occurs when the data are nearly identical. Results may be unreliable.\n",
      "  res = hypotest_fun_out(*samples, **kwds)\n"
     ]
    }
   ],
   "source": [
    "# identifying potential X candidates for appearing in a super bowl (win or lose)\n",
    "# using t-test to measure significant statistical differences\n",
    "functions.ttest_ind_2(offensive_df, 'sb_appearance', True, False, 9)"
   ]
  },
  {
   "cell_type": "code",
   "execution_count": 560,
   "id": "d8b97ea5-b818-4f5d-82d0-403a16cfcdac",
   "metadata": {
    "tags": []
   },
   "outputs": [],
   "source": [
    "# Creating list of columns as X candidates to use for logistic regression model along with y. \n",
    "selected_columns_off_app=[\n",
    "'rush_40+', 'pass_att', 'pass_cmp', 'pass_yds',\n",
    "'sck', 'SckY', 'pass_20+', 'pass_40+', 'pass_rec_1st', 'total_plays','sb_appearance']"
   ]
  },
  {
   "cell_type": "code",
   "execution_count": 561,
   "id": "10796eaa-9fec-48d4-bc40-415ea24e53ea",
   "metadata": {
    "tags": []
   },
   "outputs": [],
   "source": [
    "offensive_df_appearance = offensive_df[selected_columns_off_app]"
   ]
  },
  {
   "cell_type": "code",
   "execution_count": 562,
   "id": "1e0d0cc3-baab-4062-bca9-0573b71de399",
   "metadata": {
    "tags": []
   },
   "outputs": [
    {
     "data": {
      "image/png": "[encoded data removed]",
      "text/plain": [
       "<Figure size 800x2800 with 20 Axes>"
      ]
     },
     "metadata": {},
     "output_type": "display_data"
    }
   ],
   "source": [
    "# visual comparison of distributions for selected variables, there are some outliers in some of the selected columns,\n",
    "# however, as these come from average observations during an entire year, and the data is not very large (160 rows) it was\n",
    "# decided not to remove outliers.\n",
    "\n",
    "offensive_df_appearance_plots = offensive_df_appearance.drop(columns='sb_appearance')\n",
    "\n",
    "fig, ax = plt.subplots(len(offensive_df_appearance_plots.columns), 2, \n",
    "                       figsize=(8, 28))\n",
    "\n",
    "i = 0\n",
    "for col in offensive_df_appearance_plots.columns:\n",
    "    \n",
    "    statistic, pvalue = st.normaltest(offensive_df_appearance[col])\n",
    "\n",
    "    ax[i, 0].set_title(f'{col} n-test: {statistic}, ({pvalue})')\n",
    "    sns.histplot(data=offensive_df_appearance, x=col, ax=ax[i, 0], hue = 'sb_appearance')\n",
    "    sns.move_legend(ax[i, 0], \"upper left\", bbox_to_anchor=(1, 1))\n",
    "\n",
    "    ax[i, 1].set_title(f'{col} boxplot')\n",
    "    sns.boxplot(data=offensive_df_appearance, x=col, ax=ax[i, 1])\n",
    "    i += 1\n",
    "plt.tight_layout()\n",
    "plt.show()"
   ]
  },
  {
   "cell_type": "code",
   "execution_count": 563,
   "id": "49e8acd6-1882-4e79-9b81-e80dfaa81890",
   "metadata": {
    "tags": []
   },
   "outputs": [
    {
     "name": "stdout",
     "output_type": "stream",
     "text": [
      "rush_40+ skewness, positive skewed:  0.7394412748342206\n",
      "pass_att skewness, close to symmetrical:  -0.025679182487384135\n",
      "pass_cmp skewness, close to symmetrical:  0.10904545663522111\n",
      "pass_yds skewness, close to symmetrical:  0.22426582697510883\n",
      "sck skewness, close to symmetrical:  0.08614313376836936\n",
      "SckY skewness, close to symmetrical:  0.2505208265722574\n",
      "pass_20+ skewness, close to symmetrical:  0.1861731140278374\n",
      "pass_40+ skewness, close to symmetrical:  0.4891680769174413\n",
      "pass_rec_1st skewness, close to symmetrical:  0.26158263126346376\n",
      "total_plays skewness, close to symmetrical:  0.055151197835882335\n",
      "sb_appearance skewness, positive skewed:  3.649084100602987\n"
     ]
    }
   ],
   "source": [
    "# call function\n",
    "functions.col_skewness(offensive_df, selected_columns_off_app)"
   ]
  },
  {
   "cell_type": "markdown",
   "id": "a9563a74-6af7-4892-80be-c059e7d217f6",
   "metadata": {
    "tags": []
   },
   "source": [
    "### Logistic Regression for Offense appearing in a superbowl"
   ]
  },
  {
   "cell_type": "code",
   "execution_count": 564,
   "id": "42d27ca5-7039-4695-bb74-4e57af6dace1",
   "metadata": {
    "tags": []
   },
   "outputs": [],
   "source": [
    "# Split into X and y\n",
    "X_off = offensive_df_appearance.drop(columns='sb_appearance')\n",
    "y_off = offensive_df_appearance['sb_appearance']"
   ]
  },
  {
   "cell_type": "code",
   "execution_count": 565,
   "id": "bca00366-050f-4a2c-85a1-74dd94469e2d",
   "metadata": {
    "tags": []
   },
   "outputs": [
    {
     "data": {
      "text/plain": [
       "sb_appearance\n",
       "0    150\n",
       "1     10\n",
       "Name: count, dtype: int64"
      ]
     },
     "execution_count": 565,
     "metadata": {},
     "output_type": "execute_result"
    }
   ],
   "source": [
    "y_off.value_counts()"
   ]
  },
  {
   "cell_type": "code",
   "execution_count": 566,
   "id": "0a499e70-a797-47d8-8f8f-5041dc3819ff",
   "metadata": {
    "tags": []
   },
   "outputs": [],
   "source": [
    "# train test data split\n",
    "from sklearn.model_selection import train_test_split\n",
    "X_train_o, X_test_o, y_train_o, y_test_o_app = train_test_split(X_off, y_off, test_size=0.3, random_state=70)"
   ]
  },
  {
   "cell_type": "code",
   "execution_count": 567,
   "id": "ac3bbd62-cadf-4daf-b10f-6235a5a8c9bc",
   "metadata": {
    "tags": []
   },
   "outputs": [],
   "source": [
    "# no categorical data in X. Only numerical. \n",
    "X_train_num_o = X_train_o.select_dtypes(np.number)\n",
    "X_test_num_o = X_test_o.select_dtypes(np.number)"
   ]
  },
  {
   "cell_type": "code",
   "execution_count": 568,
   "id": "e55cf770-4b5b-44bf-b8de-dcd901736f90",
   "metadata": {},
   "outputs": [],
   "source": [
    "# No categorical column encoding required. "
   ]
  },
  {
   "cell_type": "code",
   "execution_count": 569,
   "id": "2171635c-a296-4693-9380-d0d79dbe0531",
   "metadata": {
    "tags": []
   },
   "outputs": [
    {
     "data": {
      "text/html": [
       "<div>\n",
       "<style scoped>\n",
       "    .dataframe tbody tr th:only-of-type {\n",
       "        vertical-align: middle;\n",
       "    }\n",
       "\n",
       "    .dataframe tbody tr th {\n",
       "        vertical-align: top;\n",
       "    }\n",
       "\n",
       "    .dataframe thead th {\n",
       "        text-align: right;\n",
       "    }\n",
       "</style>\n",
       "<table border=\"1\" class=\"dataframe\">\n",
       "  <thead>\n",
       "    <tr style=\"text-align: right;\">\n",
       "      <th></th>\n",
       "      <th>rush_40+</th>\n",
       "      <th>pass_att</th>\n",
       "      <th>pass_cmp</th>\n",
       "      <th>pass_yds</th>\n",
       "      <th>sck</th>\n",
       "      <th>SckY</th>\n",
       "      <th>pass_20+</th>\n",
       "      <th>pass_40+</th>\n",
       "      <th>pass_rec_1st</th>\n",
       "      <th>total_plays</th>\n",
       "    </tr>\n",
       "  </thead>\n",
       "  <tbody>\n",
       "    <tr>\n",
       "      <th>132</th>\n",
       "      <td>0.370188</td>\n",
       "      <td>-0.693751</td>\n",
       "      <td>-0.860551</td>\n",
       "      <td>-0.779588</td>\n",
       "      <td>1.050166</td>\n",
       "      <td>0.642184</td>\n",
       "      <td>-0.445418</td>\n",
       "      <td>0.096732</td>\n",
       "      <td>-0.611680</td>\n",
       "      <td>0.462139</td>\n",
       "    </tr>\n",
       "    <tr>\n",
       "      <th>11</th>\n",
       "      <td>-1.559191</td>\n",
       "      <td>-0.870404</td>\n",
       "      <td>-1.249142</td>\n",
       "      <td>-1.253636</td>\n",
       "      <td>0.274210</td>\n",
       "      <td>0.212608</td>\n",
       "      <td>-1.826370</td>\n",
       "      <td>0.096732</td>\n",
       "      <td>-1.074702</td>\n",
       "      <td>-2.023881</td>\n",
       "    </tr>\n",
       "    <tr>\n",
       "      <th>2</th>\n",
       "      <td>1.329992</td>\n",
       "      <td>0.774977</td>\n",
       "      <td>0.370692</td>\n",
       "      <td>-0.438452</td>\n",
       "      <td>-0.395053</td>\n",
       "      <td>0.123600</td>\n",
       "      <td>-1.069826</td>\n",
       "      <td>-1.202671</td>\n",
       "      <td>-0.242845</td>\n",
       "      <td>-0.658066</td>\n",
       "    </tr>\n",
       "    <tr>\n",
       "      <th>115</th>\n",
       "      <td>-1.559191</td>\n",
       "      <td>0.000417</td>\n",
       "      <td>0.303092</td>\n",
       "      <td>-0.159113</td>\n",
       "      <td>-0.295195</td>\n",
       "      <td>-0.633338</td>\n",
       "      <td>-1.175923</td>\n",
       "      <td>-1.576988</td>\n",
       "      <td>0.454079</td>\n",
       "      <td>-0.157423</td>\n",
       "    </tr>\n",
       "    <tr>\n",
       "      <th>50</th>\n",
       "      <td>-0.362771</td>\n",
       "      <td>-0.835118</td>\n",
       "      <td>-0.292954</td>\n",
       "      <td>-0.526343</td>\n",
       "      <td>-0.395053</td>\n",
       "      <td>-0.896851</td>\n",
       "      <td>-0.548116</td>\n",
       "      <td>0.667333</td>\n",
       "      <td>-0.611680</td>\n",
       "      <td>-0.310264</td>\n",
       "    </tr>\n",
       "  </tbody>\n",
       "</table>\n",
       "</div>"
      ],
      "text/plain": [
       "     rush_40+  pass_att  pass_cmp  pass_yds       sck      SckY  pass_20+  \\\n",
       "132  0.370188 -0.693751 -0.860551 -0.779588  1.050166  0.642184 -0.445418   \n",
       "11  -1.559191 -0.870404 -1.249142 -1.253636  0.274210  0.212608 -1.826370   \n",
       "2    1.329992  0.774977  0.370692 -0.438452 -0.395053  0.123600 -1.069826   \n",
       "115 -1.559191  0.000417  0.303092 -0.159113 -0.295195 -0.633338 -1.175923   \n",
       "50  -0.362771 -0.835118 -0.292954 -0.526343 -0.395053 -0.896851 -0.548116   \n",
       "\n",
       "     pass_40+  pass_rec_1st  total_plays  \n",
       "132  0.096732     -0.611680     0.462139  \n",
       "11   0.096732     -1.074702    -2.023881  \n",
       "2   -1.202671     -0.242845    -0.658066  \n",
       "115 -1.576988      0.454079    -0.157423  \n",
       "50   0.667333     -0.611680    -0.310264  "
      ]
     },
     "execution_count": 569,
     "metadata": {},
     "output_type": "execute_result"
    }
   ],
   "source": [
    "from sklearn.preprocessing import PowerTransformer\n",
    "\n",
    "trans_o = PowerTransformer()\n",
    "\n",
    "trans_o.fit(X_train_num_o)\n",
    "\n",
    "X_train_transf_o = trans_o.transform(X_train_num_o)\n",
    "X_test_transf_o = trans_o.transform(X_test_num_o)\n",
    "\n",
    "X_train_transf_df_o = pd.DataFrame(X_train_transf_o, columns=X_train_num_o.columns, index=X_train_num_o.index)\n",
    "X_test_transf_df_o = pd.DataFrame(X_test_transf_o, columns=X_test_num_o.columns, index=X_test_num_o.index)\n",
    "\n",
    "X_train_transf_df_o.head()"
   ]
  },
  {
   "cell_type": "code",
   "execution_count": 570,
   "id": "8f0f5ccb-c018-4f66-88fc-513b5a1294df",
   "metadata": {
    "tags": []
   },
   "outputs": [],
   "source": [
    "# saving to directory:\n",
    "path = \"../transformers/\"\n",
    "filename = \"powertransformer_off_app.pkl\"\n",
    "with open(path+filename, \"wb\") as file:\n",
    "    pickle.dump(trans_o, file)"
   ]
  },
  {
   "cell_type": "code",
   "execution_count": 571,
   "id": "d84104df-66d7-4110-8035-a9419b4cbd1f",
   "metadata": {
    "tags": []
   },
   "outputs": [
    {
     "data": {
      "text/html": [
       "<div>\n",
       "<style scoped>\n",
       "    .dataframe tbody tr th:only-of-type {\n",
       "        vertical-align: middle;\n",
       "    }\n",
       "\n",
       "    .dataframe tbody tr th {\n",
       "        vertical-align: top;\n",
       "    }\n",
       "\n",
       "    .dataframe thead th {\n",
       "        text-align: right;\n",
       "    }\n",
       "</style>\n",
       "<table border=\"1\" class=\"dataframe\">\n",
       "  <thead>\n",
       "    <tr style=\"text-align: right;\">\n",
       "      <th></th>\n",
       "      <th>rush_40+</th>\n",
       "      <th>pass_att</th>\n",
       "      <th>pass_cmp</th>\n",
       "      <th>pass_yds</th>\n",
       "      <th>sck</th>\n",
       "      <th>SckY</th>\n",
       "      <th>pass_20+</th>\n",
       "      <th>pass_40+</th>\n",
       "      <th>pass_rec_1st</th>\n",
       "      <th>total_plays</th>\n",
       "    </tr>\n",
       "  </thead>\n",
       "  <tbody>\n",
       "    <tr>\n",
       "      <th>132</th>\n",
       "      <td>0.506459</td>\n",
       "      <td>0.392437</td>\n",
       "      <td>0.339692</td>\n",
       "      <td>0.345941</td>\n",
       "      <td>0.724519</td>\n",
       "      <td>0.645711</td>\n",
       "      <td>0.410174</td>\n",
       "      <td>0.566578</td>\n",
       "      <td>0.362151</td>\n",
       "      <td>0.594381</td>\n",
       "    </tr>\n",
       "    <tr>\n",
       "      <th>11</th>\n",
       "      <td>0.000000</td>\n",
       "      <td>0.357398</td>\n",
       "      <td>0.256366</td>\n",
       "      <td>0.235274</td>\n",
       "      <td>0.548280</td>\n",
       "      <td>0.537882</td>\n",
       "      <td>0.118771</td>\n",
       "      <td>0.566578</td>\n",
       "      <td>0.260318</td>\n",
       "      <td>0.156459</td>\n",
       "    </tr>\n",
       "    <tr>\n",
       "      <th>2</th>\n",
       "      <td>0.758406</td>\n",
       "      <td>0.683757</td>\n",
       "      <td>0.603711</td>\n",
       "      <td>0.425579</td>\n",
       "      <td>0.396273</td>\n",
       "      <td>0.515540</td>\n",
       "      <td>0.278414</td>\n",
       "      <td>0.324197</td>\n",
       "      <td>0.443270</td>\n",
       "      <td>0.397052</td>\n",
       "    </tr>\n",
       "    <tr>\n",
       "      <th>115</th>\n",
       "      <td>0.000000</td>\n",
       "      <td>0.530124</td>\n",
       "      <td>0.589215</td>\n",
       "      <td>0.490791</td>\n",
       "      <td>0.418953</td>\n",
       "      <td>0.325540</td>\n",
       "      <td>0.256025</td>\n",
       "      <td>0.254375</td>\n",
       "      <td>0.596545</td>\n",
       "      <td>0.485242</td>\n",
       "    </tr>\n",
       "    <tr>\n",
       "      <th>50</th>\n",
       "      <td>0.314059</td>\n",
       "      <td>0.364397</td>\n",
       "      <td>0.461404</td>\n",
       "      <td>0.405061</td>\n",
       "      <td>0.396273</td>\n",
       "      <td>0.259395</td>\n",
       "      <td>0.388503</td>\n",
       "      <td>0.673014</td>\n",
       "      <td>0.362151</td>\n",
       "      <td>0.458319</td>\n",
       "    </tr>\n",
       "  </tbody>\n",
       "</table>\n",
       "</div>"
      ],
      "text/plain": [
       "     rush_40+  pass_att  pass_cmp  pass_yds       sck      SckY  pass_20+  \\\n",
       "132  0.506459  0.392437  0.339692  0.345941  0.724519  0.645711  0.410174   \n",
       "11   0.000000  0.357398  0.256366  0.235274  0.548280  0.537882  0.118771   \n",
       "2    0.758406  0.683757  0.603711  0.425579  0.396273  0.515540  0.278414   \n",
       "115  0.000000  0.530124  0.589215  0.490791  0.418953  0.325540  0.256025   \n",
       "50   0.314059  0.364397  0.461404  0.405061  0.396273  0.259395  0.388503   \n",
       "\n",
       "     pass_40+  pass_rec_1st  total_plays  \n",
       "132  0.566578      0.362151     0.594381  \n",
       "11   0.566578      0.260318     0.156459  \n",
       "2    0.324197      0.443270     0.397052  \n",
       "115  0.254375      0.596545     0.485242  \n",
       "50   0.673014      0.362151     0.458319  "
      ]
     },
     "execution_count": 571,
     "metadata": {},
     "output_type": "execute_result"
    }
   ],
   "source": [
    "from sklearn.preprocessing import MinMaxScaler\n",
    "\n",
    "scaler_o = MinMaxScaler()\n",
    "\n",
    "scaler_o.fit(X_train_transf_df_o)\n",
    "\n",
    "X_train_scaled_o =  scaler_o.transform(X_train_transf_df_o)\n",
    "X_test_scaled_o = scaler_o.transform(X_test_transf_df_o)\n",
    "\n",
    "X_train_scaled_df_o = pd.DataFrame(X_train_scaled_o, columns=X_train_transf_df_o.columns, index=X_train_transf_df_o.index)\n",
    "X_test_scaled_df_o = pd.DataFrame(X_test_scaled_o, columns=X_test_transf_df_o.columns, index=X_test_transf_df_o.index)\n",
    "\n",
    "X_train_scaled_df_o.head()"
   ]
  },
  {
   "cell_type": "code",
   "execution_count": 572,
   "id": "b70ac37f-18f9-4cd1-b821-738e67d60daf",
   "metadata": {
    "tags": []
   },
   "outputs": [],
   "source": [
    "# saving to directory:\n",
    "path = \"../scalers/\"\n",
    "filename = \"MinMaxScaler_off_app.pkl\"\n",
    "with open(path+filename, \"wb\") as file:\n",
    "    pickle.dump(scaler_o, file)"
   ]
  },
  {
   "cell_type": "markdown",
   "id": "83ef02c3-1766-468b-98b9-52ecd3cf235a",
   "metadata": {},
   "source": [
    "####  Training Logistic Regression Models for Super Bowl Appearance"
   ]
  },
  {
   "cell_type": "code",
   "execution_count": 573,
   "id": "8ca4dc37-0c08-42d8-821f-32049812d52c",
   "metadata": {
    "tags": []
   },
   "outputs": [],
   "source": [
    "# Training model wtih lbfgs as solver\n",
    "from sklearn.linear_model import LogisticRegression\n",
    "\n",
    "classification_off_app = LogisticRegression(max_iter=1000, penalty='l2',random_state=0, solver='lbfgs',\n",
    "                  multi_class='auto')\n",
    "\n",
    "classification_off_app.fit(X_train_scaled_df_o, y_train_o)\n",
    "\n",
    "y_test_pred_o_app = classification_off_app.predict(X_test_scaled_df_o)\n",
    "\n",
    "from sklearn.metrics import accuracy_score"
   ]
  },
  {
   "cell_type": "code",
   "execution_count": 574,
   "id": "94954538-2a99-4350-899d-0a81c45b13d5",
   "metadata": {
    "tags": []
   },
   "outputs": [
    {
     "data": {
      "text/html": [
       "<div>\n",
       "<style scoped>\n",
       "    .dataframe tbody tr th:only-of-type {\n",
       "        vertical-align: middle;\n",
       "    }\n",
       "\n",
       "    .dataframe tbody tr th {\n",
       "        vertical-align: top;\n",
       "    }\n",
       "\n",
       "    .dataframe thead th {\n",
       "        text-align: right;\n",
       "    }\n",
       "</style>\n",
       "<table border=\"1\" class=\"dataframe\">\n",
       "  <thead>\n",
       "    <tr style=\"text-align: right;\">\n",
       "      <th></th>\n",
       "      <th>Model Name</th>\n",
       "      <th>Accuracy</th>\n",
       "      <th>Precision</th>\n",
       "      <th>Recall</th>\n",
       "      <th>F1</th>\n",
       "      <th>Kappa</th>\n",
       "    </tr>\n",
       "  </thead>\n",
       "  <tbody>\n",
       "    <tr>\n",
       "      <th>0</th>\n",
       "      <td>def_app_lbfgs</td>\n",
       "      <td>0.958333</td>\n",
       "      <td>0.0</td>\n",
       "      <td>0.0</td>\n",
       "      <td>0.0</td>\n",
       "      <td>0.0</td>\n",
       "    </tr>\n",
       "  </tbody>\n",
       "</table>\n",
       "</div>"
      ],
      "text/plain": [
       "      Model Name  Accuracy  Precision  Recall   F1  Kappa\n",
       "0  def_app_lbfgs  0.958333        0.0     0.0  0.0    0.0"
      ]
     },
     "execution_count": 574,
     "metadata": {},
     "output_type": "execute_result"
    }
   ],
   "source": [
    "# calculate and store model error metrics in df\n",
    "class_log_reg_off_app_lbfgs_score=functions.class_error_metrics_report_m('def_app_lbfgs',y_test_o_app,y_test_pred_o_app)\n",
    "class_log_reg_off_app_lbfgs_score"
   ]
  },
  {
   "cell_type": "code",
   "execution_count": 575,
   "id": "b792842b-32a1-40a4-bd6c-7fb861bbc0c8",
   "metadata": {
    "tags": []
   },
   "outputs": [],
   "source": [
    "# saving to directory:\n",
    "path = \"../models/\"\n",
    "filename = \"class_log_reg_off_app_lbfgs.pkl\"\n",
    "with open(path+filename, \"wb\") as file:\n",
    "    pickle.dump(classification_off_app, file)"
   ]
  },
  {
   "cell_type": "code",
   "execution_count": 576,
   "id": "970c7fc8-452f-4a82-adcf-df8db1159dd1",
   "metadata": {
    "tags": []
   },
   "outputs": [
    {
     "data": {
      "image/png": "[encoded data removed]",
      "text/plain": [
       "<Figure size 640x480 with 2 Axes>"
      ]
     },
     "metadata": {},
     "output_type": "display_data"
    }
   ],
   "source": [
    "from sklearn.metrics import confusion_matrix, ConfusionMatrixDisplay\n",
    "\n",
    "cm_test_o = confusion_matrix(y_test_o_app, y_test_pred_o_app)\n",
    "\n",
    "disp_o = ConfusionMatrixDisplay(cm_test_o,display_labels=classification_off_app.classes_)\n",
    "disp_o.plot()\n",
    "plt.show()"
   ]
  },
  {
   "cell_type": "code",
   "execution_count": 577,
   "id": "626705cd-ace8-4160-9040-fd3c5d1be00d",
   "metadata": {
    "tags": []
   },
   "outputs": [
    {
     "data": {
      "text/plain": [
       "sb_appearance\n",
       "0    46\n",
       "1     2\n",
       "Name: count, dtype: int64"
      ]
     },
     "execution_count": 577,
     "metadata": {},
     "output_type": "execute_result"
    },
    {
     "data": {
      "image/png": "[encoded data removed]",
      "text/plain": [
       "<Figure size 640x480 with 1 Axes>"
      ]
     },
     "metadata": {},
     "output_type": "display_data"
    }
   ],
   "source": [
    "# Looking at dataset imbalance. \n",
    "sns.countplot(data=offensive_df_appearance, x='sb_appearance')\n",
    "len(offensive_df_appearance.loc[offensive_df_appearance['sb_appearance'] == True])\n",
    "# Based on True values only seen in 4.16% of dataset, oversampling of true rows required. \n",
    "y_test_o_app.value_counts()"
   ]
  },
  {
   "cell_type": "markdown",
   "id": "cec39671-7ebd-4867-846e-7292e6575c43",
   "metadata": {},
   "source": [
    "#### Addressing imbalance of data for superbowl appearances and retraining logistic regression model"
   ]
  },
  {
   "cell_type": "code",
   "execution_count": 578,
   "id": "27a0aaaa-3123-42fe-b9de-efba55a9c826",
   "metadata": {
    "tags": []
   },
   "outputs": [],
   "source": [
    "# Using SMOTE method to balance TRUE and FALSE values in sb_appearance column\n",
    "from imblearn.over_sampling import SMOTE\n",
    "\n",
    "sm_o = SMOTE(random_state=100,k_neighbors=5)\n",
    "\n",
    "X_train_SMOTE_o, y_train_SMOTE_o = sm_o.fit_resample(X_train_scaled_df_o, y_train_o)"
   ]
  },
  {
   "cell_type": "code",
   "execution_count": 579,
   "id": "3cfcbd88-77cb-4cd8-84da-ff34ba56d665",
   "metadata": {},
   "outputs": [],
   "source": [
    "# saving to directory:\n",
    "path = \"../imbalanced_samplers/\"\n",
    "filename = \"smote_off_app.pkl\"\n",
    "with open(path+filename, \"wb\") as file:\n",
    "    pickle.dump(sm_o, file)"
   ]
  },
  {
   "cell_type": "code",
   "execution_count": 580,
   "id": "ccc6963c-de50-4ad3-b174-f76bd2c577e8",
   "metadata": {
    "tags": []
   },
   "outputs": [
    {
     "name": "stdout",
     "output_type": "stream",
     "text": [
      "112 208\n"
     ]
    },
    {
     "data": {
      "text/plain": [
       "sb_appearance\n",
       "0    104\n",
       "1    104\n",
       "Name: count, dtype: int64"
      ]
     },
     "execution_count": 580,
     "metadata": {},
     "output_type": "execute_result"
    }
   ],
   "source": [
    "print(len(X_train_scaled_df_o), len(X_train_SMOTE_o))\n",
    "y_train_SMOTE_o.value_counts()"
   ]
  },
  {
   "cell_type": "code",
   "execution_count": 581,
   "id": "5a05f073-3442-4aa7-be06-a192e6dfa92d",
   "metadata": {
    "tags": []
   },
   "outputs": [],
   "source": [
    "# Re-running the logistic regression model with OVER sampled df for TRUE values. \n",
    "lr_o_app = LogisticRegression(max_iter=1000, penalty='l2',random_state=0, solver='lbfgs',\n",
    "                  multi_class='auto')\n",
    "lr_o_app.fit(X_train_SMOTE_o, y_train_SMOTE_o)\n",
    "y_pred_test_SMOTE_o_app = lr_o_app.predict(X_test_scaled_df_o)"
   ]
  },
  {
   "cell_type": "code",
   "execution_count": 582,
   "id": "059a6ac2-29b0-49ff-b25f-f73f91a62b06",
   "metadata": {
    "tags": []
   },
   "outputs": [
    {
     "data": {
      "text/html": [
       "<div>\n",
       "<style scoped>\n",
       "    .dataframe tbody tr th:only-of-type {\n",
       "        vertical-align: middle;\n",
       "    }\n",
       "\n",
       "    .dataframe tbody tr th {\n",
       "        vertical-align: top;\n",
       "    }\n",
       "\n",
       "    .dataframe thead th {\n",
       "        text-align: right;\n",
       "    }\n",
       "</style>\n",
       "<table border=\"1\" class=\"dataframe\">\n",
       "  <thead>\n",
       "    <tr style=\"text-align: right;\">\n",
       "      <th></th>\n",
       "      <th>Model Name</th>\n",
       "      <th>Accuracy</th>\n",
       "      <th>Precision</th>\n",
       "      <th>Recall</th>\n",
       "      <th>F1</th>\n",
       "      <th>Kappa</th>\n",
       "    </tr>\n",
       "  </thead>\n",
       "  <tbody>\n",
       "    <tr>\n",
       "      <th>0</th>\n",
       "      <td>def_app_oversampling</td>\n",
       "      <td>0.854167</td>\n",
       "      <td>0.222222</td>\n",
       "      <td>1.0</td>\n",
       "      <td>0.363636</td>\n",
       "      <td>0.317073</td>\n",
       "    </tr>\n",
       "  </tbody>\n",
       "</table>\n",
       "</div>"
      ],
      "text/plain": [
       "             Model Name  Accuracy  Precision  Recall        F1     Kappa\n",
       "0  def_app_oversampling  0.854167   0.222222     1.0  0.363636  0.317073"
      ]
     },
     "execution_count": 582,
     "metadata": {},
     "output_type": "execute_result"
    }
   ],
   "source": [
    "# calculate and store model error metrics in df\n",
    "class_log_reg_off_app_oversampling_score=functions.class_error_metrics_report_m('def_app_oversampling',y_test_o_app,y_pred_test_SMOTE_o_app)\n",
    "class_log_reg_off_app_oversampling_score\n"
   ]
  },
  {
   "cell_type": "code",
   "execution_count": 583,
   "id": "4195b3e1-1313-4e9e-97a2-2f6f14d3436f",
   "metadata": {
    "tags": []
   },
   "outputs": [],
   "source": [
    "# saving to directory:\n",
    "path = \"../models/\"\n",
    "filename = \"class_log_reg_off_app_oversampling.pkl\"\n",
    "with open(path+filename, \"wb\") as file:\n",
    "    pickle.dump(lr_o_app, file)"
   ]
  },
  {
   "cell_type": "code",
   "execution_count": 584,
   "id": "074d07d2-ab4e-4351-b803-6e9fed15d2ef",
   "metadata": {
    "scrolled": true,
    "tags": []
   },
   "outputs": [
    {
     "name": "stdout",
     "output_type": "stream",
     "text": [
      "The accuracy in the TEST set is: 0.85\n",
      "The precision in the TEST set is: 0.22\n",
      "The recall in the TEST set is: 1.00\n",
      "The F1 in the TEST set is: 0.36\n",
      "The Kappa in the TEST set is: 0.32\n"
     ]
    }
   ],
   "source": [
    "from sklearn.metrics import accuracy_score, precision_score, recall_score, f1_score, cohen_kappa_score\n",
    "\n",
    "print(\"The accuracy in the TEST set is: {:.2f}\".format(accuracy_score(y_test_o_app,y_pred_test_SMOTE_o_app)))\n",
    "print(\"The precision in the TEST set is: {:.2f}\".format(precision_score(y_test_o_app,y_pred_test_SMOTE_o_app,zero_division=0)))\n",
    "print(\"The recall in the TEST set is: {:.2f}\".format(recall_score(y_test_o_app,y_pred_test_SMOTE_o_app)))\n",
    "print(\"The F1 in the TEST set is: {:.2f}\".format(f1_score(y_test_o_app,y_pred_test_SMOTE_o_app)))\n",
    "print(\"The Kappa in the TEST set is: {:.2f}\".format(cohen_kappa_score(y_test_o_app,y_pred_test_SMOTE_o_app)))"
   ]
  },
  {
   "cell_type": "code",
   "execution_count": 585,
   "id": "c7034b83-af58-4db5-9624-04c9187b1c28",
   "metadata": {
    "tags": []
   },
   "outputs": [
    {
     "name": "stdout",
     "output_type": "stream",
     "text": [
      "              precision    recall  f1-score   support\n",
      "\n",
      "           0       1.00      0.85      0.92        46\n",
      "           1       0.22      1.00      0.36         2\n",
      "\n",
      "    accuracy                           0.85        48\n",
      "   macro avg       0.61      0.92      0.64        48\n",
      "weighted avg       0.97      0.85      0.89        48\n",
      "\n"
     ]
    }
   ],
   "source": [
    "from sklearn.metrics import classification_report\n",
    "\n",
    "print(classification_report(y_test_o_app, y_pred_test_SMOTE_o_app))"
   ]
  },
  {
   "cell_type": "code",
   "execution_count": 586,
   "id": "a5f7b368-b55a-413f-8511-63ef2dbf1eb4",
   "metadata": {
    "tags": []
   },
   "outputs": [
    {
     "data": {
      "image/png": "[encoded data removed]",
      "text/plain": [
       "<Figure size 640x480 with 2 Axes>"
      ]
     },
     "metadata": {},
     "output_type": "display_data"
    }
   ],
   "source": [
    "cm_test_o = confusion_matrix(y_test_o_app, y_pred_test_SMOTE_o_app)\n",
    "\n",
    "disp_o = ConfusionMatrixDisplay(cm_test_o,display_labels=lr_o_app.classes_)\n",
    "disp_o.plot()\n",
    "plt.show()"
   ]
  },
  {
   "cell_type": "markdown",
   "id": "dff2719d-efdf-4459-af26-385e5c91ffb1",
   "metadata": {
    "tags": []
   },
   "source": [
    "### Logistic Regression for Offense winning in a superbowl"
   ]
  },
  {
   "cell_type": "code",
   "execution_count": 587,
   "id": "634b05f0-61a0-4ad4-9586-3cc2e66bf30a",
   "metadata": {
    "tags": []
   },
   "outputs": [
    {
     "name": "stdout",
     "output_type": "stream",
     "text": [
      "year 0.0 1.0\n",
      "rec_td 2.4775033356164062 0.01428293303784457\n",
      "pass_att 2.96788014171224 0.0034655131406151306\n",
      "pass_cmp 3.2440864172316792 0.001438004252921553\n",
      "pass_yds 3.0334758985861052 0.0028270504421277925\n",
      "pass_20+ 3.090197523039206 0.002364335516378255\n",
      "pass_rec_1st 3.174624107298823 0.0018038442064883353\n",
      "sb_winner inf 0.0\n",
      "sb_appearance 12.170661444638082 1.8391416092073704e-24\n"
     ]
    },
    {
     "name": "stderr",
     "output_type": "stream",
     "text": [
      "/Users/alexferrer/Desktop/bootcamp/Week_5/sbw_f/venv_sbw/lib/python3.11/site-packages/scipy/stats/_axis_nan_policy.py:523: RuntimeWarning: Precision loss occurred in moment calculation due to catastrophic cancellation. This occurs when the data are nearly identical. Results may be unreliable.\n",
      "  res = hypotest_fun_out(*samples, **kwds)\n"
     ]
    }
   ],
   "source": [
    "# identifying potential X candidates for winning in a super bowl\n",
    "# using significance level as 0.1 due to small size of dataset\n",
    "functions.ttest_ind_2(offensive_df, 'sb_winner', True, False, 9)"
   ]
  },
  {
   "cell_type": "code",
   "execution_count": 588,
   "id": "5d9b34cf-7f35-4691-9955-fff846541d22",
   "metadata": {
    "tags": []
   },
   "outputs": [],
   "source": [
    "selected_columns_off_w=['rec_td', \n",
    "'pass_att', 'pass_cmp', 'pass_yds', 'pass_20+', \n",
    " 'pass_rec_1st', 'sb_winner']"
   ]
  },
  {
   "cell_type": "code",
   "execution_count": 589,
   "id": "26bf844a-8367-413d-9091-98c0491f6302",
   "metadata": {},
   "outputs": [],
   "source": [
    "offensive_df_winner = offensive_df[selected_columns_off_w]"
   ]
  },
  {
   "cell_type": "code",
   "execution_count": 590,
   "id": "a2b2c39f-a1ad-4e03-850e-b6d8f1484d06",
   "metadata": {
    "tags": []
   },
   "outputs": [
    {
     "data": {
      "image/png": "[encoded data removed]",
      "text/plain": [
       "<Figure size 800x2000 with 12 Axes>"
      ]
     },
     "metadata": {},
     "output_type": "display_data"
    }
   ],
   "source": [
    "# visual comparison of distributions for selected variables, there are some outliers in some of the selected columns,\n",
    "# however, as these come from average observations during an entire year, and the data is not very large (160 rows) it was\n",
    "# decided not to remove outliers.\n",
    "\n",
    "offensive_df_winner_plots = offensive_df_winner.drop(columns='sb_winner')\n",
    "\n",
    "fig, ax = plt.subplots(len(offensive_df_winner_plots.columns), 2, \n",
    "                       figsize=(8, 20))\n",
    "\n",
    "i = 0\n",
    "for col in offensive_df_winner_plots.columns:\n",
    "    \n",
    "    statistic, pvalue = st.normaltest(offensive_df_winner_plots[col])\n",
    "\n",
    "    ax[i, 0].set_title(f'{col} n-test: {statistic}, ({pvalue})')\n",
    "    sns.histplot(data=offensive_df_winner, x=col, ax=ax[i, 0], hue = 'sb_winner')\n",
    "    sns.move_legend(ax[i, 0], \"upper left\", bbox_to_anchor=(1, 1))\n",
    "\n",
    "    ax[i, 1].set_title(f'{col} boxplot')\n",
    "    sns.boxplot(data=offensive_df_winner, x=col, ax=ax[i, 1])\n",
    "    i += 1\n",
    "plt.tight_layout()\n",
    "plt.show()"
   ]
  },
  {
   "cell_type": "code",
   "execution_count": 591,
   "id": "c1773918-c8e8-49dd-a939-a51f8a3b38a3",
   "metadata": {
    "tags": []
   },
   "outputs": [
    {
     "data": {
      "text/plain": [
       "sb_winner\n",
       "0    155\n",
       "1      5\n",
       "Name: count, dtype: int64"
      ]
     },
     "execution_count": 591,
     "metadata": {},
     "output_type": "execute_result"
    }
   ],
   "source": [
    "offensive_df_winner['sb_winner'].value_counts()"
   ]
  },
  {
   "cell_type": "code",
   "execution_count": 592,
   "id": "137ee2c2-05af-4894-9c12-46e0907ea750",
   "metadata": {
    "tags": []
   },
   "outputs": [],
   "source": [
    "# Split into X and y\n",
    "X_off = offensive_df_winner.drop(columns='sb_winner')\n",
    "y_off = offensive_df_winner['sb_winner']"
   ]
  },
  {
   "cell_type": "code",
   "execution_count": 593,
   "id": "9c39fb96-5a39-4093-8ddf-3b70ed9e0d75",
   "metadata": {
    "tags": []
   },
   "outputs": [
    {
     "data": {
      "text/plain": [
       "sb_winner\n",
       "0    155\n",
       "1      5\n",
       "Name: count, dtype: int64"
      ]
     },
     "execution_count": 593,
     "metadata": {},
     "output_type": "execute_result"
    }
   ],
   "source": [
    "y_off.value_counts()"
   ]
  },
  {
   "cell_type": "code",
   "execution_count": 594,
   "id": "dcb85b7d-9b32-41a8-a2bf-29535559a52f",
   "metadata": {
    "tags": []
   },
   "outputs": [],
   "source": [
    "# train test data split\n",
    "from sklearn.model_selection import train_test_split\n",
    "X_train_o, X_test_o, y_train_o, y_test_o_win = train_test_split(X_off, y_off, test_size=0.3, random_state=70)"
   ]
  },
  {
   "cell_type": "code",
   "execution_count": 595,
   "id": "c5bf63ce-fa5a-429c-9a8d-7c0a2e1b136b",
   "metadata": {
    "tags": []
   },
   "outputs": [],
   "source": [
    "# no categorical data in X. Only numerical. \n",
    "X_train_num_o = X_train_o.select_dtypes(np.number)\n",
    "X_test_num_o = X_test_o.select_dtypes(np.number)"
   ]
  },
  {
   "cell_type": "code",
   "execution_count": 596,
   "id": "f98fc676-8282-4d18-9f93-f720027e1478",
   "metadata": {
    "tags": []
   },
   "outputs": [
    {
     "data": {
      "text/html": [
       "<div>\n",
       "<style scoped>\n",
       "    .dataframe tbody tr th:only-of-type {\n",
       "        vertical-align: middle;\n",
       "    }\n",
       "\n",
       "    .dataframe tbody tr th {\n",
       "        vertical-align: top;\n",
       "    }\n",
       "\n",
       "    .dataframe thead th {\n",
       "        text-align: right;\n",
       "    }\n",
       "</style>\n",
       "<table border=\"1\" class=\"dataframe\">\n",
       "  <thead>\n",
       "    <tr style=\"text-align: right;\">\n",
       "      <th></th>\n",
       "      <th>rec_td</th>\n",
       "      <th>pass_att</th>\n",
       "      <th>pass_cmp</th>\n",
       "      <th>pass_yds</th>\n",
       "      <th>pass_20+</th>\n",
       "      <th>pass_rec_1st</th>\n",
       "    </tr>\n",
       "  </thead>\n",
       "  <tbody>\n",
       "    <tr>\n",
       "      <th>132</th>\n",
       "      <td>-0.588856</td>\n",
       "      <td>-0.693751</td>\n",
       "      <td>-0.860551</td>\n",
       "      <td>-0.779588</td>\n",
       "      <td>-0.445418</td>\n",
       "      <td>-0.611680</td>\n",
       "    </tr>\n",
       "    <tr>\n",
       "      <th>11</th>\n",
       "      <td>-0.011158</td>\n",
       "      <td>-0.870404</td>\n",
       "      <td>-1.249142</td>\n",
       "      <td>-1.253636</td>\n",
       "      <td>-1.826370</td>\n",
       "      <td>-1.074702</td>\n",
       "    </tr>\n",
       "    <tr>\n",
       "      <th>2</th>\n",
       "      <td>-0.149692</td>\n",
       "      <td>0.774977</td>\n",
       "      <td>0.370692</td>\n",
       "      <td>-0.438452</td>\n",
       "      <td>-1.069826</td>\n",
       "      <td>-0.242845</td>\n",
       "    </tr>\n",
       "    <tr>\n",
       "      <th>115</th>\n",
       "      <td>-0.149692</td>\n",
       "      <td>0.000417</td>\n",
       "      <td>0.303092</td>\n",
       "      <td>-0.159113</td>\n",
       "      <td>-1.175923</td>\n",
       "      <td>0.454079</td>\n",
       "    </tr>\n",
       "    <tr>\n",
       "      <th>50</th>\n",
       "      <td>0.384229</td>\n",
       "      <td>-0.835118</td>\n",
       "      <td>-0.292954</td>\n",
       "      <td>-0.526343</td>\n",
       "      <td>-0.548116</td>\n",
       "      <td>-0.611680</td>\n",
       "    </tr>\n",
       "  </tbody>\n",
       "</table>\n",
       "</div>"
      ],
      "text/plain": [
       "       rec_td  pass_att  pass_cmp  pass_yds  pass_20+  pass_rec_1st\n",
       "132 -0.588856 -0.693751 -0.860551 -0.779588 -0.445418     -0.611680\n",
       "11  -0.011158 -0.870404 -1.249142 -1.253636 -1.826370     -1.074702\n",
       "2   -0.149692  0.774977  0.370692 -0.438452 -1.069826     -0.242845\n",
       "115 -0.149692  0.000417  0.303092 -0.159113 -1.175923      0.454079\n",
       "50   0.384229 -0.835118 -0.292954 -0.526343 -0.548116     -0.611680"
      ]
     },
     "execution_count": 596,
     "metadata": {},
     "output_type": "execute_result"
    }
   ],
   "source": [
    "from sklearn.preprocessing import PowerTransformer\n",
    "\n",
    "trans_o_w = PowerTransformer()\n",
    "\n",
    "trans_o_w.fit(X_train_num_o)\n",
    "\n",
    "X_train_transf_o = trans_o_w.transform(X_train_num_o)\n",
    "X_test_transf_o = trans_o_w.transform(X_test_num_o)\n",
    "\n",
    "X_train_transf_df_o = pd.DataFrame(X_train_transf_o, columns=X_train_num_o.columns, index=X_train_num_o.index)\n",
    "X_test_transf_df_o = pd.DataFrame(X_test_transf_o, columns=X_test_num_o.columns, index=X_test_num_o.index)\n",
    "\n",
    "X_train_transf_df_o.head()"
   ]
  },
  {
   "cell_type": "code",
   "execution_count": 597,
   "id": "43e04bf0-5c56-4f97-9319-9c13544e43b0",
   "metadata": {
    "tags": []
   },
   "outputs": [],
   "source": [
    "# saving to directory:\n",
    "path = \"../transformers/\"\n",
    "filename = \"powertransformer_off_win.pkl\"\n",
    "with open(path+filename, \"wb\") as file:\n",
    "    pickle.dump(trans_o_w, file)"
   ]
  },
  {
   "cell_type": "code",
   "execution_count": 598,
   "id": "40b70183-4a86-4536-a72d-e248918a4b2c",
   "metadata": {
    "tags": []
   },
   "outputs": [
    {
     "data": {
      "text/html": [
       "<div>\n",
       "<style scoped>\n",
       "    .dataframe tbody tr th:only-of-type {\n",
       "        vertical-align: middle;\n",
       "    }\n",
       "\n",
       "    .dataframe tbody tr th {\n",
       "        vertical-align: top;\n",
       "    }\n",
       "\n",
       "    .dataframe thead th {\n",
       "        text-align: right;\n",
       "    }\n",
       "</style>\n",
       "<table border=\"1\" class=\"dataframe\">\n",
       "  <thead>\n",
       "    <tr style=\"text-align: right;\">\n",
       "      <th></th>\n",
       "      <th>rec_td</th>\n",
       "      <th>pass_att</th>\n",
       "      <th>pass_cmp</th>\n",
       "      <th>pass_yds</th>\n",
       "      <th>pass_20+</th>\n",
       "      <th>pass_rec_1st</th>\n",
       "    </tr>\n",
       "  </thead>\n",
       "  <tbody>\n",
       "    <tr>\n",
       "      <th>132</th>\n",
       "      <td>0.332121</td>\n",
       "      <td>0.392437</td>\n",
       "      <td>0.339692</td>\n",
       "      <td>0.345941</td>\n",
       "      <td>0.410174</td>\n",
       "      <td>0.362151</td>\n",
       "    </tr>\n",
       "    <tr>\n",
       "      <th>11</th>\n",
       "      <td>0.450358</td>\n",
       "      <td>0.357398</td>\n",
       "      <td>0.256366</td>\n",
       "      <td>0.235274</td>\n",
       "      <td>0.118771</td>\n",
       "      <td>0.260318</td>\n",
       "    </tr>\n",
       "    <tr>\n",
       "      <th>2</th>\n",
       "      <td>0.422004</td>\n",
       "      <td>0.683757</td>\n",
       "      <td>0.603711</td>\n",
       "      <td>0.425579</td>\n",
       "      <td>0.278414</td>\n",
       "      <td>0.443270</td>\n",
       "    </tr>\n",
       "    <tr>\n",
       "      <th>115</th>\n",
       "      <td>0.422004</td>\n",
       "      <td>0.530124</td>\n",
       "      <td>0.589215</td>\n",
       "      <td>0.490791</td>\n",
       "      <td>0.256025</td>\n",
       "      <td>0.596545</td>\n",
       "    </tr>\n",
       "    <tr>\n",
       "      <th>50</th>\n",
       "      <td>0.531281</td>\n",
       "      <td>0.364397</td>\n",
       "      <td>0.461404</td>\n",
       "      <td>0.405061</td>\n",
       "      <td>0.388503</td>\n",
       "      <td>0.362151</td>\n",
       "    </tr>\n",
       "  </tbody>\n",
       "</table>\n",
       "</div>"
      ],
      "text/plain": [
       "       rec_td  pass_att  pass_cmp  pass_yds  pass_20+  pass_rec_1st\n",
       "132  0.332121  0.392437  0.339692  0.345941  0.410174      0.362151\n",
       "11   0.450358  0.357398  0.256366  0.235274  0.118771      0.260318\n",
       "2    0.422004  0.683757  0.603711  0.425579  0.278414      0.443270\n",
       "115  0.422004  0.530124  0.589215  0.490791  0.256025      0.596545\n",
       "50   0.531281  0.364397  0.461404  0.405061  0.388503      0.362151"
      ]
     },
     "execution_count": 598,
     "metadata": {},
     "output_type": "execute_result"
    }
   ],
   "source": [
    "from sklearn.preprocessing import MinMaxScaler\n",
    "\n",
    "scaler_o_w = MinMaxScaler()\n",
    "\n",
    "scaler_o_w.fit(X_train_transf_df_o)\n",
    "\n",
    "X_train_scaled_o =  scaler_o_w.transform(X_train_transf_df_o)\n",
    "X_test_scaled_o = scaler_o_w.transform(X_test_transf_df_o)\n",
    "\n",
    "X_train_scaled_df_o = pd.DataFrame(X_train_scaled_o, columns=X_train_transf_df_o.columns, index=X_train_transf_df_o.index)\n",
    "X_test_scaled_df_o = pd.DataFrame(X_test_scaled_o, columns=X_test_transf_df_o.columns, index=X_test_transf_df_o.index)\n",
    "\n",
    "X_train_scaled_df_o.head()"
   ]
  },
  {
   "cell_type": "code",
   "execution_count": 599,
   "id": "86eddab7-c767-49a6-9fb2-69d0a369ead3",
   "metadata": {
    "tags": []
   },
   "outputs": [],
   "source": [
    "# saving to directory:\n",
    "path = \"../scalers/\"\n",
    "filename = \"MinMaxScaler_off_win.pkl\"\n",
    "with open(path+filename, \"wb\") as file:\n",
    "    pickle.dump(scaler_o_w, file)"
   ]
  },
  {
   "cell_type": "markdown",
   "id": "632f81f0-979c-4089-897b-58839b14084a",
   "metadata": {},
   "source": [
    "####  Training Logistic Regression Models for Super Bowl Win"
   ]
  },
  {
   "cell_type": "code",
   "execution_count": 600,
   "id": "2216e86f-ebc1-4f1a-bded-5ffc728ca428",
   "metadata": {
    "tags": []
   },
   "outputs": [],
   "source": [
    "# Training model wtih lbfgs as solver \n",
    "from sklearn.linear_model import LogisticRegression\n",
    "\n",
    "classification_o_w = LogisticRegression(max_iter=1000, penalty='l2',random_state=0, solver='lbfgs',\n",
    "                  multi_class='auto')\n",
    "\n",
    "classification_o_w.fit(X_train_scaled_df_o, y_train_o)\n",
    "\n",
    "y_test_pred_o_win = classification_o_w.predict(X_test_scaled_df_o)\n",
    "\n",
    "from sklearn.metrics import accuracy_score"
   ]
  },
  {
   "cell_type": "code",
   "execution_count": 601,
   "id": "45c17e1e-228a-4582-a3b0-4c2ec932025c",
   "metadata": {
    "tags": []
   },
   "outputs": [
    {
     "data": {
      "text/html": [
       "<div>\n",
       "<style scoped>\n",
       "    .dataframe tbody tr th:only-of-type {\n",
       "        vertical-align: middle;\n",
       "    }\n",
       "\n",
       "    .dataframe tbody tr th {\n",
       "        vertical-align: top;\n",
       "    }\n",
       "\n",
       "    .dataframe thead th {\n",
       "        text-align: right;\n",
       "    }\n",
       "</style>\n",
       "<table border=\"1\" class=\"dataframe\">\n",
       "  <thead>\n",
       "    <tr style=\"text-align: right;\">\n",
       "      <th></th>\n",
       "      <th>Model Name</th>\n",
       "      <th>Accuracy</th>\n",
       "      <th>Precision</th>\n",
       "      <th>Recall</th>\n",
       "      <th>F1</th>\n",
       "      <th>Kappa</th>\n",
       "    </tr>\n",
       "  </thead>\n",
       "  <tbody>\n",
       "    <tr>\n",
       "      <th>0</th>\n",
       "      <td>def_win_lbfgs</td>\n",
       "      <td>0.958333</td>\n",
       "      <td>0.0</td>\n",
       "      <td>0.0</td>\n",
       "      <td>0.0</td>\n",
       "      <td>0.0</td>\n",
       "    </tr>\n",
       "  </tbody>\n",
       "</table>\n",
       "</div>"
      ],
      "text/plain": [
       "      Model Name  Accuracy  Precision  Recall   F1  Kappa\n",
       "0  def_win_lbfgs  0.958333        0.0     0.0  0.0    0.0"
      ]
     },
     "execution_count": 601,
     "metadata": {},
     "output_type": "execute_result"
    }
   ],
   "source": [
    "# calculate and store model error metrics in df\n",
    "class_log_reg_off_win_lbfgs_score=functions.class_error_metrics_report_m('def_win_lbfgs',y_test_o_win,y_test_pred_o_win)\n",
    "class_log_reg_off_win_lbfgs_score"
   ]
  },
  {
   "cell_type": "code",
   "execution_count": 602,
   "id": "851ef9e6-785c-4310-9b89-13f8f10044f9",
   "metadata": {
    "tags": []
   },
   "outputs": [],
   "source": [
    "# saving to directory:\n",
    "path = \"../models/\"\n",
    "filename = \"class_log_reg_off_win_lbfgs.pkl\"\n",
    "with open(path+filename, \"wb\") as file:\n",
    "    pickle.dump(classification_o_w, file)"
   ]
  },
  {
   "cell_type": "code",
   "execution_count": 603,
   "id": "99254b62-a246-4b17-95c6-0ca9dc87fed3",
   "metadata": {
    "tags": []
   },
   "outputs": [
    {
     "data": {
      "image/png": "[encoded data removed]",
      "text/plain": [
       "<Figure size 640x480 with 2 Axes>"
      ]
     },
     "metadata": {},
     "output_type": "display_data"
    }
   ],
   "source": [
    "from sklearn.metrics import confusion_matrix, ConfusionMatrixDisplay\n",
    "\n",
    "cm_test_o = confusion_matrix(y_test_o_win, y_test_pred_o_win)\n",
    "\n",
    "disp_o = ConfusionMatrixDisplay(cm_test_o,display_labels=classification_o_w.classes_)\n",
    "disp_o.plot()\n",
    "plt.show()"
   ]
  },
  {
   "cell_type": "code",
   "execution_count": 604,
   "id": "8e25c2f1-d4e8-43d5-9afb-a9210bbf7819",
   "metadata": {
    "tags": []
   },
   "outputs": [
    {
     "data": {
      "text/plain": [
       "sb_winner\n",
       "0    46\n",
       "1     2\n",
       "Name: count, dtype: int64"
      ]
     },
     "execution_count": 604,
     "metadata": {},
     "output_type": "execute_result"
    },
    {
     "data": {
      "image/png": "[encoded data removed]",
      "text/plain": [
       "<Figure size 640x480 with 1 Axes>"
      ]
     },
     "metadata": {},
     "output_type": "display_data"
    }
   ],
   "source": [
    "# Looking at dataset imbalance. \n",
    "sns.countplot(data=offensive_df_winner, x='sb_winner')\n",
    "len(offensive_df_winner.loc[offensive_df_winner['sb_winner'] == True])\n",
    "# Based on True values only seen in 4.16% of dataset, oversampling of true rows required. \n",
    "y_test_o_win.value_counts()"
   ]
  },
  {
   "cell_type": "markdown",
   "id": "9cdf5aff-20d7-4923-99c8-4ac26d46cfd6",
   "metadata": {},
   "source": [
    "#### Addressing imbalance of data for superbowl for superbowl wins"
   ]
  },
  {
   "cell_type": "code",
   "execution_count": 605,
   "id": "244a1637-f972-4a85-90cb-4c016e2b8063",
   "metadata": {
    "tags": []
   },
   "outputs": [],
   "source": [
    "# Using SMOTE method to balance TRUE and FALSE values in sb_appearance column\n",
    "from imblearn.over_sampling import SMOTE\n",
    "\n",
    "sm_o_w = SMOTE(random_state=100,k_neighbors=2) #using 2 k_neighbors as it could not be higher than the sample\n",
    "\n",
    "X_train_SMOTE_o, y_train_SMOTE_o = sm_o_w.fit_resample(X_train_scaled_df_o, y_train_o)"
   ]
  },
  {
   "cell_type": "code",
   "execution_count": 606,
   "id": "7d1c8979-019c-4a34-ac15-979a6edf35a7",
   "metadata": {},
   "outputs": [],
   "source": [
    "# saving to directory:\n",
    "path = \"../imbalanced_samplers/\"\n",
    "filename = \"smote_off_win.pkl\"\n",
    "with open(path+filename, \"wb\") as file:\n",
    "    pickle.dump(sm_o_w, file)"
   ]
  },
  {
   "cell_type": "code",
   "execution_count": 607,
   "id": "ec0bb1ee-6fbf-46f2-9c89-b5a5195013b0",
   "metadata": {
    "tags": []
   },
   "outputs": [
    {
     "name": "stdout",
     "output_type": "stream",
     "text": [
      "112 218\n"
     ]
    },
    {
     "data": {
      "text/plain": [
       "sb_winner\n",
       "0    109\n",
       "1    109\n",
       "Name: count, dtype: int64"
      ]
     },
     "execution_count": 607,
     "metadata": {},
     "output_type": "execute_result"
    }
   ],
   "source": [
    "print(len(X_train_scaled_df_o), len(X_train_SMOTE_o))\n",
    "y_train_SMOTE_o.value_counts()"
   ]
  },
  {
   "cell_type": "code",
   "execution_count": 608,
   "id": "3342d949-f634-449c-816a-b2f537427e75",
   "metadata": {
    "tags": []
   },
   "outputs": [],
   "source": [
    "# Re-running the logistic regression model with OVER sampled df for TRUE values. \n",
    "classification_o_w_s = LogisticRegression(max_iter=1000, penalty='l2',random_state=0, solver='lbfgs',\n",
    "                  multi_class='auto')\n",
    "classification_o_w_s.fit(X_train_SMOTE_o, y_train_SMOTE_o)\n",
    "y_pred_test_SMOTE_o_win = classification_o_w_s.predict(X_test_scaled_df_o)"
   ]
  },
  {
   "cell_type": "code",
   "execution_count": 616,
   "id": "243b3b19-982d-4ffc-98e1-7713bd05c134",
   "metadata": {
    "tags": []
   },
   "outputs": [
    {
     "data": {
      "text/html": [
       "<div>\n",
       "<style scoped>\n",
       "    .dataframe tbody tr th:only-of-type {\n",
       "        vertical-align: middle;\n",
       "    }\n",
       "\n",
       "    .dataframe tbody tr th {\n",
       "        vertical-align: top;\n",
       "    }\n",
       "\n",
       "    .dataframe thead th {\n",
       "        text-align: right;\n",
       "    }\n",
       "</style>\n",
       "<table border=\"1\" class=\"dataframe\">\n",
       "  <thead>\n",
       "    <tr style=\"text-align: right;\">\n",
       "      <th></th>\n",
       "      <th>Model Name</th>\n",
       "      <th>Accuracy</th>\n",
       "      <th>Precision</th>\n",
       "      <th>Recall</th>\n",
       "      <th>F1</th>\n",
       "      <th>Kappa</th>\n",
       "    </tr>\n",
       "  </thead>\n",
       "  <tbody>\n",
       "    <tr>\n",
       "      <th>0</th>\n",
       "      <td>def_win_oversampling</td>\n",
       "      <td>0.8125</td>\n",
       "      <td>0.181818</td>\n",
       "      <td>1.0</td>\n",
       "      <td>0.307692</td>\n",
       "      <td>0.255172</td>\n",
       "    </tr>\n",
       "  </tbody>\n",
       "</table>\n",
       "</div>"
      ],
      "text/plain": [
       "             Model Name  Accuracy  Precision  Recall        F1     Kappa\n",
       "0  def_win_oversampling    0.8125   0.181818     1.0  0.307692  0.255172"
      ]
     },
     "execution_count": 616,
     "metadata": {},
     "output_type": "execute_result"
    }
   ],
   "source": [
    "# calculate and store model error metrics in df\n",
    "class_log_reg_off_win_oversampling_score=functions.class_error_metrics_report_m('def_win_oversampling',y_test_o_win,y_pred_test_SMOTE_o_win)\n",
    "class_log_reg_off_win_oversampling_score"
   ]
  },
  {
   "cell_type": "code",
   "execution_count": null,
   "id": "2de2bb5a-2c7d-4bba-a2f3-ddd3a2a4e00f",
   "metadata": {
    "tags": []
   },
   "outputs": [],
   "source": [
    "# saving to directory:\n",
    "path = \"../models/\"\n",
    "filename = \"class_log_reg_off_win_oversampling.pkl\"\n",
    "with open(path+filename, \"wb\") as file:\n",
    "    pickle.dump(classification_o_w_s, file)"
   ]
  },
  {
   "cell_type": "code",
   "execution_count": null,
   "id": "6774e6df-8790-4e84-84ce-11e05e20ab94",
   "metadata": {
    "scrolled": true,
    "tags": []
   },
   "outputs": [],
   "source": [
    "# using zero_division \n",
    "from sklearn.metrics import accuracy_score, precision_score, recall_score, f1_score, cohen_kappa_score\n",
    "\n",
    "print(\"The accuracy in the TEST set is: {:.2f}\".format(accuracy_score(y_test_o_win,y_pred_test_SMOTE_o_win)))\n",
    "print(\"The precision in the TEST set is: {:.2f}\".format(precision_score(y_test_o_win,y_pred_test_SMOTE_o_win,zero_division=0)))\n",
    "print(\"The recall in the TEST set is: {:.2f}\".format(recall_score(y_test_o_win,y_pred_test_SMOTE_o_win)))\n",
    "print(\"The F1 in the TEST set is: {:.2f}\".format(f1_score(y_test_o_win,y_pred_test_SMOTE_o_win)))\n",
    "print(\"The Kappa in the TEST set is: {:.2f}\".format(cohen_kappa_score(y_test_o_win,y_pred_test_SMOTE_o_win)))"
   ]
  },
  {
   "cell_type": "code",
   "execution_count": null,
   "id": "7e731f5a-0830-443f-b9e7-ecd01861668a",
   "metadata": {
    "tags": []
   },
   "outputs": [],
   "source": [
    "from sklearn.metrics import classification_report\n",
    "\n",
    "print(classification_report(y_test_o_win, y_pred_test_SMOTE_o_win))"
   ]
  },
  {
   "cell_type": "code",
   "execution_count": null,
   "id": "96a5722b-d4c1-45f2-8447-111c9d57b6bf",
   "metadata": {
    "tags": []
   },
   "outputs": [],
   "source": [
    "cm_test_o = confusion_matrix(y_test_o_win, y_pred_test_SMOTE_o_win)\n",
    "\n",
    "disp_o = ConfusionMatrixDisplay(cm_test_o,display_labels=classification_o_w_s.classes_)\n",
    "disp_o.plot()\n",
    "plt.show()"
   ]
  },
  {
   "cell_type": "code",
   "execution_count": 617,
   "id": "f248764d-3ddd-4071-93f5-3736a04a4372",
   "metadata": {
    "tags": []
   },
   "outputs": [
    {
     "data": {
      "text/html": [
       "<div>\n",
       "<style scoped>\n",
       "    .dataframe tbody tr th:only-of-type {\n",
       "        vertical-align: middle;\n",
       "    }\n",
       "\n",
       "    .dataframe tbody tr th {\n",
       "        vertical-align: top;\n",
       "    }\n",
       "\n",
       "    .dataframe thead th {\n",
       "        text-align: right;\n",
       "    }\n",
       "</style>\n",
       "<table border=\"1\" class=\"dataframe\">\n",
       "  <thead>\n",
       "    <tr style=\"text-align: right;\">\n",
       "      <th></th>\n",
       "      <th>Model Name</th>\n",
       "      <th>Accuracy</th>\n",
       "      <th>Precision</th>\n",
       "      <th>Recall</th>\n",
       "      <th>F1</th>\n",
       "      <th>Kappa</th>\n",
       "    </tr>\n",
       "  </thead>\n",
       "  <tbody>\n",
       "    <tr>\n",
       "      <th>0</th>\n",
       "      <td>def_app_lbfgs</td>\n",
       "      <td>0.958333</td>\n",
       "      <td>0.000000</td>\n",
       "      <td>0.0</td>\n",
       "      <td>0.000000</td>\n",
       "      <td>0.000000</td>\n",
       "    </tr>\n",
       "    <tr>\n",
       "      <th>1</th>\n",
       "      <td>def_app_oversampling</td>\n",
       "      <td>0.854167</td>\n",
       "      <td>0.222222</td>\n",
       "      <td>1.0</td>\n",
       "      <td>0.363636</td>\n",
       "      <td>0.317073</td>\n",
       "    </tr>\n",
       "    <tr>\n",
       "      <th>2</th>\n",
       "      <td>def_win_lbfgs</td>\n",
       "      <td>0.958333</td>\n",
       "      <td>0.000000</td>\n",
       "      <td>0.0</td>\n",
       "      <td>0.000000</td>\n",
       "      <td>0.000000</td>\n",
       "    </tr>\n",
       "    <tr>\n",
       "      <th>3</th>\n",
       "      <td>def_win_oversampling</td>\n",
       "      <td>0.812500</td>\n",
       "      <td>0.181818</td>\n",
       "      <td>1.0</td>\n",
       "      <td>0.307692</td>\n",
       "      <td>0.255172</td>\n",
       "    </tr>\n",
       "  </tbody>\n",
       "</table>\n",
       "</div>"
      ],
      "text/plain": [
       "             Model Name  Accuracy  Precision  Recall        F1     Kappa\n",
       "0         def_app_lbfgs  0.958333   0.000000     0.0  0.000000  0.000000\n",
       "1  def_app_oversampling  0.854167   0.222222     1.0  0.363636  0.317073\n",
       "2         def_win_lbfgs  0.958333   0.000000     0.0  0.000000  0.000000\n",
       "3  def_win_oversampling  0.812500   0.181818     1.0  0.307692  0.255172"
      ]
     },
     "execution_count": 617,
     "metadata": {},
     "output_type": "execute_result"
    }
   ],
   "source": [
    "merged_results_off = pd.concat([class_log_reg_off_app_lbfgs_score, class_log_reg_off_app_oversampling_score,class_log_reg_off_win_lbfgs_score,class_log_reg_off_win_oversampling_score], ignore_index=True)\n",
    "merged_results_off"
   ]
  },
  {
   "cell_type": "markdown",
   "id": "4cc30747-bdc8-401f-92c5-6dccfd95f6bf",
   "metadata": {
    "tags": []
   },
   "source": [
    "### Conclusion for predicting Super Bowl wins and appearances\n",
    "As for defensive stats, predicting Super Bowl wins and appearances for NFL teams based on their regular season offensive statistics, an overall kappa score for both models was quite low, and there had to be significant oversampling performed in order to improve overall accuracy and kappa score for the models. \n",
    "\n",
    "Selecting the independent variables was done using a two sample t-test from the scipy.stats python library. \n",
    "The first step was to separate the Super Bowl appearance  dataframe from the Super Bowl winning dataframes. \n",
    "With the objective of identifying variables with potential to predict the dependent variable y, the entire set of variables was submitted to the two sample t-test, determining which variables had unequal sample means, and therefore had potetial to predict y.\n",
    "These were tested for normal distribution. As some variables did not pass the normal distribution test, a visual examination was executed and due to the low amount of data (160 rows) and the fact that each value is likely to be an yearly average coming from multiple games, it was decided to proceed using all variables that failed the t-test independently of whether they passed or failed the normaltest. This was the same reasoning used to decide not to remove outliers in the data\n",
    "\n",
    "\n",
    "\n",
    "#### Super Bowl Winner Prediction\n",
    "as for the defensive stats, due to the 1 winner per year in the 5 years dataset, this makes the overall prediction accuracy difficult to improve without additional years of data. The model was better able to come up with accurate predictions after oversampling with SMOTE and 2 k_nearest neighbors.\n",
    "However, what can be seen is the main variables for helping predict an NFL's teams likelihood to win a super bowl from offensive statistics are: \n",
    "\n",
    "- rec_td: This stat refers to the number of receiving touchdowns scored by a player. It indicates how many times a player caught a pass in the end zone for a touchdown. Most SB_Winning teams show higher values than the sample median.\n",
    "\n",
    "- pass_att: This stat indicates the number of pass attempts made by a quarterback. It represents the number of times a quarterback throws the ball in an attempt to complete a pass. All SB_Winning teams show higher values than the sample median plus one outlier.\n",
    "\n",
    "- pass_cmp: It represents the number of completed passes by a quarterback. It counts how many times the quarterback successfully connects with a receiver, resulting in a completed pass. Most SB_Winning teams show higher values than the sample median plus one outlier.\n",
    "\n",
    "- pass_yds: This stat refers to the total passing yards gained by a quarterback. It measures the cumulative number of yards gained through completed passes. All SB_Winning teams show higher values than the sample median.\n",
    "\n",
    "- pass_20+: It indicates the number of completed passes that gained 20 or more yards. This stat highlights the big-play capability of the passing game, showcasing the number of times a team completed passes for significant yardage gains. Most SB_Winning teams show higher values than the sample median.\n",
    "\n",
    "- pass_rec_1st: This stat refers to the number of pass receptions that resulted in a first down for the offense. It measures the effectiveness of the passing game in converting completed passes into successful drives that move the chains. All SB_Winning teams show higher values than the sample median.\n",
    "\n",
    "##### Results: \n",
    "Logistic Regression for super bowl winners: shows very high results for accuracy (as most of the zeroes were correctly predicted while none of the two 1s in the y_test). Kappa =0\n",
    "The accuracy in the TEST set is: 0.96, The precision in the TEST set is: 0.00\n",
    "The recall in the TEST set is: 0.00, The F1 in the TEST set is: 0.00\n",
    "\n",
    "\n",
    "Logistic regrestion after oversampling with SMOTE (KNN = 2; as it cannot be higher than the undersampled value counts): \n",
    "Overall improvements in the model and its metrics. \n",
    "This the model predicted correctly zeroes (precision =1 for 0, and 0.22 for 1s), while correctoy predicting all 1s this time (recall for 1s= 1, for 0 = 0.85) leading to an improved kappa score of 0.26 (lower than the 0.32 obtained with the SB appeareances, perhaps due to data imbalances).\n",
    "TThe accuracy in the TEST set is: 0.81, The precision in the TEST set is: 0.18\n",
    "The recall in the TEST set is: 1.00, The F1 in the TEST set is: 0.31\n",
    "\n",
    "#### Super Bowl Appearance Prediction\n",
    "Being able to play in a super bowl is the secondary goal of every NFL team, after of course winning said Super Bowl. As this dataset contained more super bowl appearances than super bowl winners from the same time frame, naturally, then it made sense the model was better able to come up with accurate predictions after oversampling with SMOTE and 5 k_nearest neighbors.\n",
    "\n",
    "The main determinants for being able to predict a team's super bowl appearance included: \n",
    "\n",
    "- pass_att: This stat indicates the number of pass attempts made by a quarterback. It represents the number of times a quarterback throws the ball in an attempt to complete a pass. Some SB_appearance teams show higher values than the sample median plus one outlier.\n",
    "\n",
    "- pass_cmp: It represents the number of completed passes by a quarterback. It counts how many times the quarterback successfully connects with a receiver, resulting in a completed pass. Most SB_appearance teams show higher values than the sample median plus one outlier.\n",
    "\n",
    "- pass_yds: This stat refers to the total passing yards gained by a quarterback. It measures the cumulative number of yards gained through completed passes. All SB_appearance teams show higher values than the sample median. All SB_appearance teams show higher values than the sample median.\n",
    "\n",
    "- pass_20+: It indicates the number of completed passes that gained 20 or more yards. This stat highlights the big-play capability of the passing game, showcasing the number of times a team completed passes for significant yardage gains. Most SB_appearance teams show higher values than the sample median.\n",
    "\n",
    "- pass_40+: This stat represents the number of completed passes that gained 40 or more yards. Similar to pass_20+, this stat emphasizes the ability of the passing game to produce explosive plays, typically resulting in long gains or touchdowns. Mixed results from SB appearance teams, both above and below the sample median.\n",
    "\n",
    "- pass_rec_1st: This stat refers to the number of pass receptions that resulted in a first down for the offense. It measures the effectiveness of the passing game in converting completed passes into successful drives that move the chains. All SB_appearance teams show higher values than the sample median plus one outlier.\n",
    "\n",
    "- total_plays: It represents the total number of offensive plays run by a team. This includes both rushing and passing plays and provides an overview of the team's overall offensive activity. Most SB_appearance teams show higher values than the sample median.\n",
    "(-)\n",
    "- sck / SckY: Short for \"Sack Yards,\" it represents the total number of yards lost by a team due to the quarterback being sacked. Sacks occur when the defense tackles the quarterback behind the line of scrimmage before they can throw the ball. All SB_appearance teams show similar or lower values than the sample median. \n",
    "\n",
    "- rush_40+: It indicates the number of rushing attempts that gained 40 or more yards. Similar to rush_20+, this stat emphasizes the explosiveness of the rushing attack, showcasing those rare instances of extremely long runs. The SB_appearance teams show lower values than the sample median.\n",
    "\n",
    "##### Results: \n",
    "Logistic Regression for super bowl appereance: shows very high results for accuracy (as most of the zeroes were correctly predicted while none of the two 1s in the y_test). Kappa =0\n",
    "The accuracy in the TEST set is: 0.96, The precision in the TEST set is: 0.00\n",
    "The recall in the TEST set is: 0.00, The F1 in the TEST set is: 0.00\n",
    "\n",
    "\n",
    "Logistic regrestion after oversampling with SMOTE: \n",
    "Overall improvements in the model and its metrics. \n",
    "This the model predicted correctly zeroes (precision =1 for 0, and 0.22 for 1s), while correctoy predicting all 1s this time (recall for 1s= 1, for 0 = 0.85) leading to an improved kappa score of 0.32.\n",
    "The accuracy in the TEST set is: 0.85, The precision in the TEST set is: 0.22\n",
    "The recall in the TEST set is: 1.00, The F1 in the TEST set is: 0.36"
   ]
  }
 ],
 "metadata": {
  "kernelspec": {
   "display_name": "venv_sbw",
   "language": "python",
   "name": "venv_sbw"
  },
  "language_info": {
   "codemirror_mode": {
    "name": "ipython",
    "version": 3
   },
   "file_extension": ".py",
   "mimetype": "text/x-python",
   "name": "python",
   "nbconvert_exporter": "python",
   "pygments_lexer": "ipython3",
   "version": "3.11.5"
  }
 },
 "nbformat": 4,
 "nbformat_minor": 5
}
