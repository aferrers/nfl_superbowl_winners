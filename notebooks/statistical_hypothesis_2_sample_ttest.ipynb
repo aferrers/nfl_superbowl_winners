{
 "cells": [
  {
   "cell_type": "code",
   "execution_count": 168,
   "id": "f2029fe3-7012-4ba6-bf57-e7f95bbbbd4e",
   "metadata": {},
   "outputs": [],
   "source": [
    "import pandas as pd\n",
    "import scipy.stats as st\n",
    "import numpy as np\n",
    "import seaborn as sns\n",
    "import matplotlib.pyplot as plt\n",
    "import pickle"
   ]
  },
  {
   "cell_type": "markdown",
   "id": "52980981-37df-4118-8159-88a4a5d9911d",
   "metadata": {},
   "source": [
    "### Identifying possible X candidates against y (super bowl appearance and super bowl win)"
   ]
  },
  {
   "cell_type": "code",
   "execution_count": 82,
   "id": "9944eb45-6619-4e3a-840a-5a7038a1372b",
   "metadata": {
    "scrolled": true
   },
   "outputs": [
    {
     "data": {
      "text/html": [
       "<div>\n",
       "<style scoped>\n",
       "    .dataframe tbody tr th:only-of-type {\n",
       "        vertical-align: middle;\n",
       "    }\n",
       "\n",
       "    .dataframe tbody tr th {\n",
       "        vertical-align: top;\n",
       "    }\n",
       "\n",
       "    .dataframe thead th {\n",
       "        text-align: right;\n",
       "    }\n",
       "</style>\n",
       "<table border=\"1\" class=\"dataframe\">\n",
       "  <thead>\n",
       "    <tr style=\"text-align: right;\">\n",
       "      <th></th>\n",
       "      <th>year</th>\n",
       "      <th>stat_type</th>\n",
       "      <th>team</th>\n",
       "      <th>forced_fumbles</th>\n",
       "      <th>fumble_recoveries</th>\n",
       "      <th>fumble_recovery_td</th>\n",
       "      <th>reception_fumble</th>\n",
       "      <th>rush_fumble</th>\n",
       "      <th>pass_attempt</th>\n",
       "      <th>pass_cmp</th>\n",
       "      <th>...</th>\n",
       "      <th>4th_att</th>\n",
       "      <th>4th_md</th>\n",
       "      <th>rec_1st_all</th>\n",
       "      <th>rec_1st%_all</th>\n",
       "      <th>rush_1st_all</th>\n",
       "      <th>rush_1st%_all</th>\n",
       "      <th>total_plays</th>\n",
       "      <th>year_team</th>\n",
       "      <th>sb_winner</th>\n",
       "      <th>sb_appearance</th>\n",
       "    </tr>\n",
       "  </thead>\n",
       "  <tbody>\n",
       "    <tr>\n",
       "      <th>0</th>\n",
       "      <td>2018</td>\n",
       "      <td>defense</td>\n",
       "      <td>49ers</td>\n",
       "      <td>11</td>\n",
       "      <td>5</td>\n",
       "      <td>0</td>\n",
       "      <td>4</td>\n",
       "      <td>6</td>\n",
       "      <td>542</td>\n",
       "      <td>344</td>\n",
       "      <td>...</td>\n",
       "      <td>17</td>\n",
       "      <td>10</td>\n",
       "      <td>195</td>\n",
       "      <td>56.7</td>\n",
       "      <td>104</td>\n",
       "      <td>23.4</td>\n",
       "      <td>1023</td>\n",
       "      <td>2018_49ers</td>\n",
       "      <td>0</td>\n",
       "      <td>0</td>\n",
       "    </tr>\n",
       "    <tr>\n",
       "      <th>1</th>\n",
       "      <td>2018</td>\n",
       "      <td>defense</td>\n",
       "      <td>Bears</td>\n",
       "      <td>18</td>\n",
       "      <td>9</td>\n",
       "      <td>1</td>\n",
       "      <td>4</td>\n",
       "      <td>5</td>\n",
       "      <td>615</td>\n",
       "      <td>377</td>\n",
       "      <td>...</td>\n",
       "      <td>28</td>\n",
       "      <td>16</td>\n",
       "      <td>186</td>\n",
       "      <td>49.3</td>\n",
       "      <td>67</td>\n",
       "      <td>19.8</td>\n",
       "      <td>1004</td>\n",
       "      <td>2018_Bears</td>\n",
       "      <td>0</td>\n",
       "      <td>0</td>\n",
       "    </tr>\n",
       "    <tr>\n",
       "      <th>2</th>\n",
       "      <td>2018</td>\n",
       "      <td>defense</td>\n",
       "      <td>Bengals</td>\n",
       "      <td>10</td>\n",
       "      <td>6</td>\n",
       "      <td>2</td>\n",
       "      <td>3</td>\n",
       "      <td>3</td>\n",
       "      <td>584</td>\n",
       "      <td>389</td>\n",
       "      <td>...</td>\n",
       "      <td>17</td>\n",
       "      <td>11</td>\n",
       "      <td>221</td>\n",
       "      <td>56.8</td>\n",
       "      <td>125</td>\n",
       "      <td>26.8</td>\n",
       "      <td>1084</td>\n",
       "      <td>2018_Bengals</td>\n",
       "      <td>0</td>\n",
       "      <td>0</td>\n",
       "    </tr>\n",
       "    <tr>\n",
       "      <th>3</th>\n",
       "      <td>2018</td>\n",
       "      <td>defense</td>\n",
       "      <td>Bills</td>\n",
       "      <td>21</td>\n",
       "      <td>11</td>\n",
       "      <td>0</td>\n",
       "      <td>4</td>\n",
       "      <td>10</td>\n",
       "      <td>492</td>\n",
       "      <td>313</td>\n",
       "      <td>...</td>\n",
       "      <td>11</td>\n",
       "      <td>6</td>\n",
       "      <td>157</td>\n",
       "      <td>50.2</td>\n",
       "      <td>111</td>\n",
       "      <td>25.2</td>\n",
       "      <td>968</td>\n",
       "      <td>2018_Bills</td>\n",
       "      <td>0</td>\n",
       "      <td>0</td>\n",
       "    </tr>\n",
       "    <tr>\n",
       "      <th>4</th>\n",
       "      <td>2018</td>\n",
       "      <td>defense</td>\n",
       "      <td>Broncos</td>\n",
       "      <td>13</td>\n",
       "      <td>10</td>\n",
       "      <td>0</td>\n",
       "      <td>3</td>\n",
       "      <td>6</td>\n",
       "      <td>549</td>\n",
       "      <td>353</td>\n",
       "      <td>...</td>\n",
       "      <td>11</td>\n",
       "      <td>6</td>\n",
       "      <td>197</td>\n",
       "      <td>55.8</td>\n",
       "      <td>85</td>\n",
       "      <td>19.8</td>\n",
       "      <td>1022</td>\n",
       "      <td>2018_Broncos</td>\n",
       "      <td>0</td>\n",
       "      <td>0</td>\n",
       "    </tr>\n",
       "    <tr>\n",
       "      <th>...</th>\n",
       "      <td>...</td>\n",
       "      <td>...</td>\n",
       "      <td>...</td>\n",
       "      <td>...</td>\n",
       "      <td>...</td>\n",
       "      <td>...</td>\n",
       "      <td>...</td>\n",
       "      <td>...</td>\n",
       "      <td>...</td>\n",
       "      <td>...</td>\n",
       "      <td>...</td>\n",
       "      <td>...</td>\n",
       "      <td>...</td>\n",
       "      <td>...</td>\n",
       "      <td>...</td>\n",
       "      <td>...</td>\n",
       "      <td>...</td>\n",
       "      <td>...</td>\n",
       "      <td>...</td>\n",
       "      <td>...</td>\n",
       "      <td>...</td>\n",
       "    </tr>\n",
       "    <tr>\n",
       "      <th>155</th>\n",
       "      <td>2021</td>\n",
       "      <td>defense</td>\n",
       "      <td>Seahawks</td>\n",
       "      <td>9</td>\n",
       "      <td>7</td>\n",
       "      <td>0</td>\n",
       "      <td>1</td>\n",
       "      <td>5</td>\n",
       "      <td>658</td>\n",
       "      <td>443</td>\n",
       "      <td>...</td>\n",
       "      <td>31</td>\n",
       "      <td>13</td>\n",
       "      <td>240</td>\n",
       "      <td>54.2</td>\n",
       "      <td>124</td>\n",
       "      <td>24.4</td>\n",
       "      <td>1201</td>\n",
       "      <td>2021_Seahawks</td>\n",
       "      <td>0</td>\n",
       "      <td>0</td>\n",
       "    </tr>\n",
       "    <tr>\n",
       "      <th>156</th>\n",
       "      <td>2021</td>\n",
       "      <td>defense</td>\n",
       "      <td>Steelers</td>\n",
       "      <td>18</td>\n",
       "      <td>9</td>\n",
       "      <td>0</td>\n",
       "      <td>7</td>\n",
       "      <td>7</td>\n",
       "      <td>563</td>\n",
       "      <td>355</td>\n",
       "      <td>...</td>\n",
       "      <td>24</td>\n",
       "      <td>13</td>\n",
       "      <td>186</td>\n",
       "      <td>52.4</td>\n",
       "      <td>144</td>\n",
       "      <td>28.9</td>\n",
       "      <td>1116</td>\n",
       "      <td>2021_Steelers</td>\n",
       "      <td>0</td>\n",
       "      <td>0</td>\n",
       "    </tr>\n",
       "    <tr>\n",
       "      <th>157</th>\n",
       "      <td>2021</td>\n",
       "      <td>defense</td>\n",
       "      <td>Texans</td>\n",
       "      <td>16</td>\n",
       "      <td>8</td>\n",
       "      <td>0</td>\n",
       "      <td>4</td>\n",
       "      <td>10</td>\n",
       "      <td>546</td>\n",
       "      <td>363</td>\n",
       "      <td>...</td>\n",
       "      <td>19</td>\n",
       "      <td>11</td>\n",
       "      <td>218</td>\n",
       "      <td>60.1</td>\n",
       "      <td>135</td>\n",
       "      <td>25.8</td>\n",
       "      <td>1101</td>\n",
       "      <td>2021_Texans</td>\n",
       "      <td>0</td>\n",
       "      <td>0</td>\n",
       "    </tr>\n",
       "    <tr>\n",
       "      <th>158</th>\n",
       "      <td>2021</td>\n",
       "      <td>defense</td>\n",
       "      <td>Titans</td>\n",
       "      <td>13</td>\n",
       "      <td>6</td>\n",
       "      <td>1</td>\n",
       "      <td>7</td>\n",
       "      <td>4</td>\n",
       "      <td>628</td>\n",
       "      <td>395</td>\n",
       "      <td>...</td>\n",
       "      <td>24</td>\n",
       "      <td>14</td>\n",
       "      <td>204</td>\n",
       "      <td>51.6</td>\n",
       "      <td>90</td>\n",
       "      <td>24.5</td>\n",
       "      <td>1039</td>\n",
       "      <td>2021_Titans</td>\n",
       "      <td>0</td>\n",
       "      <td>0</td>\n",
       "    </tr>\n",
       "    <tr>\n",
       "      <th>159</th>\n",
       "      <td>2021</td>\n",
       "      <td>defense</td>\n",
       "      <td>Vikings</td>\n",
       "      <td>13</td>\n",
       "      <td>8</td>\n",
       "      <td>0</td>\n",
       "      <td>3</td>\n",
       "      <td>4</td>\n",
       "      <td>626</td>\n",
       "      <td>401</td>\n",
       "      <td>...</td>\n",
       "      <td>30</td>\n",
       "      <td>15</td>\n",
       "      <td>224</td>\n",
       "      <td>55.9</td>\n",
       "      <td>131</td>\n",
       "      <td>27.6</td>\n",
       "      <td>1152</td>\n",
       "      <td>2021_Vikings</td>\n",
       "      <td>0</td>\n",
       "      <td>0</td>\n",
       "    </tr>\n",
       "  </tbody>\n",
       "</table>\n",
       "<p>160 rows × 56 columns</p>\n",
       "</div>"
      ],
      "text/plain": [
       "     year stat_type      team  forced_fumbles  fumble_recoveries  \\\n",
       "0    2018   defense     49ers              11                  5   \n",
       "1    2018   defense     Bears              18                  9   \n",
       "2    2018   defense   Bengals              10                  6   \n",
       "3    2018   defense     Bills              21                 11   \n",
       "4    2018   defense   Broncos              13                 10   \n",
       "..    ...       ...       ...             ...                ...   \n",
       "155  2021   defense  Seahawks               9                  7   \n",
       "156  2021   defense  Steelers              18                  9   \n",
       "157  2021   defense    Texans              16                  8   \n",
       "158  2021   defense    Titans              13                  6   \n",
       "159  2021   defense   Vikings              13                  8   \n",
       "\n",
       "     fumble_recovery_td  reception_fumble  rush_fumble  pass_attempt  \\\n",
       "0                     0                 4            6           542   \n",
       "1                     1                 4            5           615   \n",
       "2                     2                 3            3           584   \n",
       "3                     0                 4           10           492   \n",
       "4                     0                 3            6           549   \n",
       "..                  ...               ...          ...           ...   \n",
       "155                   0                 1            5           658   \n",
       "156                   0                 7            7           563   \n",
       "157                   0                 4           10           546   \n",
       "158                   1                 7            4           628   \n",
       "159                   0                 3            4           626   \n",
       "\n",
       "     pass_cmp  ...  4th_att  4th_md  rec_1st_all  rec_1st%_all  rush_1st_all  \\\n",
       "0         344  ...       17      10          195          56.7           104   \n",
       "1         377  ...       28      16          186          49.3            67   \n",
       "2         389  ...       17      11          221          56.8           125   \n",
       "3         313  ...       11       6          157          50.2           111   \n",
       "4         353  ...       11       6          197          55.8            85   \n",
       "..        ...  ...      ...     ...          ...           ...           ...   \n",
       "155       443  ...       31      13          240          54.2           124   \n",
       "156       355  ...       24      13          186          52.4           144   \n",
       "157       363  ...       19      11          218          60.1           135   \n",
       "158       395  ...       24      14          204          51.6            90   \n",
       "159       401  ...       30      15          224          55.9           131   \n",
       "\n",
       "     rush_1st%_all  total_plays      year_team  sb_winner  sb_appearance  \n",
       "0             23.4         1023     2018_49ers          0              0  \n",
       "1             19.8         1004     2018_Bears          0              0  \n",
       "2             26.8         1084   2018_Bengals          0              0  \n",
       "3             25.2          968     2018_Bills          0              0  \n",
       "4             19.8         1022   2018_Broncos          0              0  \n",
       "..             ...          ...            ...        ...            ...  \n",
       "155           24.4         1201  2021_Seahawks          0              0  \n",
       "156           28.9         1116  2021_Steelers          0              0  \n",
       "157           25.8         1101    2021_Texans          0              0  \n",
       "158           24.5         1039    2021_Titans          0              0  \n",
       "159           27.6         1152   2021_Vikings          0              0  \n",
       "\n",
       "[160 rows x 56 columns]"
      ]
     },
     "execution_count": 82,
     "metadata": {},
     "output_type": "execute_result"
    }
   ],
   "source": [
    "defensive_df = pd.read_csv('../data/cleaned/2017-2021_aggregated_team_defensive_stats_with_sb.csv')\n",
    "defensive_df"
   ]
  },
  {
   "cell_type": "code",
   "execution_count": 83,
   "id": "d827bed5-ac6d-4a76-93b2-09bf87253cf4",
   "metadata": {},
   "outputs": [],
   "source": [
    "defensive_df['sb_winner'] = defensive_df['sb_winner'].astype(bool)\n",
    "defensive_df['sb_appearance'] = defensive_df['sb_appearance'].astype(bool)"
   ]
  },
  {
   "cell_type": "code",
   "execution_count": 84,
   "id": "335a30a2-d8a9-4eaa-a7ac-5fa1abbb3307",
   "metadata": {},
   "outputs": [
    {
     "data": {
      "text/plain": [
       "(10, 48)"
      ]
     },
     "metadata": {},
     "output_type": "display_data"
    },
    {
     "data": {
      "text/plain": [
       "(150, 48)"
      ]
     },
     "metadata": {},
     "output_type": "display_data"
    }
   ],
   "source": [
    "# Splitting dataframe to check numerical columns for statistical difference between means to identify \n",
    "# potential X candidates for logisitc regression\n",
    "\n",
    "defensive_sb_app = defensive_df.loc[defensive_df['sb_appearance'] == True].select_dtypes(np.number)\n",
    "defensive_nosb_app = defensive_df.loc[defensive_df['sb_appearance'] == False].select_dtypes(np.number)\n",
    "display(defensive_sb_app.shape)\n",
    "display(defensive_nosb_app.shape)"
   ]
  },
  {
   "cell_type": "code",
   "execution_count": 85,
   "id": "cfc7ff5c-1a4e-4fb7-9393-87e75446b4dc",
   "metadata": {},
   "outputs": [
    {
     "name": "stdout",
     "output_type": "stream",
     "text": [
      "year 108.9918957048916 2.1513474772124718e-24\n",
      "fumble_recovery_td 49.14683315337764 2.1276528978139807e-11\n",
      "reception_fumble 11.928844385146638 0.0025685282934255435\n",
      "rush_td 15.8233382139905 0.00036644243823465156\n",
      "rush_20+ 20.28046970621588 3.9459534542918395e-05\n",
      "rush_40+ 20.342820777004306 3.8248340337508586e-05\n",
      "int_td 15.927186414814166 0.0003479007891770097\n",
      "int_yds 8.4320904425152 0.014756889488830064\n",
      "SFTY 40.758633111181034 1.4105070946861231e-09\n",
      "/n\n",
      "fumble_recovery_td 8.067546329668009 0.017707390842496836\n",
      "pass_td 8.170506485345058 0.0168188795186067\n",
      "opp_qb_rate 21.53932839303407 2.1027820810452017e-05\n",
      "pass_1st 8.835285673182934 0.012062632395416202\n",
      "pass_1st% 8.899378557738487 0.01168219631175743\n",
      "rush_20+ 0.0009657092936791859 0.9995172619087048\n",
      "int_yds 9.689639955745971 0.007869033927709705\n",
      "3rd_md 12.081782682587942 0.0023794370775936527\n",
      "rec_1st_all 8.835285673182934 0.012062632395416202\n"
     ]
    },
    {
     "name": "stderr",
     "output_type": "stream",
     "text": [
      "/Users/HenrySoysa/Desktop/Ironhack/Week_5/Mid_bootcamp_project/nfl_venv/lib/python3.11/site-packages/scipy/stats/_stats_py.py:1806: UserWarning: kurtosistest only valid for n>=20 ... continuing anyway, n=10\n",
      "  warnings.warn(\"kurtosistest only valid for n>=20 ... continuing \"\n"
     ]
    }
   ],
   "source": [
    "# Checking degree of normal distribution for numerical columns to consider when looking for significant difference \n",
    "# between various population means\n",
    "\n",
    "for col in defensive_nosb_app.select_dtypes(np.number).columns:\n",
    "    stat, pval = st.normaltest(defensive_nosb_app[col])\n",
    "    if pval > 0.975:\n",
    "        print(col, stat, pval)\n",
    "    elif pval < 0.025:\n",
    "        print(col, stat, pval)\n",
    "print('/n')\n",
    "for col in defensive_sb_app.select_dtypes(np.number).columns:\n",
    "    stat, pval = st.normaltest(defensive_sb_app[col])\n",
    "    if pval > 0.975:\n",
    "        print(col, stat, pval)\n",
    "    elif pval < 0.025:\n",
    "        print(col, stat, pval)"
   ]
  },
  {
   "cell_type": "code",
   "execution_count": 176,
   "id": "e9d73915-d850-43d0-a16b-779092096148",
   "metadata": {},
   "outputs": [],
   "source": [
    "# Function for looking for significant difference between two populations' means. \n",
    "def ttest_ind_2(df1: pd.DataFrame, y: str, y_val, y_val2, random_state: int, significance_level: float=0.05):\n",
    "    \"\"\"\n",
    "    Function: Split dataframes based on input in y column (binary) and compare statistical difference between each numerical column of split dataframe. \n",
    "    This is is done in order to identify potential X candidates for a logistic regression model to predict y outcomes. \n",
    "    Inputs: dataframe, name of y column, potential y value 1, potential y value 2, random state for scipy.stats.ttest_ind()\n",
    "    Outputs: List of column names from dataframe that fall into the rejection zones and can be stated have means which are significantly different \n",
    "    from one another across y_value split\n",
    "    \"\"\"\n",
    "    df1_num = df1.loc[df1[y] == y_val].select_dtypes(np.number)\n",
    "    df2_num = df1.loc[df1[y] == y_val2].select_dtypes(np.number)\n",
    "    for col in df1_num.columns:\n",
    "        stat, pval = st.ttest_ind(df1_num[col], df2_num[col], axis=0, random_state=random_state)\n",
    "        if pval > 1-(significance_level/2):\n",
    "            print(col, stat, pval)\n",
    "        elif pval < (significance_level/2):\n",
    "            print(col, stat, pval)"
   ]
  },
  {
   "cell_type": "code",
   "execution_count": 283,
   "id": "8751871f-9c06-4fce-90e1-16c3d53c2d67",
   "metadata": {},
   "outputs": [
    {
     "name": "stdout",
     "output_type": "stream",
     "text": [
      "year 0.0 1.0\n",
      "rush_att -2.6545076268991243 0.008755154814211187\n",
      "rush_td -2.457023444957893 0.015090868797000936\n",
      "rec_yds -0.011103310641426846 0.9911550292367656\n",
      "total_sack -3.138259871223912 0.002028155161349757\n"
     ]
    }
   ],
   "source": [
    "# identifying potential X candidates for appearing in a super bowl (win or lose)\n",
    "ttest_ind_2(defensive_df, 'sb_appearance', True, False, 9)"
   ]
  },
  {
   "cell_type": "code",
   "execution_count": 90,
   "id": "bdc787a6-2b87-40d8-ab24-4de49684a6eb",
   "metadata": {},
   "outputs": [],
   "source": [
    "# Creating list of columns as X candidates to use for logistic regression model. \n",
    "potential_x_candidates_app_with_y = ['rush_att', 'rush_td', 'rec_yds', 'total_sack', 'sb_appearance']"
   ]
  },
  {
   "cell_type": "code",
   "execution_count": 91,
   "id": "7c170157-49d1-42c6-8481-7be8f88a224e",
   "metadata": {},
   "outputs": [],
   "source": [
    "defensive_df_appearance = defensive_df[potential_x_candidates_app_with_y]"
   ]
  },
  {
   "cell_type": "markdown",
   "id": "cb7c37b0-019d-475e-b0b9-4a7af6320324",
   "metadata": {},
   "source": [
    "### Logistic Regression for Defense appearing in a superbowl"
   ]
  },
  {
   "cell_type": "code",
   "execution_count": null,
   "id": "502a877a-8688-4435-b032-2aaff7061ba7",
   "metadata": {},
   "outputs": [],
   "source": [
    "# Split into X and y\n",
    "X = defensive_df_appearance.drop(columns='sb_appearance')\n",
    "y = defensive_df_appearance['sb_appearance']"
   ]
  },
  {
   "cell_type": "code",
   "execution_count": 100,
   "id": "7627f820-a004-4532-8d6c-e2e974591813",
   "metadata": {},
   "outputs": [],
   "source": [
    "# train test data split\n",
    "from sklearn.model_selection import train_test_split\n",
    "X_train, X_test, y_train, y_test = train_test_split(X, y, test_size=0.3)"
   ]
  },
  {
   "cell_type": "code",
   "execution_count": 101,
   "id": "f89e59a9-c235-417f-a5fe-0e25629cd6a3",
   "metadata": {},
   "outputs": [],
   "source": [
    "# no categorical data in X. Only numerical. \n",
    "X_train_num = X_train.select_dtypes(np.number)\n",
    "X_test_num = X_test.select_dtypes(np.number)"
   ]
  },
  {
   "cell_type": "code",
   "execution_count": null,
   "id": "bc7b1168-18ed-493c-859a-d06af031bf0d",
   "metadata": {},
   "outputs": [],
   "source": [
    "# No categorical column encoding required. "
   ]
  },
  {
   "cell_type": "code",
   "execution_count": 110,
   "id": "c8fa8a10-1d9e-4387-8277-0b65e1958e0f",
   "metadata": {},
   "outputs": [
    {
     "data": {
      "text/html": [
       "<div>\n",
       "<style scoped>\n",
       "    .dataframe tbody tr th:only-of-type {\n",
       "        vertical-align: middle;\n",
       "    }\n",
       "\n",
       "    .dataframe tbody tr th {\n",
       "        vertical-align: top;\n",
       "    }\n",
       "\n",
       "    .dataframe thead th {\n",
       "        text-align: right;\n",
       "    }\n",
       "</style>\n",
       "<table border=\"1\" class=\"dataframe\">\n",
       "  <thead>\n",
       "    <tr style=\"text-align: right;\">\n",
       "      <th></th>\n",
       "      <th>rush_att</th>\n",
       "      <th>rush_td</th>\n",
       "      <th>rec_yds</th>\n",
       "      <th>total_sack</th>\n",
       "    </tr>\n",
       "  </thead>\n",
       "  <tbody>\n",
       "    <tr>\n",
       "      <th>112</th>\n",
       "      <td>-0.037866</td>\n",
       "      <td>-1.280790</td>\n",
       "      <td>-2.367872</td>\n",
       "      <td>-1.370596</td>\n",
       "    </tr>\n",
       "    <tr>\n",
       "      <th>2</th>\n",
       "      <td>0.837246</td>\n",
       "      <td>0.608605</td>\n",
       "      <td>1.500654</td>\n",
       "      <td>-0.087807</td>\n",
       "    </tr>\n",
       "    <tr>\n",
       "      <th>55</th>\n",
       "      <td>0.316322</td>\n",
       "      <td>0.198264</td>\n",
       "      <td>-0.313925</td>\n",
       "      <td>-1.585149</td>\n",
       "    </tr>\n",
       "    <tr>\n",
       "      <th>118</th>\n",
       "      <td>0.056504</td>\n",
       "      <td>-0.735712</td>\n",
       "      <td>-0.003332</td>\n",
       "      <td>-1.370596</td>\n",
       "    </tr>\n",
       "    <tr>\n",
       "      <th>36</th>\n",
       "      <td>-0.108604</td>\n",
       "      <td>-1.280790</td>\n",
       "      <td>-0.587501</td>\n",
       "      <td>0.276987</td>\n",
       "    </tr>\n",
       "  </tbody>\n",
       "</table>\n",
       "</div>"
      ],
      "text/plain": [
       "     rush_att   rush_td   rec_yds  total_sack\n",
       "112 -0.037866 -1.280790 -2.367872   -1.370596\n",
       "2    0.837246  0.608605  1.500654   -0.087807\n",
       "55   0.316322  0.198264 -0.313925   -1.585149\n",
       "118  0.056504 -0.735712 -0.003332   -1.370596\n",
       "36  -0.108604 -1.280790 -0.587501    0.276987"
      ]
     },
     "execution_count": 110,
     "metadata": {},
     "output_type": "execute_result"
    }
   ],
   "source": [
    "from sklearn.preprocessing import PowerTransformer\n",
    "\n",
    "trans = PowerTransformer()\n",
    "\n",
    "trans.fit(X_train_num)\n",
    "\n",
    "X_train_transf = trans.transform(X_train_num)\n",
    "X_test_transf = trans.transform(X_test_num)\n",
    "\n",
    "X_train_transf_df = pd.DataFrame(X_train_transf, columns=X_train_num.columns, index=X_train_num.index)\n",
    "X_test_transf_df = pd.DataFrame(X_test_transf, columns=X_train_num.columns, index=X_test_num.index)\n",
    "\n",
    "X_train_transf_df.head()"
   ]
  },
  {
   "cell_type": "code",
   "execution_count": 165,
   "id": "900898dd-5a04-471f-a20e-e4fe975055a8",
   "metadata": {},
   "outputs": [
    {
     "data": {
      "text/html": [
       "<div>\n",
       "<style scoped>\n",
       "    .dataframe tbody tr th:only-of-type {\n",
       "        vertical-align: middle;\n",
       "    }\n",
       "\n",
       "    .dataframe tbody tr th {\n",
       "        vertical-align: top;\n",
       "    }\n",
       "\n",
       "    .dataframe thead th {\n",
       "        text-align: right;\n",
       "    }\n",
       "</style>\n",
       "<table border=\"1\" class=\"dataframe\">\n",
       "  <thead>\n",
       "    <tr style=\"text-align: right;\">\n",
       "      <th></th>\n",
       "      <th>rush_att</th>\n",
       "      <th>rush_td</th>\n",
       "      <th>rec_yds</th>\n",
       "      <th>total_sack</th>\n",
       "    </tr>\n",
       "  </thead>\n",
       "  <tbody>\n",
       "    <tr>\n",
       "      <th>112</th>\n",
       "      <td>0.485515</td>\n",
       "      <td>0.245802</td>\n",
       "      <td>0.011568</td>\n",
       "      <td>0.238582</td>\n",
       "    </tr>\n",
       "    <tr>\n",
       "      <th>2</th>\n",
       "      <td>0.687203</td>\n",
       "      <td>0.588688</td>\n",
       "      <td>0.767279</td>\n",
       "      <td>0.506637</td>\n",
       "    </tr>\n",
       "    <tr>\n",
       "      <th>55</th>\n",
       "      <td>0.567145</td>\n",
       "      <td>0.514220</td>\n",
       "      <td>0.412803</td>\n",
       "      <td>0.193748</td>\n",
       "    </tr>\n",
       "    <tr>\n",
       "      <th>118</th>\n",
       "      <td>0.507264</td>\n",
       "      <td>0.344723</td>\n",
       "      <td>0.473477</td>\n",
       "      <td>0.238582</td>\n",
       "    </tr>\n",
       "    <tr>\n",
       "      <th>36</th>\n",
       "      <td>0.469211</td>\n",
       "      <td>0.245802</td>\n",
       "      <td>0.359361</td>\n",
       "      <td>0.582866</td>\n",
       "    </tr>\n",
       "  </tbody>\n",
       "</table>\n",
       "</div>"
      ],
      "text/plain": [
       "     rush_att   rush_td   rec_yds  total_sack\n",
       "112  0.485515  0.245802  0.011568    0.238582\n",
       "2    0.687203  0.588688  0.767279    0.506637\n",
       "55   0.567145  0.514220  0.412803    0.193748\n",
       "118  0.507264  0.344723  0.473477    0.238582\n",
       "36   0.469211  0.245802  0.359361    0.582866"
      ]
     },
     "execution_count": 165,
     "metadata": {},
     "output_type": "execute_result"
    }
   ],
   "source": [
    "from sklearn.preprocessing import MinMaxScaler\n",
    "\n",
    "scaler = MinMaxScaler()\n",
    "\n",
    "scaler.fit(X_train_transf_df)\n",
    "\n",
    "X_train_scaled =  scaler.transform(X_train_transf_df)\n",
    "X_test_scaled = scaler.transform(X_test_transf_df)\n",
    "\n",
    "X_train_scaled_df = pd.DataFrame(X_train_scaled, columns=X_train_transf_df.columns, index=X_train_transf_df.index)\n",
    "X_test_scaled_df = pd.DataFrame(X_test_scaled, columns=X_train_transf_df.columns, index=X_test_transf_df.index)\n",
    "\n",
    "X_train_scaled_df.head()"
   ]
  },
  {
   "cell_type": "markdown",
   "id": "3ca1e564-6156-409b-a0dc-1795ea4eb104",
   "metadata": {},
   "source": [
    "####  Training Logistic Regression Models for Super Bowl Appearance"
   ]
  },
  {
   "cell_type": "code",
   "execution_count": 166,
   "id": "8ded0cb6-66a5-495d-bc42-8d5b6571db0f",
   "metadata": {},
   "outputs": [
    {
     "name": "stdout",
     "output_type": "stream",
     "text": [
      "The accuracy in the TEST set is: 0.92\n",
      "The precision in the TEST set is: 0.00\n",
      "The recall in the TEST set is: 0.00\n",
      "The F1 in the TEST set is: 0.00\n",
      "The Kappa in the TEST set is: 0.00\n"
     ]
    },
    {
     "name": "stderr",
     "output_type": "stream",
     "text": [
      "/Users/HenrySoysa/Desktop/Ironhack/Week_5/Mid_bootcamp_project/nfl_venv/lib/python3.11/site-packages/sklearn/metrics/_classification.py:1471: UndefinedMetricWarning: Precision is ill-defined and being set to 0.0 due to no predicted samples. Use `zero_division` parameter to control this behavior.\n",
      "  _warn_prf(average, modifier, msg_start, len(result))\n"
     ]
    }
   ],
   "source": [
    "# Training model with saga as solver. \n",
    "from sklearn.linear_model import LogisticRegression\n",
    "\n",
    "classification = LogisticRegression(random_state=0, solver='saga',\n",
    "                  multi_class='auto')\n",
    "\n",
    "classification.fit(X_train_scaled_df, y_train)\n",
    "\n",
    "y_test_pred = classification.predict(X_test_scaled_df)\n",
    "\n",
    "from sklearn.metrics import accuracy_score\n",
    "\n",
    "print(\"The accuracy in the TEST set is: {:.2f}\".format(accuracy_score(y_test,y_pred_test)))\n",
    "print(\"The precision in the TEST set is: {:.2f}\".format(precision_score(y_test,y_pred_test)))\n",
    "print(\"The recall in the TEST set is: {:.2f}\".format(recall_score(y_test,y_pred_test)))\n",
    "print(\"The F1 in the TEST set is: {:.2f}\".format(f1_score(y_test,y_pred_test)))\n",
    "print(\"The Kappa in the TEST set is: {:.2f}\".format(cohen_kappa_score(y_test,y_pred_test)))"
   ]
  },
  {
   "cell_type": "code",
   "execution_count": 161,
   "id": "6cdd9aa7-99ba-416d-a65f-25e34fc787a2",
   "metadata": {},
   "outputs": [
    {
     "name": "stdout",
     "output_type": "stream",
     "text": [
      "The accuracy in the TEST set is: 0.92\n",
      "The precision in the TEST set is: 0.00\n",
      "The recall in the TEST set is: 0.00\n",
      "The F1 in the TEST set is: 0.00\n",
      "The Kappa in the TEST set is: 0.00\n"
     ]
    },
    {
     "name": "stderr",
     "output_type": "stream",
     "text": [
      "/Users/HenrySoysa/Desktop/Ironhack/Week_5/Mid_bootcamp_project/nfl_venv/lib/python3.11/site-packages/sklearn/metrics/_classification.py:1471: UndefinedMetricWarning: Precision is ill-defined and being set to 0.0 due to no predicted samples. Use `zero_division` parameter to control this behavior.\n",
      "  _warn_prf(average, modifier, msg_start, len(result))\n"
     ]
    }
   ],
   "source": [
    "# Training model wtih lbfgs as solver to see if there is any difference between scores. \n",
    "from sklearn.linear_model import LogisticRegression\n",
    "\n",
    "classification = LogisticRegression(random_state=0, solver='lbfgs',\n",
    "                  multi_class='auto')\n",
    "\n",
    "classification.fit(X_train_scaled_df, y_train)\n",
    "\n",
    "y_pred_test = classification.predict(X_test_scaled_df)\n",
    "\n",
    "from sklearn.metrics import accuracy_score\n",
    "\n",
    "print(\"The accuracy in the TEST set is: {:.2f}\".format(accuracy_score(y_test,y_pred_test)))\n",
    "print(\"The precision in the TEST set is: {:.2f}\".format(precision_score(y_test,y_pred_test)))\n",
    "print(\"The recall in the TEST set is: {:.2f}\".format(recall_score(y_test,y_pred_test)))\n",
    "print(\"The F1 in the TEST set is: {:.2f}\".format(f1_score(y_test,y_pred_test)))\n",
    "print(\"The Kappa in the TEST set is: {:.2f}\".format(cohen_kappa_score(y_test,y_pred_test)))"
   ]
  },
  {
   "cell_type": "code",
   "execution_count": 132,
   "id": "f253de87-74ba-400d-a11f-5c40f9e9c020",
   "metadata": {},
   "outputs": [
    {
     "data": {
      "image/png": "[encoded data removed]",
      "text/plain": [
       "<Figure size 640x480 with 2 Axes>"
      ]
     },
     "metadata": {},
     "output_type": "display_data"
    }
   ],
   "source": [
    "from sklearn.metrics import confusion_matrix, ConfusionMatrixDisplay\n",
    "\n",
    "cm_test = confusion_matrix(y_test, y_test_pred)\n",
    "\n",
    "disp = ConfusionMatrixDisplay(cm_test,display_labels=classification.classes_)\n",
    "disp.plot()\n",
    "plt.show()"
   ]
  },
  {
   "cell_type": "code",
   "execution_count": 167,
   "id": "bf8cbcad-c83a-4b76-b343-357b1cb0d5c3",
   "metadata": {},
   "outputs": [
    {
     "data": {
      "text/plain": [
       "sb_appearance\n",
       "False    44\n",
       "True      4\n",
       "Name: count, dtype: int64"
      ]
     },
     "execution_count": 167,
     "metadata": {},
     "output_type": "execute_result"
    },
    {
     "data": {
      "image/png": "[encoded data removed]",
      "text/plain": [
       "<Figure size 640x480 with 1 Axes>"
      ]
     },
     "metadata": {},
     "output_type": "display_data"
    }
   ],
   "source": [
    "# Looking at dataset imbalance. \n",
    "sns.countplot(data=defensive_df_appearance, x='sb_appearance')\n",
    "len(defensive_df_appearance.loc[defensive_df_appearance['sb_appearance'] == True])\n",
    "# Based on True values only seen in 6% of dataset, oversampling of true rows required. \n",
    "y_test.value_counts()"
   ]
  },
  {
   "cell_type": "markdown",
   "id": "83dbfa55-ffd1-419e-87dd-02aad7912aa1",
   "metadata": {},
   "source": [
    "#### Addressing imbalance of data for superbowl appearances and retraining logistic regression model"
   ]
  },
  {
   "cell_type": "code",
   "execution_count": 156,
   "id": "515b0bf4-65b8-4f55-9edd-725ce7bd17a2",
   "metadata": {},
   "outputs": [],
   "source": [
    "# Using SMOTE method to balance TRUE and FALSE values in sb_appearance column\n",
    "from imblearn.over_sampling import SMOTE\n",
    "\n",
    "sm = SMOTE(random_state=100,k_neighbors=5)\n",
    "\n",
    "X_train_SMOTE, y_train_SMOTE = sm.fit_resample(X_train_scaled_df, y_train)"
   ]
  },
  {
   "cell_type": "code",
   "execution_count": 164,
   "id": "a6e0353e-df49-4a6b-b665-eedf2e3fc1ff",
   "metadata": {},
   "outputs": [
    {
     "name": "stdout",
     "output_type": "stream",
     "text": [
      "112 212\n"
     ]
    },
    {
     "data": {
      "text/plain": [
       "sb_appearance\n",
       "False    106\n",
       "True     106\n",
       "Name: count, dtype: int64"
      ]
     },
     "execution_count": 164,
     "metadata": {},
     "output_type": "execute_result"
    }
   ],
   "source": [
    "print(len(X_train_scaled_df), len(X_train_SMOTE))\n",
    "y_train_SMOTE.value_counts()"
   ]
  },
  {
   "cell_type": "code",
   "execution_count": 157,
   "id": "94c1a1a6-d9bd-496b-a52e-5a29a15b5ac6",
   "metadata": {},
   "outputs": [],
   "source": [
    "# Re-running the logistic regression model with OVER sampled df for TRUE values. \n",
    "lr = LogisticRegression(max_iter=1000)\n",
    "lr.fit(X_train_SMOTE, y_train_SMOTE)\n",
    "y_pred_test_SMOTE = lr.predict(X_test_scaled_df)"
   ]
  },
  {
   "cell_type": "code",
   "execution_count": 158,
   "id": "f42d56db-0ae1-4951-ada3-2875b3ac4354",
   "metadata": {
    "scrolled": true
   },
   "outputs": [
    {
     "name": "stdout",
     "output_type": "stream",
     "text": [
      "The accuracy in the TEST set is: 0.71\n",
      "The precision in the TEST set is: 0.14\n",
      "The recall in the TEST set is: 0.50\n",
      "The F1 in the TEST set is: 0.22\n",
      "The Kappa in the TEST set is: 0.11\n"
     ]
    }
   ],
   "source": [
    "from sklearn.metrics import accuracy_score, precision_score, recall_score, f1_score, cohen_kappa_score\n",
    "\n",
    "print(\"The accuracy in the TEST set is: {:.2f}\".format(accuracy_score(y_test,y_pred_test_SMOTE)))\n",
    "print(\"The precision in the TEST set is: {:.2f}\".format(precision_score(y_test,y_pred_test_SMOTE)))\n",
    "print(\"The recall in the TEST set is: {:.2f}\".format(recall_score(y_test,y_pred_test_SMOTE)))\n",
    "print(\"The F1 in the TEST set is: {:.2f}\".format(f1_score(y_test,y_pred_test_SMOTE)))\n",
    "print(\"The Kappa in the TEST set is: {:.2f}\".format(cohen_kappa_score(y_test,y_pred_test_SMOTE)))"
   ]
  },
  {
   "cell_type": "code",
   "execution_count": 159,
   "id": "78d8f66d-3922-471a-8acb-d93c670fc367",
   "metadata": {},
   "outputs": [
    {
     "data": {
      "image/png": "[encoded data removed]",
      "text/plain": [
       "<Figure size 640x480 with 2 Axes>"
      ]
     },
     "metadata": {},
     "output_type": "display_data"
    }
   ],
   "source": [
    "cm_test = confusion_matrix(y_test, y_pred_test_SMOTE)\n",
    "\n",
    "disp = ConfusionMatrixDisplay(cm_test,display_labels=classification.classes_)\n",
    "disp.plot()\n",
    "plt.show()"
   ]
  },
  {
   "cell_type": "markdown",
   "id": "18df655f-c609-478f-894e-226cbeb46822",
   "metadata": {},
   "source": [
    "#### Training Logistic Regression Models for Super Bowl Win"
   ]
  },
  {
   "cell_type": "code",
   "execution_count": null,
   "id": "24f50bdd-f90c-425b-b420-8bedab12607e",
   "metadata": {},
   "outputs": [],
   "source": [
    "defensive_sb_win = defensive_df.loc[defensive_df['sb_win'] == 1].select_dtypes(np.number)"
   ]
  },
  {
   "cell_type": "code",
   "execution_count": 177,
   "id": "734eda99-af26-41f7-b780-28c4d7d28d97",
   "metadata": {},
   "outputs": [
    {
     "name": "stdout",
     "output_type": "stream",
     "text": [
      "year 0.0 1.0\n",
      "reception_fumble 2.0312898823041303 0.043901652337641026\n",
      "pass_attempt 2.1110632241713967 0.03634081820893282\n",
      "rush_att -2.7936812739817616 0.005856148534420825\n",
      "rush_td -1.998733864621806 0.04735223696124111\n",
      "3rd_md -2.01380378579999 0.04572736716254495\n"
     ]
    }
   ],
   "source": [
    "# identifying potential X candidates for winning in a super bowl\n",
    "# using significance level as 0.1 due to small size of dataset\n",
    "ttest_ind_2(defensive_df, 'sb_winner', True, False, 9, 0.1)"
   ]
  },
  {
   "cell_type": "code",
   "execution_count": 305,
   "id": "7d2aff52-079e-451d-b321-81f349608ff6",
   "metadata": {},
   "outputs": [],
   "source": [
    "potential_x_candidates_win_with_y = ['rush_att', 'reception_fumble', 'pass_attempt', '3rd_md', 'sb_winner']"
   ]
  },
  {
   "cell_type": "code",
   "execution_count": 306,
   "id": "13313433-ef18-406f-981e-64e8ab641bd6",
   "metadata": {},
   "outputs": [],
   "source": [
    "defensive_df_winner = defensive_df[potential_x_candidates_win_with_y]"
   ]
  },
  {
   "cell_type": "code",
   "execution_count": null,
   "id": "48079a7b-c95b-4812-bc0d-d61ed85df0c0",
   "metadata": {},
   "outputs": [],
   "source": []
  },
  {
   "cell_type": "markdown",
   "id": "36fe69ca-0a1e-4b47-b34f-8541fc8ca86d",
   "metadata": {},
   "source": [
    "### Logistic Regression for Defense winning in a superbowl"
   ]
  },
  {
   "cell_type": "code",
   "execution_count": 307,
   "id": "720fafa3-aa50-4d5e-8a61-86b073b9ce41",
   "metadata": {},
   "outputs": [],
   "source": [
    "# Split into X and y\n",
    "X = defensive_df_winner.drop(columns='sb_winner')\n",
    "y = defensive_df_winner['sb_winner']"
   ]
  },
  {
   "cell_type": "code",
   "execution_count": 308,
   "id": "e15b73c4-0292-44c3-a006-b527507dfe8a",
   "metadata": {},
   "outputs": [
    {
     "data": {
      "text/plain": [
       "(sb_winner\n",
       " False    47\n",
       " True      1\n",
       " Name: count, dtype: int64,\n",
       " sb_winner\n",
       " False    108\n",
       " True       4\n",
       " Name: count, dtype: int64)"
      ]
     },
     "execution_count": 308,
     "metadata": {},
     "output_type": "execute_result"
    }
   ],
   "source": [
    "# train test data split\n",
    "\n",
    "# checking y_split value counts to ensure there is enough data for the model to be trained on regarding super bowl winners and their corresponding statistics\n",
    "\n",
    "from sklearn.model_selection import train_test_split\n",
    "X_train, X_test, y_train, y_test = train_test_split(X, y, test_size=0.30, random_state=5)\n",
    "y_test.value_counts(), y_train.value_counts()"
   ]
  },
  {
   "cell_type": "code",
   "execution_count": 309,
   "id": "8b09057c-c8e0-4bec-a752-a9f24721f683",
   "metadata": {},
   "outputs": [],
   "source": [
    "# no categorical data in X. Only numerical. \n",
    "X_train_num = X_train.select_dtypes(np.number)\n",
    "X_test_num = X_test.select_dtypes(np.number)"
   ]
  },
  {
   "cell_type": "code",
   "execution_count": 310,
   "id": "8fed6cc6-501a-4e66-bf84-7e2f175535b8",
   "metadata": {},
   "outputs": [],
   "source": [
    "# No categorical column encoding required. "
   ]
  },
  {
   "cell_type": "code",
   "execution_count": 311,
   "id": "1a7461ec-fda4-4918-8372-bb358a1ee195",
   "metadata": {},
   "outputs": [
    {
     "data": {
      "text/html": [
       "<div>\n",
       "<style scoped>\n",
       "    .dataframe tbody tr th:only-of-type {\n",
       "        vertical-align: middle;\n",
       "    }\n",
       "\n",
       "    .dataframe tbody tr th {\n",
       "        vertical-align: top;\n",
       "    }\n",
       "\n",
       "    .dataframe thead th {\n",
       "        text-align: right;\n",
       "    }\n",
       "</style>\n",
       "<table border=\"1\" class=\"dataframe\">\n",
       "  <thead>\n",
       "    <tr style=\"text-align: right;\">\n",
       "      <th></th>\n",
       "      <th>rush_att</th>\n",
       "      <th>reception_fumble</th>\n",
       "      <th>pass_attempt</th>\n",
       "      <th>3rd_md</th>\n",
       "    </tr>\n",
       "  </thead>\n",
       "  <tbody>\n",
       "    <tr>\n",
       "      <th>4</th>\n",
       "      <td>0.029115</td>\n",
       "      <td>-0.251701</td>\n",
       "      <td>-0.266864</td>\n",
       "      <td>0.045085</td>\n",
       "    </tr>\n",
       "    <tr>\n",
       "      <th>133</th>\n",
       "      <td>0.211207</td>\n",
       "      <td>0.195749</td>\n",
       "      <td>0.379368</td>\n",
       "      <td>0.396358</td>\n",
       "    </tr>\n",
       "    <tr>\n",
       "      <th>136</th>\n",
       "      <td>1.763053</td>\n",
       "      <td>0.604037</td>\n",
       "      <td>-0.020996</td>\n",
       "      <td>2.106978</td>\n",
       "    </tr>\n",
       "    <tr>\n",
       "      <th>43</th>\n",
       "      <td>-0.482903</td>\n",
       "      <td>-0.251701</td>\n",
       "      <td>0.217110</td>\n",
       "      <td>-1.364456</td>\n",
       "    </tr>\n",
       "    <tr>\n",
       "      <th>124</th>\n",
       "      <td>-1.012615</td>\n",
       "      <td>0.604037</td>\n",
       "      <td>-1.627727</td>\n",
       "      <td>-0.876853</td>\n",
       "    </tr>\n",
       "  </tbody>\n",
       "</table>\n",
       "</div>"
      ],
      "text/plain": [
       "     rush_att  reception_fumble  pass_attempt    3rd_md\n",
       "4    0.029115         -0.251701     -0.266864  0.045085\n",
       "133  0.211207          0.195749      0.379368  0.396358\n",
       "136  1.763053          0.604037     -0.020996  2.106978\n",
       "43  -0.482903         -0.251701      0.217110 -1.364456\n",
       "124 -1.012615          0.604037     -1.627727 -0.876853"
      ]
     },
     "execution_count": 311,
     "metadata": {},
     "output_type": "execute_result"
    }
   ],
   "source": [
    "from sklearn.preprocessing import PowerTransformer\n",
    "\n",
    "trans = PowerTransformer()\n",
    "\n",
    "trans.fit(X_train_num)\n",
    "\n",
    "X_train_transf = trans.transform(X_train_num)\n",
    "X_test_transf = trans.transform(X_test_num)\n",
    "\n",
    "X_train_transf_df = pd.DataFrame(X_train_transf, columns=X_train_num.columns, index=X_train_num.index)\n",
    "X_test_transf_df = pd.DataFrame(X_test_transf, columns=X_train_num.columns, index=X_test_num.index)\n",
    "\n",
    "X_train_transf_df.head()"
   ]
  },
  {
   "cell_type": "code",
   "execution_count": 312,
   "id": "282b6820-46d8-482a-b319-8d90bcd1e9ca",
   "metadata": {},
   "outputs": [
    {
     "data": {
      "text/html": [
       "<div>\n",
       "<style scoped>\n",
       "    .dataframe tbody tr th:only-of-type {\n",
       "        vertical-align: middle;\n",
       "    }\n",
       "\n",
       "    .dataframe tbody tr th {\n",
       "        vertical-align: top;\n",
       "    }\n",
       "\n",
       "    .dataframe thead th {\n",
       "        text-align: right;\n",
       "    }\n",
       "</style>\n",
       "<table border=\"1\" class=\"dataframe\">\n",
       "  <thead>\n",
       "    <tr style=\"text-align: right;\">\n",
       "      <th></th>\n",
       "      <th>rush_att</th>\n",
       "      <th>reception_fumble</th>\n",
       "      <th>pass_attempt</th>\n",
       "      <th>3rd_md</th>\n",
       "    </tr>\n",
       "  </thead>\n",
       "  <tbody>\n",
       "    <tr>\n",
       "      <th>4</th>\n",
       "      <td>0.538273</td>\n",
       "      <td>0.392511</td>\n",
       "      <td>0.430389</td>\n",
       "      <td>0.568836</td>\n",
       "    </tr>\n",
       "    <tr>\n",
       "      <th>133</th>\n",
       "      <td>0.579092</td>\n",
       "      <td>0.488296</td>\n",
       "      <td>0.566720</td>\n",
       "      <td>0.632851</td>\n",
       "    </tr>\n",
       "    <tr>\n",
       "      <th>136</th>\n",
       "      <td>0.926966</td>\n",
       "      <td>0.575697</td>\n",
       "      <td>0.482258</td>\n",
       "      <td>0.944590</td>\n",
       "    </tr>\n",
       "    <tr>\n",
       "      <th>43</th>\n",
       "      <td>0.423495</td>\n",
       "      <td>0.392511</td>\n",
       "      <td>0.532490</td>\n",
       "      <td>0.311966</td>\n",
       "    </tr>\n",
       "    <tr>\n",
       "      <th>124</th>\n",
       "      <td>0.304750</td>\n",
       "      <td>0.575697</td>\n",
       "      <td>0.143299</td>\n",
       "      <td>0.400825</td>\n",
       "    </tr>\n",
       "  </tbody>\n",
       "</table>\n",
       "</div>"
      ],
      "text/plain": [
       "     rush_att  reception_fumble  pass_attempt    3rd_md\n",
       "4    0.538273          0.392511      0.430389  0.568836\n",
       "133  0.579092          0.488296      0.566720  0.632851\n",
       "136  0.926966          0.575697      0.482258  0.944590\n",
       "43   0.423495          0.392511      0.532490  0.311966\n",
       "124  0.304750          0.575697      0.143299  0.400825"
      ]
     },
     "execution_count": 312,
     "metadata": {},
     "output_type": "execute_result"
    }
   ],
   "source": [
    "from sklearn.preprocessing import MinMaxScaler\n",
    "\n",
    "scaler = MinMaxScaler()\n",
    "\n",
    "scaler.fit(X_train_transf_df)\n",
    "\n",
    "X_train_scaled =  scaler.transform(X_train_transf_df)\n",
    "X_test_scaled = scaler.transform(X_test_transf_df)\n",
    "\n",
    "X_train_scaled_df = pd.DataFrame(X_train_scaled, columns=X_train_transf_df.columns, index=X_train_transf_df.index)\n",
    "X_test_scaled_df = pd.DataFrame(X_test_scaled, columns=X_train_transf_df.columns, index=X_test_transf_df.index)\n",
    "\n",
    "X_train_scaled_df.head()"
   ]
  },
  {
   "cell_type": "markdown",
   "id": "5cd0e205-2e52-49a5-954a-d057810a98f0",
   "metadata": {},
   "source": [
    "####  Training Logistic Regression Models for Super Bowl Win"
   ]
  },
  {
   "cell_type": "code",
   "execution_count": 313,
   "id": "100f65b4-950d-4522-838e-3aebc0d8ce1b",
   "metadata": {},
   "outputs": [
    {
     "name": "stdout",
     "output_type": "stream",
     "text": [
      "The accuracy in the TEST set is: 0.98\n",
      "The precision in the TEST set is: 0.00\n",
      "The recall in the TEST set is: 0.00\n",
      "The F1 in the TEST set is: 0.00\n",
      "The Kappa in the TEST set is: 0.00\n"
     ]
    },
    {
     "name": "stderr",
     "output_type": "stream",
     "text": [
      "/Users/HenrySoysa/Desktop/Ironhack/Week_5/Mid_bootcamp_project/nfl_venv/lib/python3.11/site-packages/sklearn/metrics/_classification.py:1471: UndefinedMetricWarning: Precision is ill-defined and being set to 0.0 due to no predicted samples. Use `zero_division` parameter to control this behavior.\n",
      "  _warn_prf(average, modifier, msg_start, len(result))\n"
     ]
    }
   ],
   "source": [
    "# Training model with saga as solver. \n",
    "from sklearn.linear_model import LogisticRegression\n",
    "\n",
    "classification = LogisticRegression(random_state=0, solver='saga',\n",
    "                  multi_class='auto')\n",
    "\n",
    "classification.fit(X_train_scaled_df, y_train)\n",
    "\n",
    "y_pred_test = classification.predict(X_test_scaled_df)\n",
    "\n",
    "from sklearn.metrics import accuracy_score\n",
    "\n",
    "print(\"The accuracy in the TEST set is: {:.2f}\".format(accuracy_score(y_test,y_pred_test)))\n",
    "print(\"The precision in the TEST set is: {:.2f}\".format(precision_score(y_test,y_pred_test)))\n",
    "print(\"The recall in the TEST set is: {:.2f}\".format(recall_score(y_test,y_pred_test)))\n",
    "print(\"The F1 in the TEST set is: {:.2f}\".format(f1_score(y_test,y_pred_test)))\n",
    "print(\"The Kappa in the TEST set is: {:.2f}\".format(cohen_kappa_score(y_test,y_pred_test)))"
   ]
  },
  {
   "cell_type": "code",
   "execution_count": 314,
   "id": "36ba97f8-e4cd-4c05-8083-a64990cadeb8",
   "metadata": {},
   "outputs": [
    {
     "name": "stdout",
     "output_type": "stream",
     "text": [
      "The accuracy in the TEST set is: 0.98\n",
      "The precision in the TEST set is: 0.00\n",
      "The recall in the TEST set is: 0.00\n",
      "The F1 in the TEST set is: 0.00\n",
      "The Kappa in the TEST set is: 0.00\n"
     ]
    },
    {
     "name": "stderr",
     "output_type": "stream",
     "text": [
      "/Users/HenrySoysa/Desktop/Ironhack/Week_5/Mid_bootcamp_project/nfl_venv/lib/python3.11/site-packages/sklearn/metrics/_classification.py:1471: UndefinedMetricWarning: Precision is ill-defined and being set to 0.0 due to no predicted samples. Use `zero_division` parameter to control this behavior.\n",
      "  _warn_prf(average, modifier, msg_start, len(result))\n"
     ]
    }
   ],
   "source": [
    "# Training model wtih lbfgs as solver to see if there is any difference between scores. \n",
    "\n",
    "classification = LogisticRegression(random_state=0, solver='lbfgs',\n",
    "                  multi_class='auto')\n",
    "\n",
    "classification.fit(X_train_scaled_df, y_train)\n",
    "\n",
    "y_pred_test = classification.predict(X_test_scaled_df)\n",
    "\n",
    "from sklearn.metrics import accuracy_score\n",
    "\n",
    "print(\"The accuracy in the TEST set is: {:.2f}\".format(accuracy_score(y_test,y_pred_test)))\n",
    "print(\"The precision in the TEST set is: {:.2f}\".format(precision_score(y_test,y_pred_test)))\n",
    "print(\"The recall in the TEST set is: {:.2f}\".format(recall_score(y_test,y_pred_test)))\n",
    "print(\"The F1 in the TEST set is: {:.2f}\".format(f1_score(y_test,y_pred_test)))\n",
    "print(\"The Kappa in the TEST set is: {:.2f}\".format(cohen_kappa_score(y_test,y_pred_test)))"
   ]
  },
  {
   "cell_type": "code",
   "execution_count": 315,
   "id": "84dff490-b912-4ffc-9834-c1bbd02ecc2d",
   "metadata": {},
   "outputs": [
    {
     "data": {
      "image/png": "[encoded data removed]",
      "text/plain": [
       "<Figure size 640x480 with 2 Axes>"
      ]
     },
     "metadata": {},
     "output_type": "display_data"
    }
   ],
   "source": [
    "from sklearn.metrics import confusion_matrix, ConfusionMatrixDisplay\n",
    "\n",
    "cm_test = confusion_matrix(y_test, y_pred_test)\n",
    "\n",
    "disp = ConfusionMatrixDisplay(cm_test,display_labels=classification.classes_)\n",
    "disp.plot()\n",
    "plt.show()"
   ]
  },
  {
   "cell_type": "code",
   "execution_count": 316,
   "id": "477cbb05-ee8c-4875-87fe-264f86fe053e",
   "metadata": {},
   "outputs": [
    {
     "data": {
      "text/plain": [
       "(sb_winner\n",
       " False    47\n",
       " True      1\n",
       " Name: count, dtype: int64,\n",
       " sb_winner\n",
       " False    108\n",
       " True       4\n",
       " Name: count, dtype: int64)"
      ]
     },
     "execution_count": 316,
     "metadata": {},
     "output_type": "execute_result"
    },
    {
     "data": {
      "image/png": "[encoded data removed]",
      "text/plain": [
       "<Figure size 640x480 with 1 Axes>"
      ]
     },
     "metadata": {},
     "output_type": "display_data"
    }
   ],
   "source": [
    "# Looking at dataset imbalance. \n",
    "sns.countplot(data=defensive_df_winner, x='sb_winner')\n",
    "len(defensive_df_appearance.loc[defensive_df_winner['sb_winner'] == True])\n",
    "# Based on True values only seen in 6% of dataset, oversampling of true rows required. \n",
    "y_test.value_counts(), y_train.value_counts()"
   ]
  },
  {
   "cell_type": "markdown",
   "id": "cb58bb6b-4a53-4fa0-8bd6-67c5b81a1593",
   "metadata": {},
   "source": [
    "#### Addressing imbalance of data for superbowl appearances and retraining logistic regression model"
   ]
  },
  {
   "cell_type": "code",
   "execution_count": 317,
   "id": "da2d19ba-efb7-42f2-94a6-868b6c1e551a",
   "metadata": {},
   "outputs": [],
   "source": [
    "# Using SMOTE method to balance TRUE and FALSE values in sb_appearance column\n",
    "\n",
    "# Using k_neighbors = 2 here due to severely low sample size. \n",
    "# What this likely means, the model will likely be less accurate at predicting real scenarios of super bowl wins, unless more data from \n",
    "# past years is fed into the model. \n",
    "\n",
    "from imblearn.over_sampling import SMOTE\n",
    "\n",
    "sm = SMOTE(random_state=9, k_neighbors=3)\n",
    "\n",
    "X_train_SMOTE, y_train_SMOTE = sm.fit_resample(X_train_scaled_df, y_train)"
   ]
  },
  {
   "cell_type": "code",
   "execution_count": 318,
   "id": "dab3991c-7ff9-4ce7-b067-af07e3461aa5",
   "metadata": {},
   "outputs": [
    {
     "name": "stdout",
     "output_type": "stream",
     "text": [
      "112 216\n"
     ]
    },
    {
     "data": {
      "text/plain": [
       "sb_winner\n",
       "False    108\n",
       "True     108\n",
       "Name: count, dtype: int64"
      ]
     },
     "execution_count": 318,
     "metadata": {},
     "output_type": "execute_result"
    }
   ],
   "source": [
    "print(len(X_train_scaled_df), len(X_train_SMOTE))\n",
    "y_train_SMOTE.value_counts()"
   ]
  },
  {
   "cell_type": "code",
   "execution_count": 319,
   "id": "915cacb0-a538-4f5c-80d1-2e28c1924db7",
   "metadata": {},
   "outputs": [],
   "source": [
    "# Re-running the logistic regression model with OVER sampled df for TRUE values. \n",
    "lr = LogisticRegression(max_iter=1000)\n",
    "lr.fit(X_train_SMOTE, y_train_SMOTE)\n",
    "y_pred_test_SMOTE = lr.predict(X_test_scaled_df)"
   ]
  },
  {
   "cell_type": "code",
   "execution_count": 320,
   "id": "006a5b0c-ba02-452f-bca1-052c514aa9ab",
   "metadata": {
    "scrolled": true
   },
   "outputs": [
    {
     "name": "stdout",
     "output_type": "stream",
     "text": [
      "The accuracy in the TEST set is: 0.85\n",
      "The precision in the TEST set is: 0.12\n",
      "The recall in the TEST set is: 1.00\n",
      "The F1 in the TEST set is: 0.22\n",
      "The Kappa in the TEST set is: 0.19\n"
     ]
    }
   ],
   "source": [
    "from sklearn.metrics import accuracy_score, precision_score, recall_score, f1_score, cohen_kappa_score\n",
    "\n",
    "print(\"The accuracy in the TEST set is: {:.2f}\".format(accuracy_score(y_test,y_pred_test_SMOTE)))\n",
    "print(\"The precision in the TEST set is: {:.2f}\".format(precision_score(y_test,y_pred_test_SMOTE)))\n",
    "print(\"The recall in the TEST set is: {:.2f}\".format(recall_score(y_test,y_pred_test_SMOTE)))\n",
    "print(\"The F1 in the TEST set is: {:.2f}\".format(f1_score(y_test,y_pred_test_SMOTE)))\n",
    "print(\"The Kappa in the TEST set is: {:.2f}\".format(cohen_kappa_score(y_test,y_pred_test_SMOTE)))"
   ]
  },
  {
   "cell_type": "code",
   "execution_count": 321,
   "id": "f605b757-08dd-4ab2-b0e0-f1cbaf2c1c86",
   "metadata": {},
   "outputs": [
    {
     "data": {
      "image/png": "[encoded data removed]",
      "text/plain": [
       "<Figure size 640x480 with 2 Axes>"
      ]
     },
     "metadata": {},
     "output_type": "display_data"
    }
   ],
   "source": [
    "cm_test = confusion_matrix(y_test, y_pred_test_SMOTE)\n",
    "\n",
    "disp = ConfusionMatrixDisplay(cm_test,display_labels=classification.classes_)\n",
    "disp.plot()\n",
    "plt.show()"
   ]
  },
  {
   "cell_type": "markdown",
   "id": "3e8c70ce-800e-4117-9344-3e5395ae0b68",
   "metadata": {},
   "source": [
    "### Conclusion for predicting Super Bowl wins and appearances\n",
    "In conclusion of predicting super bowl wins and appearances for NFL teams based on their regular season defensive statistics, an overall kappa score for both models was quite low, and there had to be significant oversampling performed in order to improve overall accuracy and kappa score for the models. \n",
    "\n",
    "#### Super Bowl Winner Prediction\n",
    "Due to the 1 winner per year in the 5 years dataset, this makes the overall prediciton accuracy difficult to improve without additional years of data. \n",
    "However, what can be seen is the main variables for helping predict an NFL's teams likelihood to win a super bowl from defensive statistics are: \n",
    "\n",
    "- rush_att: Number of attempts from opposing teams who try to run the ball against the team's defence.\n",
    "- reception_fumble: Number of times the defence has caused a receiver to fumble (lose possession of) the ball after catching a pass. The assumption here being that the higher this number of reception fumbles, the higher the rate of turnovers from this team's defence, and then the lower the likelihood of this defence conceding points and the higher the chance of this defence winning the superbowl. \n",
    "- pass_attempt: Number of pass attempts against the team's defence. \n",
    "- 3rd_md: Number of 3rd downs converted against the team's defence. The assumption here is that the lower this statistic, the better the team's defence, and therefore the higher likelihood this team win's a super bowl\n",
    "\n",
    "#### Super Bowl Appearance Prediction\n",
    "Being able to play in a super bowl is the secondary goal of every NFL team, after of course winning said Super Bowl. As this dataset contained more super bowl appearances than super bowl winners from the same time frame, naturally, then it made sense the model was better able to come up with accurate predictions after oversampling with SMOTE and 3 k_nearest neighbors.\n",
    "\n",
    "The main determinants for being able to predict a team's super bowl appearance included: \n",
    "\n",
    "- rush_att: the number of rushing attempts that defence faced throughout the regular season. \n",
    "- rush_td: the number of rushing touchdowns that defence conceded throughou the regular season. \n",
    "- rec_yds: the number of reception yards that defence conceded throughout the season. \n",
    "- total_sack: the number of sacks recorded by the defence throughout the regular season.\n",
    "The assumptions being that all of these variables, apart from sacks which would be the opposite, would be that the lower the number for the defence, the higher the likelihood that the defence will be playing in the superbowl. "
   ]
  },
  {
   "cell_type": "code",
   "execution_count": null,
   "id": "e34220c7-e586-4726-b262-ee7402894fa6",
   "metadata": {},
   "outputs": [],
   "source": []
  }
 ],
 "metadata": {
  "kernelspec": {
   "display_name": "nfl_venv",
   "language": "python",
   "name": "nfl_venv"
  },
  "language_info": {
   "codemirror_mode": {
    "name": "ipython",
    "version": 3
   },
   "file_extension": ".py",
   "mimetype": "text/x-python",
   "name": "python",
   "nbconvert_exporter": "python",
   "pygments_lexer": "ipython3",
   "version": "3.11.5"
  }
 },
 "nbformat": 4,
 "nbformat_minor": 5
}
