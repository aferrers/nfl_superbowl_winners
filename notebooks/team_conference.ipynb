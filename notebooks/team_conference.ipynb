{
 "cells": [
  {
   "cell_type": "markdown",
   "id": "7d7e5a0d-12bc-44ef-8b66-84398d70442b",
   "metadata": {
    "jp-MarkdownHeadingCollapsed": true,
    "tags": []
   },
   "source": [
    "## Part i: Team Conference table prep"
   ]
  },
  {
   "cell_type": "code",
   "execution_count": null,
   "id": "729e5e42-b7e0-44fc-9e09-4a77f2907126",
   "metadata": {},
   "outputs": [],
   "source": [
    "#basic_college_football_stats.csv"
   ]
  },
  {
   "cell_type": "code",
   "execution_count": 124,
   "id": "ed1fa807-dcae-4cab-9550-75c114ec930a",
   "metadata": {
    "tags": []
   },
   "outputs": [],
   "source": [
    "import pandas as pd\n",
    "import numpy as np"
   ]
  },
  {
   "cell_type": "code",
   "execution_count": 125,
   "id": "9baafdb4-b1f9-4efb-af92-537409dde5f5",
   "metadata": {
    "tags": []
   },
   "outputs": [],
   "source": [
    "# import data\n",
    "data = pd.read_csv('../data/raw/basic_college_football_stats.csv')"
   ]
  },
  {
   "cell_type": "code",
   "execution_count": 131,
   "id": "33324655-9bfa-40f2-8540-6af1cc43b6ac",
   "metadata": {
    "tags": []
   },
   "outputs": [],
   "source": [
    "# define function\n",
    "def create_team_conference_df(df: pd.DataFrame) -> pd.DataFrame:\n",
    "    '''\n",
    "    this function takes a dataframe with team names and conference names and separates it into columns\n",
    "    for future mapping\n",
    "    input: pd.DataFrame\n",
    "    output: pd.DataFrame\n",
    "    '''\n",
    "    # create new dataframe, select team column\n",
    "    team_conference = pd.DataFrame(df['Team']) \n",
    "    \n",
    "    # create blank dataframe\n",
    "    team_conference_split = pd.DataFrame()\n",
    "    \n",
    "    # split team & conference\n",
    "    team_conference_split = team_conference['Team'].str.rsplit(pat=' (', n=1, expand=True)\n",
    "    \n",
    "    # rename columns\n",
    "    team_conference_split.columns = ['team_name', 'conference_name']\n",
    "    \n",
    "    # string improvement: replace the closing parenthesis, lowercase\n",
    "    team_conference_split['conference_name'] = team_conference_split['conference_name'].str.replace(')', '', n=1)\n",
    "    team_conference_split['conference_name']=team_conference_split['conference_name'].str.lower()\n",
    "    team_conference_split['team_name']=team_conference_split['team_name'].str.lower()\n",
    "\n",
    "    return team_conference_split\n",
    "\n",
    "    \n",
    "    "
   ]
  },
  {
   "cell_type": "code",
   "execution_count": 132,
   "id": "84df3a46-ccf6-4a24-ba22-7ad8028775f2",
   "metadata": {
    "tags": []
   },
   "outputs": [],
   "source": [
    "#call function\n",
    "team_conference = create_team_conference_df(data)"
   ]
  },
  {
   "cell_type": "code",
   "execution_count": 135,
   "id": "55f0bd9c-728e-45ae-8f81-016bb313851c",
   "metadata": {
    "tags": []
   },
   "outputs": [
    {
     "data": {
      "text/html": [
       "<div>\n",
       "<style scoped>\n",
       "    .dataframe tbody tr th:only-of-type {\n",
       "        vertical-align: middle;\n",
       "    }\n",
       "\n",
       "    .dataframe tbody tr th {\n",
       "        vertical-align: top;\n",
       "    }\n",
       "\n",
       "    .dataframe thead th {\n",
       "        text-align: right;\n",
       "    }\n",
       "</style>\n",
       "<table border=\"1\" class=\"dataframe\">\n",
       "  <thead>\n",
       "    <tr style=\"text-align: right;\">\n",
       "      <th></th>\n",
       "      <th>team_name</th>\n",
       "      <th>conference_name</th>\n",
       "      <th>team_name_matched</th>\n",
       "    </tr>\n",
       "  </thead>\n",
       "  <tbody>\n",
       "    <tr>\n",
       "      <th>0</th>\n",
       "      <td>tennessee</td>\n",
       "      <td>sec</td>\n",
       "      <td>tennessee</td>\n",
       "    </tr>\n",
       "    <tr>\n",
       "      <th>1</th>\n",
       "      <td>washington</td>\n",
       "      <td>pac-12</td>\n",
       "      <td>washington</td>\n",
       "    </tr>\n",
       "    <tr>\n",
       "      <th>2</th>\n",
       "      <td>southern california</td>\n",
       "      <td>pac-12</td>\n",
       "      <td>usc</td>\n",
       "    </tr>\n",
       "    <tr>\n",
       "      <th>3</th>\n",
       "      <td>ucla</td>\n",
       "      <td>pac-12</td>\n",
       "      <td>ucla</td>\n",
       "    </tr>\n",
       "    <tr>\n",
       "      <th>4</th>\n",
       "      <td>georgia</td>\n",
       "      <td>sec</td>\n",
       "      <td>georgia</td>\n",
       "    </tr>\n",
       "    <tr>\n",
       "      <th>...</th>\n",
       "      <td>...</td>\n",
       "      <td>...</td>\n",
       "      <td>...</td>\n",
       "    </tr>\n",
       "    <tr>\n",
       "      <th>126</th>\n",
       "      <td>rutgers</td>\n",
       "      <td>big ten</td>\n",
       "      <td>rutgers</td>\n",
       "    </tr>\n",
       "    <tr>\n",
       "      <th>127</th>\n",
       "      <td>colorado</td>\n",
       "      <td>pac-12</td>\n",
       "      <td>colorado</td>\n",
       "    </tr>\n",
       "    <tr>\n",
       "      <th>128</th>\n",
       "      <td>massachusetts</td>\n",
       "      <td>fbs independent</td>\n",
       "      <td>massachusetts</td>\n",
       "    </tr>\n",
       "    <tr>\n",
       "      <th>129</th>\n",
       "      <td>iowa</td>\n",
       "      <td>big ten</td>\n",
       "      <td>iowa</td>\n",
       "    </tr>\n",
       "    <tr>\n",
       "      <th>130</th>\n",
       "      <td>new mexico</td>\n",
       "      <td>mountain west</td>\n",
       "      <td>new mexico</td>\n",
       "    </tr>\n",
       "  </tbody>\n",
       "</table>\n",
       "<p>131 rows × 3 columns</p>\n",
       "</div>"
      ],
      "text/plain": [
       "               team_name  conference_name team_name_matched\n",
       "0              tennessee              sec         tennessee\n",
       "1             washington           pac-12        washington\n",
       "2    southern california           pac-12               usc\n",
       "3                   ucla           pac-12              ucla\n",
       "4                georgia              sec           georgia\n",
       "..                   ...              ...               ...\n",
       "126              rutgers          big ten           rutgers\n",
       "127             colorado           pac-12          colorado\n",
       "128        massachusetts  fbs independent     massachusetts\n",
       "129                 iowa          big ten              iowa\n",
       "130           new mexico    mountain west        new mexico\n",
       "\n",
       "[131 rows x 3 columns]"
      ]
     },
     "execution_count": 135,
     "metadata": {},
     "output_type": "execute_result"
    }
   ],
   "source": [
    "team_conference"
   ]
  },
  {
   "cell_type": "code",
   "execution_count": 134,
   "id": "773516a0-b165-43e4-90ae-6c1528d73aaf",
   "metadata": {
    "tags": []
   },
   "outputs": [],
   "source": [
    "team_conference['team_name_matched'] = team_conference['team_name'].replace({'southern california': 'usc', 'ole miss': 'mississippi', 'boston college': 'boston col.'\n",
    "    ,'nc state': 'north carolina st.', 'ucf': 'central florida', 'central mich.': 'central michigan',\n",
    "        'eastern mich.':  'eastern michigan'\n",
    "        })\n"
   ]
  },
  {
   "cell_type": "code",
   "execution_count": 35,
   "id": "34474d6b-8b23-473d-a63c-7c118128bf11",
   "metadata": {
    "tags": []
   },
   "outputs": [
    {
     "data": {
      "text/plain": [
       "conference_name\n",
       "sec                14\n",
       "big ten            14\n",
       "acc                14\n",
       "sun belt           14\n",
       "pac-12             12\n",
       "mac                12\n",
       "mountain west      12\n",
       "c-usa              11\n",
       "aac                11\n",
       "big 12             10\n",
       "fbs independent     7\n",
       "Name: count, dtype: int64"
      ]
     },
     "execution_count": 35,
     "metadata": {},
     "output_type": "execute_result"
    }
   ],
   "source": [
    "# check value counts\n",
    "team_conference['conference_name'].value_counts()"
   ]
  },
  {
   "cell_type": "code",
   "execution_count": 120,
   "id": "05b72ae8-74aa-4f08-ab5b-3fa5b042740f",
   "metadata": {
    "tags": []
   },
   "outputs": [],
   "source": [
    "#team_conference['team_name'].unique()"
   ]
  },
  {
   "cell_type": "markdown",
   "id": "5a9cf9c7-cabb-434b-83e7-b365e33ebdae",
   "metadata": {
    "tags": []
   },
   "source": [
    "## part ii: add conference column to superbowl winning rosters"
   ]
  },
  {
   "cell_type": "code",
   "execution_count": 164,
   "id": "9c902b3d-0066-44d0-bba4-7adfc88e8228",
   "metadata": {
    "tags": []
   },
   "outputs": [],
   "source": [
    "# import data\n",
    "data_rosters = pd.read_csv('../data/cleaned/all_superbowl_winning_rosters.csv')"
   ]
  },
  {
   "cell_type": "code",
   "execution_count": 165,
   "id": "c6814e1c-42f3-4c0b-8cc6-9eabc1fd683b",
   "metadata": {
    "tags": []
   },
   "outputs": [
    {
     "data": {
      "text/plain": [
       "array(['kansas', 'neworleans', 'greenbay', 'dallas', 'pittsburgh',\n",
       "       'newyork', 'baltimore', 'newengland', 'sanfrancisco', 'denver',\n",
       "       'philadelphia', 'tampa', 'washington', 'chicago', 'indiapolis',\n",
       "       'oakland', 'miami', 'sanfran', 'newyorkj', 'stlouis', 'la',\n",
       "       'seattle'], dtype=object)"
      ]
     },
     "execution_count": 165,
     "metadata": {},
     "output_type": "execute_result"
    }
   ],
   "source": [
    "data_rosters['team'].unique()"
   ]
  },
  {
   "cell_type": "code",
   "execution_count": 166,
   "id": "fbf8ea1c-e28b-4019-b895-33b87ef166b7",
   "metadata": {
    "tags": []
   },
   "outputs": [],
   "source": [
    "data_rosters['college']=data_rosters['college'].str.lower()"
   ]
  },
  {
   "cell_type": "code",
   "execution_count": 174,
   "id": "97ad39e7-d3f7-4292-9b67-4929cdc260f1",
   "metadata": {
    "tags": []
   },
   "outputs": [],
   "source": [
    "merge_table = pd.merge(\n",
    "    data_rosters, team_conference,\n",
    "    left_on='college', right_on='team_name_matched',\n",
    "    how='left', suffixes=('_left', '_right')\n",
    ")\n",
    "merge_table.drop('team_name_matched', axis=1, inplace=True)\n",
    "merge_table.drop('team_name', axis=1, inplace=True)"
   ]
  },
  {
   "cell_type": "code",
   "execution_count": 168,
   "id": "45d54b96-0d25-48db-a771-4e9213324715",
   "metadata": {
    "tags": []
   },
   "outputs": [
    {
     "data": {
      "text/plain": [
       "conference_name\n",
       "NaN                772\n",
       "big ten            465\n",
       "sec                427\n",
       "pac-12             403\n",
       "acc                395\n",
       "big 12             208\n",
       "aac                135\n",
       "mountain west      110\n",
       "fbs independent    103\n",
       "mac                 58\n",
       "sun belt            46\n",
       "c-usa               37\n",
       "Name: count, dtype: int64"
      ]
     },
     "execution_count": 168,
     "metadata": {},
     "output_type": "execute_result"
    }
   ],
   "source": [
    "merge_table['conference_name'].value_counts(dropna=False)"
   ]
  },
  {
   "cell_type": "code",
   "execution_count": 175,
   "id": "7120be09-edcc-4506-a92d-2cf52ca83858",
   "metadata": {
    "tags": []
   },
   "outputs": [
    {
     "data": {
      "text/plain": [
       "Index(['year', 'team', 'no.', 'player', 'age', 'position', 'games_played',\n",
       "       'games_started', 'weight', 'height', 'college', 'date_of_birth',\n",
       "       'years_in_league', 'approx_value', 'drafted_(tm/rnd/pick/yr)',\n",
       "       'player_additional', 'salary', 'drafted_team/undrafted',\n",
       "       'drafted_round', 'drafted_pick', 'drafted_year'],\n",
       "      dtype='object')"
      ]
     },
     "execution_count": 175,
     "metadata": {},
     "output_type": "execute_result"
    }
   ],
   "source": [
    "data_rosters.columns"
   ]
  },
  {
   "cell_type": "code",
   "execution_count": 176,
   "id": "faac7af4-f60b-4a2e-945e-ba8b5d50fac8",
   "metadata": {
    "tags": []
   },
   "outputs": [
    {
     "data": {
      "text/plain": [
       "Index(['year', 'team', 'no.', 'player', 'age', 'position', 'games_played',\n",
       "       'games_started', 'weight', 'height', 'college', 'date_of_birth',\n",
       "       'years_in_league', 'approx_value', 'drafted_(tm/rnd/pick/yr)',\n",
       "       'player_additional', 'salary', 'drafted_team/undrafted',\n",
       "       'drafted_round', 'drafted_pick', 'drafted_year', 'conference_name'],\n",
       "      dtype='object')"
      ]
     },
     "execution_count": 176,
     "metadata": {},
     "output_type": "execute_result"
    }
   ],
   "source": [
    "merge_table.columns"
   ]
  },
  {
   "cell_type": "markdown",
   "id": "b2629f72-a6ba-4c1f-95ad-d920d9457ad5",
   "metadata": {
    "jp-MarkdownHeadingCollapsed": true,
    "tags": []
   },
   "source": [
    "### Other checks and word/name matching"
   ]
  },
  {
   "cell_type": "code",
   "execution_count": 69,
   "id": "31a66968-09a0-4381-8136-a83b13f0150c",
   "metadata": {
    "tags": []
   },
   "outputs": [],
   "source": [
    "null_conference_name = merge_table[pd.isnull(merge_table['conference_name'])]"
   ]
  },
  {
   "cell_type": "code",
   "execution_count": 71,
   "id": "4d2d0a80-9b29-4495-9b69-943cdd83239f",
   "metadata": {
    "tags": []
   },
   "outputs": [
    {
     "data": {
      "text/plain": [
       "college\n",
       "usc                            64\n",
       "boston col.                    33\n",
       "mississippi                    20\n",
       "north carolina st.             18\n",
       "florida a&m                    17\n",
       "                               ..\n",
       "illinoisvanderbilt              1\n",
       "cerritos (ca)ucla               1\n",
       "bridgeportconnecticut           1\n",
       "wyomingbishop                   1\n",
       "wisconsinnorth carolina st.     1\n",
       "Name: count, Length: 338, dtype: int64"
      ]
     },
     "execution_count": 71,
     "metadata": {},
     "output_type": "execute_result"
    }
   ],
   "source": [
    "null_conference_name_ranked=null_conference_name['college'].value_counts()"
   ]
  },
  {
   "cell_type": "code",
   "execution_count": 73,
   "id": "7496cbe8-129b-4a3a-a744-bf5e37db77ca",
   "metadata": {
    "tags": []
   },
   "outputs": [
    {
     "data": {
      "text/plain": [
       "college\n",
       "usc                            64\n",
       "miami (fl)                     63\n",
       "penn st.                       62\n",
       "notre dame                     60\n",
       "michigan                       56\n",
       "                               ..\n",
       "east mississippi cctroy         1\n",
       "columbia                        1\n",
       "georgia militaryflorida         1\n",
       "utahbaylor                      1\n",
       "wisconsinnorth carolina st.     1\n",
       "Name: count, Length: 442, dtype: int64"
      ]
     },
     "execution_count": 73,
     "metadata": {},
     "output_type": "execute_result"
    }
   ],
   "source": [
    "merge_table['college'].value_counts()\n"
   ]
  },
  {
   "cell_type": "code",
   "execution_count": 87,
   "id": "299eab42-95fd-41fe-88c1-8550a04eac7c",
   "metadata": {
    "tags": []
   },
   "outputs": [],
   "source": [
    "#merge_table['college'].unique()\n"
   ]
  },
  {
   "cell_type": "code",
   "execution_count": 83,
   "id": "d4893bba-934c-4235-8ea4-0b260afb3396",
   "metadata": {
    "tags": []
   },
   "outputs": [
    {
     "data": {
      "text/html": [
       "<div>\n",
       "<style scoped>\n",
       "    .dataframe tbody tr th:only-of-type {\n",
       "        vertical-align: middle;\n",
       "    }\n",
       "\n",
       "    .dataframe tbody tr th {\n",
       "        vertical-align: top;\n",
       "    }\n",
       "\n",
       "    .dataframe thead th {\n",
       "        text-align: right;\n",
       "    }\n",
       "</style>\n",
       "<table border=\"1\" class=\"dataframe\">\n",
       "  <thead>\n",
       "    <tr style=\"text-align: right;\">\n",
       "      <th></th>\n",
       "      <th>team_name</th>\n",
       "    </tr>\n",
       "  </thead>\n",
       "  <tbody>\n",
       "    <tr>\n",
       "      <th>58</th>\n",
       "      <td>air force</td>\n",
       "    </tr>\n",
       "    <tr>\n",
       "      <th>79</th>\n",
       "      <td>akron</td>\n",
       "    </tr>\n",
       "    <tr>\n",
       "      <th>10</th>\n",
       "      <td>alabama</td>\n",
       "    </tr>\n",
       "    <tr>\n",
       "      <th>25</th>\n",
       "      <td>app state</td>\n",
       "    </tr>\n",
       "    <tr>\n",
       "      <th>19</th>\n",
       "      <td>arizona</td>\n",
       "    </tr>\n",
       "    <tr>\n",
       "      <th>...</th>\n",
       "      <td>...</td>\n",
       "    </tr>\n",
       "    <tr>\n",
       "      <th>56</th>\n",
       "      <td>west virginia</td>\n",
       "    </tr>\n",
       "    <tr>\n",
       "      <th>6</th>\n",
       "      <td>western ky.</td>\n",
       "    </tr>\n",
       "    <tr>\n",
       "      <th>124</th>\n",
       "      <td>western mich.</td>\n",
       "    </tr>\n",
       "    <tr>\n",
       "      <th>90</th>\n",
       "      <td>wisconsin</td>\n",
       "    </tr>\n",
       "    <tr>\n",
       "      <th>118</th>\n",
       "      <td>wyoming</td>\n",
       "    </tr>\n",
       "  </tbody>\n",
       "</table>\n",
       "<p>131 rows × 1 columns</p>\n",
       "</div>"
      ],
      "text/plain": [
       "         team_name\n",
       "58       air force\n",
       "79           akron\n",
       "10         alabama\n",
       "25       app state\n",
       "19         arizona\n",
       "..             ...\n",
       "56   west virginia\n",
       "6      western ky.\n",
       "124  western mich.\n",
       "90       wisconsin\n",
       "118        wyoming\n",
       "\n",
       "[131 rows x 1 columns]"
      ]
     },
     "execution_count": 83,
     "metadata": {},
     "output_type": "execute_result"
    }
   ],
   "source": [
    "team_conference[['team_name']].sort_values(by='team_name')"
   ]
  },
  {
   "cell_type": "code",
   "execution_count": 94,
   "id": "8ba89aca-980b-4cd4-8137-41ed0c45e401",
   "metadata": {
    "tags": []
   },
   "outputs": [
    {
     "data": {
      "text/plain": [
       "['usc',\n",
       " 'miami (fl)',\n",
       " 'penn st.',\n",
       " 'notre dame',\n",
       " 'michigan',\n",
       " 'lsu',\n",
       " 'tennessee',\n",
       " 'ucla',\n",
       " 'georgia',\n",
       " 'ohio st.',\n",
       " 'colorado',\n",
       " 'florida st.',\n",
       " 'oklahoma',\n",
       " 'oregon',\n",
       " 'alabama',\n",
       " 'washington',\n",
       " 'nebraska',\n",
       " 'florida',\n",
       " 'michigan st.',\n",
       " 'texas a&m',\n",
       " 'north carolina',\n",
       " 'clemson',\n",
       " 'purdue',\n",
       " 'pittsburgh',\n",
       " 'illinois',\n",
       " 'byu',\n",
       " 'arizona st.',\n",
       " 'boston col.',\n",
       " 'stanford',\n",
       " 'california',\n",
       " 'texas',\n",
       " 'auburn',\n",
       " 'wisconsin',\n",
       " 'iowa',\n",
       " 'tcu',\n",
       " 'syracuse',\n",
       " 'rutgers',\n",
       " 'kansas',\n",
       " 'minnesota',\n",
       " 'maryland',\n",
       " 'virginia',\n",
       " 'arkansas',\n",
       " 'louisville',\n",
       " 'south carolina',\n",
       " 'texas tech',\n",
       " 'utah',\n",
       " 'oklahoma st.',\n",
       " 'smu',\n",
       " 'cincinnati',\n",
       " 'mississippi']"
      ]
     },
     "execution_count": 94,
     "metadata": {},
     "output_type": "execute_result"
    }
   ],
   "source": [
    "top_50_list = merge_table['college'].value_counts().index[:50].to_list()\n",
    "top_50_list"
   ]
  },
  {
   "cell_type": "code",
   "execution_count": 103,
   "id": "a26fe6a4-552f-473c-b671-ad66569a462a",
   "metadata": {
    "tags": []
   },
   "outputs": [
    {
     "data": {
      "text/plain": [
       "college\n",
       "usc                         64\n",
       "boston col.                 33\n",
       "mississippi                 20\n",
       "north carolina st.          18\n",
       "florida a&m                 17\n",
       "grambling st.               16\n",
       "tennessee st.               13\n",
       "southern miss               13\n",
       "jackson st.                 11\n",
       "western illinois            11\n",
       "idaho                       11\n",
       "eastern michigan            11\n",
       "central florida             10\n",
       "south carolina st.           9\n",
       "texas-arlington              9\n",
       "south dakota st.             9\n",
       "texas southern               9\n",
       "alcorn st.                   8\n",
       "brown                        8\n",
       "southern                     8\n",
       "northwestern st. (la)        8\n",
       "texas a&m-commerce           8\n",
       "md-eastern shore             7\n",
       "central michigan             7\n",
       "cal poly-san luis obispo     7\n",
       "texas-el paso                7\n",
       "west texas a&m               7\n",
       "morgan st.                   7\n",
       "south florida                7\n",
       "western carolina             7\n",
       "ark-pine bluff               7\n",
       "texas a&m-kingsville         7\n",
       "weber st.                    6\n",
       "fort valley st.              6\n",
       "rhode island                 6\n",
       "north dakota st.             6\n",
       "alabama a&m                  6\n",
       "prairie view a&m             5\n",
       "howard                       5\n",
       "eastern illinois             5\n",
       "hofstra                      5\n",
       "connecticut                  5\n",
       "villanova                    5\n",
       "colgate                      5\n",
       "middle tenn. st.             5\n",
       "yale                         5\n",
       "northern colorado            5\n",
       "northern arizona             5\n",
       "new hampshire                5\n",
       "wichita st.                  5\n",
       "Name: count, dtype: int64"
      ]
     },
     "execution_count": 103,
     "metadata": {},
     "output_type": "execute_result"
    }
   ],
   "source": [
    "null_conference_name['college'].value_counts()[:50]"
   ]
  },
  {
   "cell_type": "code",
   "execution_count": 114,
   "id": "4858c0c8-3534-43ae-a3f0-3919e2254c3f",
   "metadata": {
    "tags": []
   },
   "outputs": [],
   "source": [
    "#team_conference.loc[~team_conference['team_name'].isin(top_50_list)]"
   ]
  },
  {
   "cell_type": "code",
   "execution_count": 118,
   "id": "6d31d7b3-af8f-491e-890a-20a5b713df2a",
   "metadata": {
    "tags": []
   },
   "outputs": [
    {
     "data": {
      "text/plain": [
       "Index(['team_name', 'conference_name'], dtype='object')"
      ]
     },
     "execution_count": 118,
     "metadata": {},
     "output_type": "execute_result"
    }
   ],
   "source": [
    "team_conference.columns"
   ]
  },
  {
   "cell_type": "code",
   "execution_count": null,
   "id": "90d7b5da-f463-46a1-ab84-dc00ee32974f",
   "metadata": {},
   "outputs": [],
   "source": [
    "# 'southern california', 'usc'\n",
    "# 'ole miss', 'mississippi'\n",
    "# 'boston college', 'boston col.'\n",
    "# 'nc state', 'north carolina st.'\n",
    "# 'ucf', 'central florida'\n",
    "# 'central mich.', 'central michigan'\n",
    "# 'eastern mich.', 'eastern michigan'\n",
    "\n",
    "\n",
    "#not on the list:\n",
    "#from rosters:\n",
    "#idaho: Big Sky Conference"
   ]
  },
  {
   "cell_type": "code",
   "execution_count": null,
   "id": "cea81c5d-0211-403f-9c61-aea5a8a04c52",
   "metadata": {
    "tags": []
   },
   "outputs": [],
   "source": [
    "#merge_table_2 = pd.merge(\n",
    "    team_conference, data_rosters,\n",
    "    left_on='team_name', right_on='college',\n",
    "    how='left', suffixes=('_left', '_right')\n",
    ")"
   ]
  },
  {
   "cell_type": "code",
   "execution_count": 112,
   "id": "dae23ff9-d52f-464a-a425-18a9c5d735b4",
   "metadata": {
    "tags": []
   },
   "outputs": [],
   "source": [
    "merge_table_2_b=merge_table_2[['team_name','conference_name','college']]"
   ]
  },
  {
   "cell_type": "code",
   "execution_count": 111,
   "id": "bdfb9c09-7127-42b9-ab7c-d69189358596",
   "metadata": {
    "tags": []
   },
   "outputs": [],
   "source": [
    "null_conference_name_conf = merge_table_2_b[pd.isnull(merge_table_2_b['college'])]"
   ]
  },
  {
   "cell_type": "code",
   "execution_count": 113,
   "id": "d609567b-f7d0-4ef0-871c-67d8f1402704",
   "metadata": {
    "tags": []
   },
   "outputs": [
    {
     "data": {
      "text/html": [
       "<div>\n",
       "<style scoped>\n",
       "    .dataframe tbody tr th:only-of-type {\n",
       "        vertical-align: middle;\n",
       "    }\n",
       "\n",
       "    .dataframe tbody tr th {\n",
       "        vertical-align: top;\n",
       "    }\n",
       "\n",
       "    .dataframe thead th {\n",
       "        text-align: right;\n",
       "    }\n",
       "</style>\n",
       "<table border=\"1\" class=\"dataframe\">\n",
       "  <thead>\n",
       "    <tr style=\"text-align: right;\">\n",
       "      <th></th>\n",
       "      <th>team_name</th>\n",
       "      <th>conference_name</th>\n",
       "      <th>college</th>\n",
       "    </tr>\n",
       "  </thead>\n",
       "  <tbody>\n",
       "    <tr>\n",
       "      <th>92</th>\n",
       "      <td>southern california</td>\n",
       "      <td>pac-12</td>\n",
       "      <td>NaN</td>\n",
       "    </tr>\n",
       "    <tr>\n",
       "      <th>235</th>\n",
       "      <td>western ky.</td>\n",
       "      <td>c-usa</td>\n",
       "      <td>NaN</td>\n",
       "    </tr>\n",
       "    <tr>\n",
       "      <th>236</th>\n",
       "      <td>ole miss</td>\n",
       "      <td>sec</td>\n",
       "      <td>NaN</td>\n",
       "    </tr>\n",
       "    <tr>\n",
       "      <th>370</th>\n",
       "      <td>utsa</td>\n",
       "      <td>c-usa</td>\n",
       "      <td>NaN</td>\n",
       "    </tr>\n",
       "    <tr>\n",
       "      <th>457</th>\n",
       "      <td>ucf</td>\n",
       "      <td>aac</td>\n",
       "      <td>NaN</td>\n",
       "    </tr>\n",
       "    <tr>\n",
       "      <th>480</th>\n",
       "      <td>ga. southern</td>\n",
       "      <td>sun belt</td>\n",
       "      <td>NaN</td>\n",
       "    </tr>\n",
       "    <tr>\n",
       "      <th>647</th>\n",
       "      <td>app state</td>\n",
       "      <td>sun belt</td>\n",
       "      <td>NaN</td>\n",
       "    </tr>\n",
       "    <tr>\n",
       "      <th>783</th>\n",
       "      <td>uab</td>\n",
       "      <td>c-usa</td>\n",
       "      <td>NaN</td>\n",
       "    </tr>\n",
       "    <tr>\n",
       "      <th>951</th>\n",
       "      <td>south alabama</td>\n",
       "      <td>sun belt</td>\n",
       "      <td>NaN</td>\n",
       "    </tr>\n",
       "    <tr>\n",
       "      <th>988</th>\n",
       "      <td>georgia st.</td>\n",
       "      <td>sun belt</td>\n",
       "      <td>NaN</td>\n",
       "    </tr>\n",
       "    <tr>\n",
       "      <th>1023</th>\n",
       "      <td>fla. atlantic</td>\n",
       "      <td>c-usa</td>\n",
       "      <td>NaN</td>\n",
       "    </tr>\n",
       "    <tr>\n",
       "      <th>1117</th>\n",
       "      <td>coastal carolina</td>\n",
       "      <td>sun belt</td>\n",
       "      <td>NaN</td>\n",
       "    </tr>\n",
       "    <tr>\n",
       "      <th>1349</th>\n",
       "      <td>south fla.</td>\n",
       "      <td>aac</td>\n",
       "      <td>NaN</td>\n",
       "    </tr>\n",
       "    <tr>\n",
       "      <th>1409</th>\n",
       "      <td>charlotte</td>\n",
       "      <td>c-usa</td>\n",
       "      <td>NaN</td>\n",
       "    </tr>\n",
       "    <tr>\n",
       "      <th>1420</th>\n",
       "      <td>utep</td>\n",
       "      <td>c-usa</td>\n",
       "      <td>NaN</td>\n",
       "    </tr>\n",
       "    <tr>\n",
       "      <th>1549</th>\n",
       "      <td>middle tenn.</td>\n",
       "      <td>c-usa</td>\n",
       "      <td>NaN</td>\n",
       "    </tr>\n",
       "    <tr>\n",
       "      <th>1550</th>\n",
       "      <td>niu</td>\n",
       "      <td>mac</td>\n",
       "      <td>NaN</td>\n",
       "    </tr>\n",
       "    <tr>\n",
       "      <th>1603</th>\n",
       "      <td>central mich.</td>\n",
       "      <td>mac</td>\n",
       "      <td>NaN</td>\n",
       "    </tr>\n",
       "    <tr>\n",
       "      <th>1667</th>\n",
       "      <td>army west point</td>\n",
       "      <td>fbs independent</td>\n",
       "      <td>NaN</td>\n",
       "    </tr>\n",
       "    <tr>\n",
       "      <th>1668</th>\n",
       "      <td>eastern mich.</td>\n",
       "      <td>mac</td>\n",
       "      <td>NaN</td>\n",
       "    </tr>\n",
       "    <tr>\n",
       "      <th>1903</th>\n",
       "      <td>southern miss.</td>\n",
       "      <td>sun belt</td>\n",
       "      <td>NaN</td>\n",
       "    </tr>\n",
       "    <tr>\n",
       "      <th>1986</th>\n",
       "      <td>nc state</td>\n",
       "      <td>acc</td>\n",
       "      <td>NaN</td>\n",
       "    </tr>\n",
       "    <tr>\n",
       "      <th>2024</th>\n",
       "      <td>ulm</td>\n",
       "      <td>sun belt</td>\n",
       "      <td>NaN</td>\n",
       "    </tr>\n",
       "    <tr>\n",
       "      <th>2081</th>\n",
       "      <td>fiu</td>\n",
       "      <td>c-usa</td>\n",
       "      <td>NaN</td>\n",
       "    </tr>\n",
       "    <tr>\n",
       "      <th>2117</th>\n",
       "      <td>boston college</td>\n",
       "      <td>acc</td>\n",
       "      <td>NaN</td>\n",
       "    </tr>\n",
       "    <tr>\n",
       "      <th>2134</th>\n",
       "      <td>uconn</td>\n",
       "      <td>fbs independent</td>\n",
       "      <td>NaN</td>\n",
       "    </tr>\n",
       "    <tr>\n",
       "      <th>2135</th>\n",
       "      <td>western mich.</td>\n",
       "      <td>mac</td>\n",
       "      <td>NaN</td>\n",
       "    </tr>\n",
       "  </tbody>\n",
       "</table>\n",
       "</div>"
      ],
      "text/plain": [
       "                team_name  conference_name college\n",
       "92    southern california           pac-12     NaN\n",
       "235           western ky.            c-usa     NaN\n",
       "236              ole miss              sec     NaN\n",
       "370                  utsa            c-usa     NaN\n",
       "457                   ucf              aac     NaN\n",
       "480          ga. southern         sun belt     NaN\n",
       "647             app state         sun belt     NaN\n",
       "783                   uab            c-usa     NaN\n",
       "951         south alabama         sun belt     NaN\n",
       "988           georgia st.         sun belt     NaN\n",
       "1023        fla. atlantic            c-usa     NaN\n",
       "1117     coastal carolina         sun belt     NaN\n",
       "1349           south fla.              aac     NaN\n",
       "1409            charlotte            c-usa     NaN\n",
       "1420                 utep            c-usa     NaN\n",
       "1549         middle tenn.            c-usa     NaN\n",
       "1550                  niu              mac     NaN\n",
       "1603        central mich.              mac     NaN\n",
       "1667      army west point  fbs independent     NaN\n",
       "1668        eastern mich.              mac     NaN\n",
       "1903       southern miss.         sun belt     NaN\n",
       "1986             nc state              acc     NaN\n",
       "2024                  ulm         sun belt     NaN\n",
       "2081                  fiu            c-usa     NaN\n",
       "2117       boston college              acc     NaN\n",
       "2134                uconn  fbs independent     NaN\n",
       "2135        western mich.              mac     NaN"
      ]
     },
     "execution_count": 113,
     "metadata": {},
     "output_type": "execute_result"
    }
   ],
   "source": [
    "null_conference_name_conf"
   ]
  },
  {
   "cell_type": "markdown",
   "id": "bf61f5e7-a02b-49c1-a1d9-1609f7c00da3",
   "metadata": {
    "tags": []
   },
   "source": [
    "### File export"
   ]
  },
  {
   "cell_type": "code",
   "execution_count": 199,
   "id": "fe28e191-0476-4899-920d-54792d69292c",
   "metadata": {
    "tags": []
   },
   "outputs": [],
   "source": [
    "file_path = '../data/cleaned/all_superbowl_winning_rosters_wconference.csv'\n",
    "\n",
    "merge_table.to_csv(file_path, index=False)"
   ]
  },
  {
   "cell_type": "markdown",
   "id": "592ecea3-daff-4837-a18b-00ce3987fca4",
   "metadata": {
    "tags": []
   },
   "source": [
    "## part iii: Visualization"
   ]
  },
  {
   "cell_type": "markdown",
   "id": "f6688394-a45e-40f3-8da6-096b3a61b5c0",
   "metadata": {},
   "source": [
    "### data prep"
   ]
  },
  {
   "cell_type": "code",
   "execution_count": 177,
   "id": "d0f1e530-eff9-4708-9598-12c06755f827",
   "metadata": {
    "tags": []
   },
   "outputs": [],
   "source": [
    "# Define a function to calculate the decade\n",
    "def get_decade(year):\n",
    "    return str(year)[:3] + \"0s\"\n",
    "\n",
    "# Apply the function to add the decade column\n",
    "merge_table['decade'] = merge_table['year'].apply(get_decade)\n"
   ]
  },
  {
   "cell_type": "code",
   "execution_count": 178,
   "id": "ed44c20f-98b6-4cec-957c-7915265ff110",
   "metadata": {
    "tags": []
   },
   "outputs": [
    {
     "data": {
      "text/html": [
       "<div>\n",
       "<style scoped>\n",
       "    .dataframe tbody tr th:only-of-type {\n",
       "        vertical-align: middle;\n",
       "    }\n",
       "\n",
       "    .dataframe tbody tr th {\n",
       "        vertical-align: top;\n",
       "    }\n",
       "\n",
       "    .dataframe thead th {\n",
       "        text-align: right;\n",
       "    }\n",
       "</style>\n",
       "<table border=\"1\" class=\"dataframe\">\n",
       "  <thead>\n",
       "    <tr style=\"text-align: right;\">\n",
       "      <th></th>\n",
       "      <th>decade</th>\n",
       "      <th>year</th>\n",
       "    </tr>\n",
       "  </thead>\n",
       "  <tbody>\n",
       "    <tr>\n",
       "      <th>0</th>\n",
       "      <td>2020s</td>\n",
       "      <td>2022</td>\n",
       "    </tr>\n",
       "    <tr>\n",
       "      <th>1</th>\n",
       "      <td>2020s</td>\n",
       "      <td>2022</td>\n",
       "    </tr>\n",
       "    <tr>\n",
       "      <th>2</th>\n",
       "      <td>2020s</td>\n",
       "      <td>2022</td>\n",
       "    </tr>\n",
       "    <tr>\n",
       "      <th>3</th>\n",
       "      <td>2020s</td>\n",
       "      <td>2022</td>\n",
       "    </tr>\n",
       "    <tr>\n",
       "      <th>4</th>\n",
       "      <td>2020s</td>\n",
       "      <td>2022</td>\n",
       "    </tr>\n",
       "    <tr>\n",
       "      <th>...</th>\n",
       "      <td>...</td>\n",
       "      <td>...</td>\n",
       "    </tr>\n",
       "    <tr>\n",
       "      <th>3154</th>\n",
       "      <td>1960s</td>\n",
       "      <td>1966</td>\n",
       "    </tr>\n",
       "    <tr>\n",
       "      <th>3155</th>\n",
       "      <td>1960s</td>\n",
       "      <td>1966</td>\n",
       "    </tr>\n",
       "    <tr>\n",
       "      <th>3156</th>\n",
       "      <td>1960s</td>\n",
       "      <td>1966</td>\n",
       "    </tr>\n",
       "    <tr>\n",
       "      <th>3157</th>\n",
       "      <td>1960s</td>\n",
       "      <td>1966</td>\n",
       "    </tr>\n",
       "    <tr>\n",
       "      <th>3158</th>\n",
       "      <td>1960s</td>\n",
       "      <td>1966</td>\n",
       "    </tr>\n",
       "  </tbody>\n",
       "</table>\n",
       "<p>3159 rows × 2 columns</p>\n",
       "</div>"
      ],
      "text/plain": [
       "     decade  year\n",
       "0     2020s  2022\n",
       "1     2020s  2022\n",
       "2     2020s  2022\n",
       "3     2020s  2022\n",
       "4     2020s  2022\n",
       "...     ...   ...\n",
       "3154  1960s  1966\n",
       "3155  1960s  1966\n",
       "3156  1960s  1966\n",
       "3157  1960s  1966\n",
       "3158  1960s  1966\n",
       "\n",
       "[3159 rows x 2 columns]"
      ]
     },
     "execution_count": 178,
     "metadata": {},
     "output_type": "execute_result"
    }
   ],
   "source": [
    "merge_table[['decade','year']]"
   ]
  },
  {
   "cell_type": "code",
   "execution_count": 179,
   "id": "6610e440-d4f5-4a42-8098-47ec6d2cf5c9",
   "metadata": {
    "tags": []
   },
   "outputs": [
    {
     "data": {
      "text/plain": [
       "Index(['year', 'team', 'no.', 'player', 'age', 'position', 'games_played',\n",
       "       'games_started', 'weight', 'height', 'college', 'date_of_birth',\n",
       "       'years_in_league', 'approx_value', 'drafted_(tm/rnd/pick/yr)',\n",
       "       'player_additional', 'salary', 'drafted_team/undrafted',\n",
       "       'drafted_round', 'drafted_pick', 'drafted_year', 'conference_name',\n",
       "       'decade'],\n",
       "      dtype='object')"
      ]
     },
     "execution_count": 179,
     "metadata": {},
     "output_type": "execute_result"
    }
   ],
   "source": [
    "merge_table.columns"
   ]
  },
  {
   "cell_type": "code",
   "execution_count": null,
   "id": "5fa66e5a-7261-4b93-880b-e27ecdb234fa",
   "metadata": {},
   "outputs": [],
   "source": []
  },
  {
   "cell_type": "code",
   "execution_count": null,
   "id": "56d0a410-ffde-43ff-93c7-ca129f1b3199",
   "metadata": {
    "tags": []
   },
   "outputs": [],
   "source": [
    "import seaborn as sns\n",
    "sns.swarmplot(x = merge_table.loc[merge_table['decade'] == '1990s']['team'], y = merge_table['conference_name'])"
   ]
  },
  {
   "cell_type": "code",
   "execution_count": 198,
   "id": "62506e06-277f-42dc-84da-1dc936590a35",
   "metadata": {
    "tags": []
   },
   "outputs": [
    {
     "data": {
      "text/plain": [
       "<Axes: xlabel='years_in_league', ylabel='decade'>"
      ]
     },
     "execution_count": 198,
     "metadata": {},
     "output_type": "execute_result"
    },
    {
     "data": {
      "image/png": "[encoded data removed]",
      "text/plain": [
       "<Figure size 640x480 with 1 Axes>"
      ]
     },
     "metadata": {},
     "output_type": "display_data"
    }
   ],
   "source": [
    "import seaborn as sns\n",
    "sns.stripplot(x = merge_table['years_in_league'], y = merge_table['decade'])"
   ]
  },
  {
   "cell_type": "code",
   "execution_count": 182,
   "id": "f4c58469-d450-40af-8dbf-108fa6a700a6",
   "metadata": {
    "tags": []
   },
   "outputs": [
    {
     "data": {
      "text/plain": [
       "<Axes: xlabel='count', ylabel='college'>"
      ]
     },
     "execution_count": 182,
     "metadata": {},
     "output_type": "execute_result"
    },
    {
     "data": {
      "image/png": "[encoded data removed]",
      "text/plain": [
       "<Figure size 640x480 with 1 Axes>"
      ]
     },
     "metadata": {},
     "output_type": "display_data"
    }
   ],
   "source": [
    "import seaborn as sns\n",
    "sns.countplot(merge_table['college'])"
   ]
  },
  {
   "cell_type": "code",
   "execution_count": 148,
   "id": "ea5b126e-881e-4fcf-a0c6-74476cfbe8f6",
   "metadata": {
    "tags": []
   },
   "outputs": [
    {
     "data": {
      "text/plain": [
       "<Axes: xlabel='count', ylabel='conference_name'>"
      ]
     },
     "execution_count": 148,
     "metadata": {},
     "output_type": "execute_result"
    },
    {
     "data": {
      "image/png": "[encoded data removed]",
      "text/plain": [
       "<Figure size 640x480 with 1 Axes>"
      ]
     },
     "metadata": {},
     "output_type": "display_data"
    }
   ],
   "source": [
    "import seaborn as sns\n",
    "sns.countplot(merge_table['conference_name'])"
   ]
  },
  {
   "cell_type": "code",
   "execution_count": null,
   "id": "082f4cd8-4a9a-44c9-93e3-bf7d1e2ddb05",
   "metadata": {},
   "outputs": [],
   "source": []
  }
 ],
 "metadata": {
  "kernelspec": {
   "display_name": "venv_sbw",
   "language": "python",
   "name": "venv_sbw"
  },
  "language_info": {
   "codemirror_mode": {
    "name": "ipython",
    "version": 3
   },
   "file_extension": ".py",
   "mimetype": "text/x-python",
   "name": "python",
   "nbconvert_exporter": "python",
   "pygments_lexer": "ipython3",
   "version": "3.11.5"
  }
 },
 "nbformat": 4,
 "nbformat_minor": 5
}
